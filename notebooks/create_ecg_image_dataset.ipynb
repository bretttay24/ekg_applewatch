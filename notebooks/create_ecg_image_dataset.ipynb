{
 "cells": [
  {
   "cell_type": "markdown",
   "id": "fbdf1d2b",
   "metadata": {},
   "source": [
    "# Goal of this notebook: Create .png images of Lead 1 EKGs to train Convelutional Neural Network(CNN)\n",
    "**- Use CSV file created from notebook 'create_ecg_csv_extract_lead_1.ipynb'  with format [file_name, rhythm, lead_1_data].**\n",
    "\n",
    "**Process:**\n",
    "\n",
    "**1. Create an effective way to graph and visualize lead_1_data to represent and ECG.**\n",
    "\n",
    "**2. Apply the effective visualization to each row of lead_1_data to represent an ECG.**\n",
    "\n",
    "**3. Save the graphed ECG as a PNG images to 'ecg_image_dataset' be used in a Covelutional Neural Network.**\n",
    "\n",
    "-- Saved images will have the format \"{file_name}_rhythm_label_{rhythm}.png\" and saved to \"ecg_images_dataset\" file. I am hopeful that attaching the rhythm label in the file name will help with making it easier if only using pictures to extract label.\n",
    "\n",
    "-- The Original CSV will be available to map file name to rhythm"
   ]
  },
  {
   "cell_type": "markdown",
   "id": "2a0013ec",
   "metadata": {},
   "source": [
    "**Dataset Citation:**\n",
    "\n",
    "Zheng, Jianwei; Rakovski, Cyril; Danioko, Sidy; Zhang, Jianming; Yao, Hai; Hangyuan, Guo (2019). A 12-lead electrocardiogram database for arrhythmia research covering more than 10,000 patients. figshare. Collection. https://doi.org/10.6084/m9.figshare.c.4560497\n",
    "\n",
    "\n",
    "Zheng, Jianwei (2019). ECGDataDenoised.zip. figshare. Dataset. https://doi.org/10.6084/m9.figshare.8378291.v1\n",
    "\n",
    "\n",
    "Zheng, Jianwei (2019). Diagnostics.xlsx. figshare. Dataset. https://doi.org/10.6084/m9.figshare.8360408.v2"
   ]
  },
  {
   "cell_type": "markdown",
   "id": "6841a86a",
   "metadata": {},
   "source": [
    "## Import packages"
   ]
  },
  {
   "cell_type": "code",
   "execution_count": null,
   "id": "defb215f",
   "metadata": {},
   "outputs": [],
   "source": [
    "import pandas as pd\n",
    "import numpy as np\n",
    "import matplotlib.pyplot as plt\n",
    "import ast\n",
    "import os\n",
    "from tqdm import tqdm "
   ]
  },
  {
   "cell_type": "markdown",
   "id": "3c584130",
   "metadata": {},
   "source": [
    "## Create ekg_df from file path"
   ]
  },
  {
   "cell_type": "code",
   "execution_count": null,
   "id": "6276a8e1",
   "metadata": {},
   "outputs": [],
   "source": [
    "# Pass the file path to the processed_ekg_data.csv \n",
    "# This was created from the notebook 'create_ecg_csv_extract_lead_1.ipynb'\n",
    "file_path = r'pass_your_own_file_paht_to/processed_ekg_data.csv'  # !! pass your own created path !!\n",
    "\n",
    "# Create Pandas Dataframe from file path\n",
    "ekg_df = pd.read_csv(file_path)\n",
    "ekg_df.head(15)                # Evaluate head of created df"
   ]
  },
  {
   "cell_type": "markdown",
   "id": "4c79526f",
   "metadata": {},
   "source": [
    "## Evaluate dataframe"
   ]
  },
  {
   "cell_type": "code",
   "execution_count": null,
   "id": "8a7aa9a0",
   "metadata": {},
   "outputs": [],
   "source": [
    "ekg_df.tail(50) # Evaluate tail of df. I found that many ekg values were just [0,0,0,0,0,0, etc..]"
   ]
  },
  {
   "cell_type": "markdown",
   "id": "2ca102f4",
   "metadata": {},
   "source": [
    "Above the last 40 values have only zeros. I investigated this and looked at the plots that graphed when I ran this notebook initially. Each png was a flatline of 0. I am assuming there was an issue with the transfer of the last 40 files when I downloaded the dataset. 10604 labeled ECG readings each 10 seconds long should be good.  "
   ]
  },
  {
   "cell_type": "code",
   "execution_count": null,
   "id": "94909d39",
   "metadata": {},
   "outputs": [],
   "source": [
    "ekg_df = ekg_df[:10604]  # I redifined the ekg_df to exclude the faulty tails"
   ]
  },
  {
   "cell_type": "code",
   "execution_count": null,
   "id": "488d5a1d",
   "metadata": {},
   "outputs": [],
   "source": [
    "ekg_df.tail()  # Ensure ekg_df tail has values"
   ]
  },
  {
   "cell_type": "code",
   "execution_count": null,
   "id": "4ae6c75a",
   "metadata": {},
   "outputs": [],
   "source": [
    "ekg_df.info()"
   ]
  },
  {
   "cell_type": "markdown",
   "id": "03c153e5",
   "metadata": {},
   "source": [
    "**Currently the lead_1_data are a list of floats stored as a string. Change string values to list of floats in new column.**\n",
    "- This will make values accessible to graph."
   ]
  },
  {
   "cell_type": "code",
   "execution_count": null,
   "id": "42b4c5d3",
   "metadata": {},
   "outputs": [],
   "source": [
    "ekg_df['lead 1 lists'] = ekg_df['lead_1_data'].apply(ast.literal_eval) # This creates a new column 'lead 1 lists' \n",
    "                                                                       # It stores the floats from 'lead_1_data' that are stored as a string"
   ]
  },
  {
   "cell_type": "code",
   "execution_count": null,
   "id": "eaf2188a",
   "metadata": {},
   "outputs": [],
   "source": [
    "ekg_df.head()  # Evaluate new column"
   ]
  },
  {
   "cell_type": "markdown",
   "id": "4891e18e",
   "metadata": {},
   "source": [
    "# Colored Red Line Format of Graphed EKGs Extracted From Lead 1"
   ]
  },
  {
   "cell_type": "code",
   "execution_count": null,
   "id": "ad5c72cd",
   "metadata": {},
   "outputs": [],
   "source": [
    "# Select the data from the first row (iloc[0])\n",
    "first_row_data = ekg_df['lead 1 lists'].iloc[0]\n",
    "\n",
    "# -------- Graph X -Tick Calculations -------- \n",
    "# --- Goal to make consistent with ECG paper ---\n",
    "SAMPLES_PER_SECOND = 500                         # Since the sampling rate is 500 readings per second\n",
    "small_x_sec_tick = 500 * 0.04                    # ECG paper has small red ticks along x axis every 0.04 seconds (20 samples)\n",
    "larger_x_sec_tick = small_x_sec_tick * 5         # ECG paper has a bit thicker red ticks along x axis every 0.2 seconds (100 samples)\n",
    "                                                 # Five thicker red ticks equals 1 second (500 samples)\n",
    "max_time = 10.4\n",
    "min_time = -0.4\n",
    "\n",
    "# -------- Graph Y-ticks calculations -------- \n",
    "# --- The ECGs in the datasets provided in the papers and the EKGs on Apple watches are measured in microvolts ---\n",
    "# --- Most hosptial ECG are in millivolts not microvolts --- \n",
    "# --- Each y axis small tick is typically 0.1 millivolt which is equal to 100 microvolts ---\n",
    "# --- Each y axis thicker tick is typically 0.5 millivolts which is equal to 500 microvolts ---\n",
    "# --- These voltage perameters scales can be enhanced and changed but those are the typical scales on ecg paper ---\n",
    "\n",
    "small_x_microvolt_tick = 100      # normal ECG paper lines would be 0.1 millivolt which is equal to 100 microvolts\n",
    "larger_x_microvolt_tick = 500     # normal ECG paper lines would be 0.5 millivolt which is equal to 500 microvolts\n",
    "\n",
    "max_microvolts = 800\n",
    "min_microvolts = -600\n",
    "\n",
    "# Create the new x-axis representing time in seconds\n",
    "# It will go from 0 to 10 seconds ((5000 samples) / (500 samples/sec))\n",
    "num_samples = len(first_row_data)\n",
    "time_axis = np.arange(num_samples) / SAMPLES_PER_SECOND\n",
    "\n",
    "# Create a single plot for the first row\n",
    "plt.figure(figsize=(14, 4))\n",
    "\n",
    "# Small lines every 0.04 seconds\n",
    "x_small_ticks = np.arange(min_time, max_time + 0.2, 0.04)\n",
    "for x_pos in x_small_ticks:\n",
    "    plt.axvline(x=x_pos, color='pink', linestyle='-', linewidth=0.5, zorder=0)\n",
    "\n",
    "# Thick lines every 0.2 seconds\n",
    "x_thick_ticks = np.arange(min_time, max_time, 0.2) \n",
    "for x_pos in x_thick_ticks:\n",
    "    plt.axvline(x=x_pos, color='red', linestyle='-', linewidth=1, zorder=0)\n",
    "\n",
    "# Horizontal lines (Voltage)\n",
    "# Pink lines every 0.1 mV / 100 microvolts\n",
    "y_pink_ticks = np.arange(min_microvolts, max_microvolts, 100) \n",
    "for y_pos in y_pink_ticks:\n",
    "    plt.axhline(y=y_pos, color='pink', linestyle='-', linewidth=0.5, zorder=0)\n",
    "\n",
    "# Red lines every 0.5 mV (3x thicker)\n",
    "y_red_ticks = np.arange(min_microvolts, max_microvolts, 500) \n",
    "for y_pos in y_red_ticks:\n",
    "    plt.axhline(y=y_pos, color='red', linestyle='-', linewidth=1, zorder=0)\n",
    "\n",
    "plt.plot(time_axis, first_row_data)\n",
    "\n",
    "\n",
    "plt.title('EKG Data (Lead 1)')\n",
    "plt.xlabel('Time (seconds)')\n",
    "plt.ylabel('Votltage (microvolts)')\n",
    "plt.xlim([min_time, max_time])\n",
    "plt.ylim([min_microvolts, max_microvolts])\n",
    "plt.xticks(np.arange(0,11,1))\n",
    "plt.grid('both', 'both')\n",
    "plt.show()\n",
    "\n",
    "\n",
    "# Save the plot to a file\n",
    "# Uncomment below to save \n",
    "#plt.savefig('first_row_ekg_plot.png')"
   ]
  },
  {
   "cell_type": "markdown",
   "id": "ec2fa51d",
   "metadata": {},
   "source": [
    "# No Colored Line Format of Graphed EKGs Extracted from Lead 1"
   ]
  },
  {
   "cell_type": "code",
   "execution_count": null,
   "id": "7e15ff3e",
   "metadata": {},
   "outputs": [],
   "source": [
    "# Select the data from the first row (iloc[0])\n",
    "first_row_data = ekg_df['lead 1 lists'].iloc[0]\n",
    "\n",
    "# -------- Graph X -Tick Calculations -------- \n",
    "# --- Goal to make consistent with ECG paper ---\n",
    "SAMPLES_PER_SECOND = 500                         # Since the sampling rate is 500 readings per second\n",
    "max_time = 10.4\n",
    "min_time = -0.4\n",
    "\n",
    "max_microvolts = 800\n",
    "min_microvolts = -600\n",
    "\n",
    "# Create the new x-axis representing time in seconds\n",
    "# It will go from 0 to 10 seconds ((5000 samples) / (500 samples/sec))\n",
    "num_samples = len(first_row_data)\n",
    "time_axis = np.arange(num_samples) / SAMPLES_PER_SECOND\n",
    "\n",
    "# Create a single plot for the first row\n",
    "plt.figure(figsize=(14, 4))\n",
    "\n",
    "plt.plot(time_axis, first_row_data)\n",
    "plt.title('EKG Data (Lead 1)')\n",
    "plt.xlabel('Time (seconds)')\n",
    "plt.ylabel('Votltage (microvolts)')\n",
    "plt.xlim([min_time, max_time])\n",
    "plt.ylim([min_microvolts, max_microvolts])\n",
    "plt.xticks(np.arange(0,11,1))\n",
    "plt.show()\n",
    "# Save the plot to a file\n",
    "#plt.savefig('first_row_ekg_plot.png')"
   ]
  },
  {
   "cell_type": "markdown",
   "id": "d36b391e",
   "metadata": {},
   "source": [
    "# Plot Each **Colored** Line Lead 1 Reading and Save Each as PNG File\n",
    "**Uncomment to run cell, but you will make a lot of files**"
   ]
  },
  {
   "cell_type": "code",
   "execution_count": null,
   "id": "6c3a0119",
   "metadata": {},
   "outputs": [],
   "source": [
    "\n",
    "# # 1. Define the directory to save your images\n",
    "# output_dir = 'ecg_images_dataset'\n",
    "# os.makedirs(output_dir, exist_ok=True) # Create the directory if it doesn't exist\n",
    "\n",
    "# # 2. Loop through every row in the DataFrame with a progress bar\n",
    "# for i in tqdm(range(9483, len(ekg_df)), desc=\"Generating EKG Images\"):\n",
    "    \n",
    "#     # -------- Get Data for the Current Row --------\n",
    "#     ekg_signal_data = ekg_df['lead 1 lists'].iloc[i]\n",
    "#     file_name = ekg_df['file_name'].iloc[i]\n",
    "#     rhythm = ekg_df['rhythm'].iloc[i]\n",
    "    \n",
    "#     # -------- Construct the Dynamic Filename --------\n",
    "#     # Example: ekg_images/file_00001rhythmAFib.png\n",
    "#     image_filename = f\"{file_name}_rhythm_label_{rhythm}.png\"\n",
    "#     full_path = os.path.join(output_dir, image_filename)\n",
    "\n",
    "#     # -------- Graphing Code (from your prompt) --------\n",
    "#     # Constants\n",
    "#     SAMPLES_PER_SECOND = 500\n",
    "#     max_time = 10.4\n",
    "#     min_time = -0.4\n",
    "#     max_microvolts = 800\n",
    "#     min_microvolts = -600\n",
    "\n",
    "#     # Create the time axis\n",
    "#     num_samples = len(ekg_signal_data)\n",
    "#     time_axis = np.arange(num_samples) / SAMPLES_PER_SECOND\n",
    "\n",
    "#     # Create the plot figure\n",
    "#     fig = plt.figure(figsize=(14, 4))\n",
    "\n",
    "#     # Draw grid lines\n",
    "#     x_small_ticks = np.arange(min_time, max_time, 0.04)\n",
    "#     for x_pos in x_small_ticks:\n",
    "#         plt.axvline(x=x_pos, color='pink', linestyle='-', linewidth=0.5, zorder=0)\n",
    "#     x_thick_ticks = np.arange(min_time, max_time, 0.2)\n",
    "#     for x_pos in x_thick_ticks:\n",
    "#         plt.axvline(x=x_pos, color='red', linestyle='-', linewidth=1, zorder=0)\n",
    "#     y_pink_ticks = np.arange(min_microvolts, max_microvolts, 100)\n",
    "#     for y_pos in y_pink_ticks:\n",
    "#         plt.axhline(y=y_pos, color='pink', linestyle='-', linewidth=0.5, zorder=0)\n",
    "#     y_red_ticks = np.arange(min_microvolts, max_microvolts, 500)\n",
    "#     for y_pos in y_red_ticks:\n",
    "#         plt.axhline(y=y_pos, color='red', linestyle='-', linewidth=1, zorder=0)\n",
    "\n",
    "#     # Plot the EKG data\n",
    "#     plt.plot(time_axis, ekg_signal_data, zorder=1)\n",
    "\n",
    "#     # Set titles, labels, and limits\n",
    "#     plt.title('EKG Data (Lead 1)')\n",
    "#     plt.xlabel('Time (seconds)')\n",
    "#     plt.ylabel('Voltage (microvolts)')\n",
    "#     plt.xlim([min_time, max_time])\n",
    "#     plt.ylim([min_microvolts, max_microvolts])\n",
    "#     plt.xticks(np.arange(0, 11, 1))\n",
    "#     plt.grid(False)\n",
    "\n",
    "#     # 3. Save the figure and close it\n",
    "#     plt.savefig(full_path)\n",
    "#     plt.close(fig) # !!! Crucial: This closes the figure to free up memory!!\n",
    "\n",
    "# print(f\"\\n Done! Saved {len(ekg_df)} images to the '{output_dir}' directory.\")\n"
   ]
  },
  {
   "cell_type": "markdown",
   "id": "5fb02256",
   "metadata": {},
   "source": [
    "# Plot Each **Non Colored** Lead 1 Reading and Save Each as PNG File\n",
    "**Uncomment to run cell, but you will make a lot of files**"
   ]
  },
  {
   "cell_type": "code",
   "execution_count": null,
   "id": "c599b3e4",
   "metadata": {},
   "outputs": [],
   "source": [
    "\n",
    "# # 1. Define the directory to save your images\n",
    "# output_dir = 'ecg_images_NoColor'\n",
    "# os.makedirs(output_dir, exist_ok=True) # Create the directory if it doesn't exist\n",
    "\n",
    "# # 2. Loop through every row in the DataFrame with a progress bar\n",
    "# for i in tqdm(range(8596, len(ekg_df)), desc=\"Generating EKG Images\"):\n",
    "    \n",
    "#     # -------- Get Data for the Current Row --------\n",
    "#     ekg_signal_data = ekg_df['lead 1 lists'].iloc[i]\n",
    "#     file_name = ekg_df['file_name'].iloc[i]\n",
    "#     rhythm = ekg_df['rhythm'].iloc[i]\n",
    "    \n",
    "#     # -------- Construct the Dynamic Filename --------\n",
    "#     # Example: ekg_images/file_00001rhythmAFib.png\n",
    "#     image_filename = f\"{file_name}_rhythm_label_{rhythm}.png\"\n",
    "#     full_path = os.path.join(output_dir, image_filename)\n",
    "\n",
    "#     # -------- Graphing Code (from your prompt) --------\n",
    "#     # Constants\n",
    "#     SAMPLES_PER_SECOND = 500\n",
    "#     max_time = 10.4\n",
    "#     min_time = -0.4\n",
    "#     max_microvolts = 800\n",
    "#     min_microvolts = -600\n",
    "\n",
    "#     # Create the time axis\n",
    "#     num_samples = len(ekg_signal_data)\n",
    "#     time_axis = np.arange(num_samples) / SAMPLES_PER_SECOND\n",
    "\n",
    "#     # Create the plot figure\n",
    "#     fig = plt.figure(figsize=(14, 4))\n",
    "\n",
    "#     # Plot the EKG data\n",
    "#     plt.plot(time_axis, ekg_signal_data, zorder=1)\n",
    "\n",
    "#     # Set titles, labels, and limits\n",
    "#     plt.title('EKG Data (Lead 1)')\n",
    "#     plt.xlabel('Time (seconds)')\n",
    "#     plt.ylabel('Voltage (microvolts)')\n",
    "#     plt.xlim([min_time, max_time])\n",
    "#     plt.ylim([min_microvolts, max_microvolts])\n",
    "#     plt.xticks(np.arange(0, 11, 1))\n",
    "#     plt.grid(False)\n",
    "\n",
    "#     # 3. Save the figure and close it\n",
    "#     plt.savefig(full_path)\n",
    "#     plt.close(fig) # !! Crucial: This closes the figure to free up memory!!\n",
    "\n",
    "# print(f\"\\n Done! Saved {len(ekg_df)} images to the '{output_dir}' directory.\")\n"
   ]
  },
  {
   "cell_type": "code",
   "execution_count": null,
   "id": "5e2771fb",
   "metadata": {},
   "outputs": [],
   "source": []
  }
 ],
 "metadata": {
  "kernelspec": {
   "display_name": ".tf-env (3.12.3)",
   "language": "python",
   "name": "python3"
  },
  "language_info": {
   "codemirror_mode": {
    "name": "ipython",
    "version": 3
   },
   "file_extension": ".py",
   "mimetype": "text/x-python",
   "name": "python",
   "nbconvert_exporter": "python",
   "pygments_lexer": "ipython3",
   "version": "3.12.3"
  }
 },
 "nbformat": 4,
 "nbformat_minor": 5
}
