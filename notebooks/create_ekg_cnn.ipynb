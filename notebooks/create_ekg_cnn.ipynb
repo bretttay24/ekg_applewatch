{
 "cells": [
  {
   "cell_type": "markdown",
   "id": "e613f69d",
   "metadata": {},
   "source": [
    "# Goal of Notebook:\n",
    "### Create a Convelutional Neural Network(CNN) to classify arrythmias on Lead 1 EKG images.\n",
    "### This CNN will be applied to classify heart rhythms of Apple Watch EKGs\n",
    "** This notebook assumes a csv file and ekg lead 1 images have been created using notebooks\n",
    " - create_ecg_csv_extract_lead_1.ipynb [create_csv_notebook](https://github.com/bretttay24/ekg_applewatch/blob/main/notebooks/create_ecg_csv_extract_lead_1.ipynb)\n",
    "\n",
    " - create_ecg_image_dataset.ipynb [create_images_notebook](https://github.com/bretttay24/ekg_applewatch/blob/main/notebooks/create_ecg_image_dataset.ipynb)\n",
    "\n",
    "**Process:**\n",
    "\n",
    "**1)**\n",
    "\n",
    "**2)**\n",
    "\n",
    "**3)**\n",
    "\n",
    "**4)**"
   ]
  },
  {
   "cell_type": "markdown",
   "id": "d85c4bda",
   "metadata": {},
   "source": [
    "## Import Packages"
   ]
  },
  {
   "cell_type": "code",
   "execution_count": 1,
   "id": "d2309ce6",
   "metadata": {},
   "outputs": [
    {
     "name": "stderr",
     "output_type": "stream",
     "text": [
      "2025-08-19 11:09:37.293193: I tensorflow/core/util/port.cc:153] oneDNN custom operations are on. You may see slightly different numerical results due to floating-point round-off errors from different computation orders. To turn them off, set the environment variable `TF_ENABLE_ONEDNN_OPTS=0`.\n",
      "2025-08-19 11:09:37.817247: I tensorflow/core/platform/cpu_feature_guard.cc:210] This TensorFlow binary is optimized to use available CPU instructions in performance-critical operations.\n",
      "To enable the following instructions: AVX2 AVX_VNNI FMA, in other operations, rebuild TensorFlow with the appropriate compiler flags.\n",
      "/home/brett_tay_12/workspace/.tf-env/lib/python3.12/site-packages/google/protobuf/runtime_version.py:98: UserWarning: Protobuf gencode version 5.28.3 is exactly one major version older than the runtime version 6.31.1 at tensorflow/core/framework/attr_value.proto. Please update the gencode to avoid compatibility violations in the next runtime release.\n",
      "  warnings.warn(\n",
      "/home/brett_tay_12/workspace/.tf-env/lib/python3.12/site-packages/google/protobuf/runtime_version.py:98: UserWarning: Protobuf gencode version 5.28.3 is exactly one major version older than the runtime version 6.31.1 at tensorflow/core/framework/tensor.proto. Please update the gencode to avoid compatibility violations in the next runtime release.\n",
      "  warnings.warn(\n",
      "/home/brett_tay_12/workspace/.tf-env/lib/python3.12/site-packages/google/protobuf/runtime_version.py:98: UserWarning: Protobuf gencode version 5.28.3 is exactly one major version older than the runtime version 6.31.1 at tensorflow/core/framework/resource_handle.proto. Please update the gencode to avoid compatibility violations in the next runtime release.\n",
      "  warnings.warn(\n",
      "/home/brett_tay_12/workspace/.tf-env/lib/python3.12/site-packages/google/protobuf/runtime_version.py:98: UserWarning: Protobuf gencode version 5.28.3 is exactly one major version older than the runtime version 6.31.1 at tensorflow/core/framework/tensor_shape.proto. Please update the gencode to avoid compatibility violations in the next runtime release.\n",
      "  warnings.warn(\n",
      "/home/brett_tay_12/workspace/.tf-env/lib/python3.12/site-packages/google/protobuf/runtime_version.py:98: UserWarning: Protobuf gencode version 5.28.3 is exactly one major version older than the runtime version 6.31.1 at tensorflow/core/framework/types.proto. Please update the gencode to avoid compatibility violations in the next runtime release.\n",
      "  warnings.warn(\n",
      "/home/brett_tay_12/workspace/.tf-env/lib/python3.12/site-packages/google/protobuf/runtime_version.py:98: UserWarning: Protobuf gencode version 5.28.3 is exactly one major version older than the runtime version 6.31.1 at tensorflow/core/framework/full_type.proto. Please update the gencode to avoid compatibility violations in the next runtime release.\n",
      "  warnings.warn(\n",
      "/home/brett_tay_12/workspace/.tf-env/lib/python3.12/site-packages/google/protobuf/runtime_version.py:98: UserWarning: Protobuf gencode version 5.28.3 is exactly one major version older than the runtime version 6.31.1 at tensorflow/core/framework/function.proto. Please update the gencode to avoid compatibility violations in the next runtime release.\n",
      "  warnings.warn(\n",
      "/home/brett_tay_12/workspace/.tf-env/lib/python3.12/site-packages/google/protobuf/runtime_version.py:98: UserWarning: Protobuf gencode version 5.28.3 is exactly one major version older than the runtime version 6.31.1 at tensorflow/core/framework/node_def.proto. Please update the gencode to avoid compatibility violations in the next runtime release.\n",
      "  warnings.warn(\n",
      "/home/brett_tay_12/workspace/.tf-env/lib/python3.12/site-packages/google/protobuf/runtime_version.py:98: UserWarning: Protobuf gencode version 5.28.3 is exactly one major version older than the runtime version 6.31.1 at tensorflow/core/framework/op_def.proto. Please update the gencode to avoid compatibility violations in the next runtime release.\n",
      "  warnings.warn(\n",
      "/home/brett_tay_12/workspace/.tf-env/lib/python3.12/site-packages/google/protobuf/runtime_version.py:98: UserWarning: Protobuf gencode version 5.28.3 is exactly one major version older than the runtime version 6.31.1 at tensorflow/core/framework/graph.proto. Please update the gencode to avoid compatibility violations in the next runtime release.\n",
      "  warnings.warn(\n",
      "/home/brett_tay_12/workspace/.tf-env/lib/python3.12/site-packages/google/protobuf/runtime_version.py:98: UserWarning: Protobuf gencode version 5.28.3 is exactly one major version older than the runtime version 6.31.1 at tensorflow/core/framework/graph_debug_info.proto. Please update the gencode to avoid compatibility violations in the next runtime release.\n",
      "  warnings.warn(\n",
      "/home/brett_tay_12/workspace/.tf-env/lib/python3.12/site-packages/google/protobuf/runtime_version.py:98: UserWarning: Protobuf gencode version 5.28.3 is exactly one major version older than the runtime version 6.31.1 at tensorflow/core/framework/versions.proto. Please update the gencode to avoid compatibility violations in the next runtime release.\n",
      "  warnings.warn(\n",
      "/home/brett_tay_12/workspace/.tf-env/lib/python3.12/site-packages/google/protobuf/runtime_version.py:98: UserWarning: Protobuf gencode version 5.28.3 is exactly one major version older than the runtime version 6.31.1 at tensorflow/core/protobuf/config.proto. Please update the gencode to avoid compatibility violations in the next runtime release.\n",
      "  warnings.warn(\n",
      "/home/brett_tay_12/workspace/.tf-env/lib/python3.12/site-packages/google/protobuf/runtime_version.py:98: UserWarning: Protobuf gencode version 5.28.3 is exactly one major version older than the runtime version 6.31.1 at xla/tsl/protobuf/coordination_config.proto. Please update the gencode to avoid compatibility violations in the next runtime release.\n",
      "  warnings.warn(\n",
      "/home/brett_tay_12/workspace/.tf-env/lib/python3.12/site-packages/google/protobuf/runtime_version.py:98: UserWarning: Protobuf gencode version 5.28.3 is exactly one major version older than the runtime version 6.31.1 at tensorflow/core/framework/cost_graph.proto. Please update the gencode to avoid compatibility violations in the next runtime release.\n",
      "  warnings.warn(\n",
      "/home/brett_tay_12/workspace/.tf-env/lib/python3.12/site-packages/google/protobuf/runtime_version.py:98: UserWarning: Protobuf gencode version 5.28.3 is exactly one major version older than the runtime version 6.31.1 at tensorflow/core/framework/step_stats.proto. Please update the gencode to avoid compatibility violations in the next runtime release.\n",
      "  warnings.warn(\n",
      "/home/brett_tay_12/workspace/.tf-env/lib/python3.12/site-packages/google/protobuf/runtime_version.py:98: UserWarning: Protobuf gencode version 5.28.3 is exactly one major version older than the runtime version 6.31.1 at tensorflow/core/framework/allocation_description.proto. Please update the gencode to avoid compatibility violations in the next runtime release.\n",
      "  warnings.warn(\n",
      "/home/brett_tay_12/workspace/.tf-env/lib/python3.12/site-packages/google/protobuf/runtime_version.py:98: UserWarning: Protobuf gencode version 5.28.3 is exactly one major version older than the runtime version 6.31.1 at tensorflow/core/framework/tensor_description.proto. Please update the gencode to avoid compatibility violations in the next runtime release.\n",
      "  warnings.warn(\n",
      "/home/brett_tay_12/workspace/.tf-env/lib/python3.12/site-packages/google/protobuf/runtime_version.py:98: UserWarning: Protobuf gencode version 5.28.3 is exactly one major version older than the runtime version 6.31.1 at tensorflow/core/protobuf/cluster.proto. Please update the gencode to avoid compatibility violations in the next runtime release.\n",
      "  warnings.warn(\n",
      "/home/brett_tay_12/workspace/.tf-env/lib/python3.12/site-packages/google/protobuf/runtime_version.py:98: UserWarning: Protobuf gencode version 5.28.3 is exactly one major version older than the runtime version 6.31.1 at tensorflow/core/protobuf/debug.proto. Please update the gencode to avoid compatibility violations in the next runtime release.\n",
      "  warnings.warn(\n",
      "2025-08-19 11:09:39.615406: I tensorflow/core/util/port.cc:153] oneDNN custom operations are on. You may see slightly different numerical results due to floating-point round-off errors from different computation orders. To turn them off, set the environment variable `TF_ENABLE_ONEDNN_OPTS=0`.\n"
     ]
    }
   ],
   "source": [
    "import pandas as pd\n",
    "import numpy as np\n",
    "import matplotlib.pyplot as plt\n",
    "import tensorflow as tf\n",
    "import os\n",
    "import re\n",
    "import random\n",
    "import PIL #Python Imaging Library\n",
    "from glob import glob\n",
    "from tensorflow import keras\n",
    "from tensorflow.keras import datasets, layers, models\n",
    "from tensorflow.keras.models import Sequential\n",
    "from tensorflow.keras.layers import Dense, Conv2D, Flatten, Dropout, MaxPooling2D\n",
    "from tensorflow.keras.preprocessing.image import ImageDataGenerator\n",
    "from tensorflow.keras.callbacks import EarlyStopping, ModelCheckpoint\n",
    "\n",
    "from IPython.display import display  # display images\n",
    "from sklearn import preprocessing\n",
    "from sklearn.model_selection import train_test_split\n",
    "from sklearn.metrics import classification_report, confusion_matrix\n",
    "from sklearn.preprocessing import LabelEncoder"
   ]
  },
  {
   "cell_type": "markdown",
   "id": "f8af188f",
   "metadata": {},
   "source": [
    "\n",
    "## Pass the file path to the processed_ekg_data.csv \n",
    "**This was created from the notebook 'create_ecg_csv_extract_lead_1.ipynb'**\n",
    "\n",
    "file_path = r'pass_your_own_file_paht_to/processed_ekg_data.csv'  # !! pass your own created path !!"
   ]
  },
  {
   "cell_type": "code",
   "execution_count": 2,
   "id": "761838ba",
   "metadata": {},
   "outputs": [
    {
     "data": {
      "text/html": [
       "<div>\n",
       "<style scoped>\n",
       "    .dataframe tbody tr th:only-of-type {\n",
       "        vertical-align: middle;\n",
       "    }\n",
       "\n",
       "    .dataframe tbody tr th {\n",
       "        vertical-align: top;\n",
       "    }\n",
       "\n",
       "    .dataframe thead th {\n",
       "        text-align: right;\n",
       "    }\n",
       "</style>\n",
       "<table border=\"1\" class=\"dataframe\">\n",
       "  <thead>\n",
       "    <tr style=\"text-align: right;\">\n",
       "      <th></th>\n",
       "      <th>file_name</th>\n",
       "      <th>rhythm</th>\n",
       "      <th>lead_1_data</th>\n",
       "    </tr>\n",
       "  </thead>\n",
       "  <tbody>\n",
       "    <tr>\n",
       "      <th>0</th>\n",
       "      <td>MUSE_20180111_155115_19000</td>\n",
       "      <td>ST</td>\n",
       "      <td>[-165.33, -150.75, -136.69, -123.74, -112.57, ...</td>\n",
       "    </tr>\n",
       "    <tr>\n",
       "      <th>1</th>\n",
       "      <td>MUSE_20180111_155154_74000</td>\n",
       "      <td>AFIB</td>\n",
       "      <td>[-29.021, -24.839, -21.031, -17.969, -15.853, ...</td>\n",
       "    </tr>\n",
       "    <tr>\n",
       "      <th>2</th>\n",
       "      <td>MUSE_20180111_155203_15000</td>\n",
       "      <td>AFIB</td>\n",
       "      <td>[-5.8768, -4.1498, -1.0103, 4.3481, 11.595, 18...</td>\n",
       "    </tr>\n",
       "    <tr>\n",
       "      <th>3</th>\n",
       "      <td>MUSE_20180111_155249_70000</td>\n",
       "      <td>ST</td>\n",
       "      <td>[-144.95, -122.03, -103.6, -92.219, -87.604, -...</td>\n",
       "    </tr>\n",
       "    <tr>\n",
       "      <th>4</th>\n",
       "      <td>MUSE_20180111_155542_84000</td>\n",
       "      <td>AF</td>\n",
       "      <td>[0.86901, 4.2397, 7.1939, 9.2418, 10.021, 9.41...</td>\n",
       "    </tr>\n",
       "  </tbody>\n",
       "</table>\n",
       "</div>"
      ],
      "text/plain": [
       "                    file_name rhythm  \\\n",
       "0  MUSE_20180111_155115_19000     ST   \n",
       "1  MUSE_20180111_155154_74000   AFIB   \n",
       "2  MUSE_20180111_155203_15000   AFIB   \n",
       "3  MUSE_20180111_155249_70000     ST   \n",
       "4  MUSE_20180111_155542_84000     AF   \n",
       "\n",
       "                                         lead_1_data  \n",
       "0  [-165.33, -150.75, -136.69, -123.74, -112.57, ...  \n",
       "1  [-29.021, -24.839, -21.031, -17.969, -15.853, ...  \n",
       "2  [-5.8768, -4.1498, -1.0103, 4.3481, 11.595, 18...  \n",
       "3  [-144.95, -122.03, -103.6, -92.219, -87.604, -...  \n",
       "4  [0.86901, 4.2397, 7.1939, 9.2418, 10.021, 9.41...  "
      ]
     },
     "execution_count": 2,
     "metadata": {},
     "output_type": "execute_result"
    }
   ],
   "source": [
    "file_path = r'~/workspace/github.com/bretttay24/EKG_APPLE/EKG_Datasets/processed_ecg_data.csv'  # !! pass your file path here !!\n",
    "ecg_df = pd.read_csv(file_path)                                                                 # Creates ecg_df from reading csv file path\n",
    "ecg_df.head()                                                                                   # View head of file"
   ]
  },
  {
   "cell_type": "markdown",
   "id": "b2ddc901",
   "metadata": {},
   "source": [
    "### Evaluate ecg_df"
   ]
  },
  {
   "cell_type": "code",
   "execution_count": 3,
   "id": "bb44ebc6",
   "metadata": {},
   "outputs": [
    {
     "name": "stdout",
     "output_type": "stream",
     "text": [
      "<class 'pandas.core.frame.DataFrame'>\n",
      "RangeIndex: 10645 entries, 0 to 10644\n",
      "Data columns (total 3 columns):\n",
      " #   Column       Non-Null Count  Dtype \n",
      "---  ------       --------------  ----- \n",
      " 0   file_name    10645 non-null  object\n",
      " 1   rhythm       10645 non-null  object\n",
      " 2   lead_1_data  10645 non-null  object\n",
      "dtypes: object(3)\n",
      "memory usage: 249.6+ KB\n"
     ]
    }
   ],
   "source": [
    "ecg_df.info() "
   ]
  },
  {
   "cell_type": "code",
   "execution_count": 4,
   "id": "e89decbf",
   "metadata": {},
   "outputs": [
    {
     "data": {
      "text/html": [
       "<div>\n",
       "<style scoped>\n",
       "    .dataframe tbody tr th:only-of-type {\n",
       "        vertical-align: middle;\n",
       "    }\n",
       "\n",
       "    .dataframe tbody tr th {\n",
       "        vertical-align: top;\n",
       "    }\n",
       "\n",
       "    .dataframe thead th {\n",
       "        text-align: right;\n",
       "    }\n",
       "</style>\n",
       "<table border=\"1\" class=\"dataframe\">\n",
       "  <thead>\n",
       "    <tr style=\"text-align: right;\">\n",
       "      <th></th>\n",
       "      <th>file_name</th>\n",
       "      <th>rhythm</th>\n",
       "      <th>lead_1_data</th>\n",
       "    </tr>\n",
       "  </thead>\n",
       "  <tbody>\n",
       "    <tr>\n",
       "      <th>10595</th>\n",
       "      <td>MUSE_20180712_161421_97000</td>\n",
       "      <td>AFIB</td>\n",
       "      <td>[20.14, 20.912, 22.164, 23.839, 25.251, 25.239...</td>\n",
       "    </tr>\n",
       "    <tr>\n",
       "      <th>10596</th>\n",
       "      <td>MUSE_20180712_161428_38000</td>\n",
       "      <td>AFIB</td>\n",
       "      <td>[-58.714, -57.082, -54.559, -50.502, -44.782, ...</td>\n",
       "    </tr>\n",
       "    <tr>\n",
       "      <th>10597</th>\n",
       "      <td>MUSE_20180712_161440_84000</td>\n",
       "      <td>AFIB</td>\n",
       "      <td>[-176.89, -158.89, -146.33, -141.47, -142.58, ...</td>\n",
       "    </tr>\n",
       "    <tr>\n",
       "      <th>10598</th>\n",
       "      <td>MUSE_20180712_161441_91000</td>\n",
       "      <td>AFIB</td>\n",
       "      <td>[59.599, 42.858, 27.863, 16.301, 9.3144, 7.276...</td>\n",
       "    </tr>\n",
       "    <tr>\n",
       "      <th>10599</th>\n",
       "      <td>MUSE_20180712_161442_97000</td>\n",
       "      <td>AFIB</td>\n",
       "      <td>[-33.878, -35.321, -37.021, -38.884, -40.464, ...</td>\n",
       "    </tr>\n",
       "    <tr>\n",
       "      <th>10600</th>\n",
       "      <td>MUSE_20180712_161449_58000</td>\n",
       "      <td>AFIB</td>\n",
       "      <td>[-8.2793, -7.0818, -5.3492, -2.9468, -0.24004,...</td>\n",
       "    </tr>\n",
       "    <tr>\n",
       "      <th>10601</th>\n",
       "      <td>MUSE_20180712_161451_72000</td>\n",
       "      <td>AFIB</td>\n",
       "      <td>[13.185, 12.445, 11.805, 11.437, 11.552, 12.33...</td>\n",
       "    </tr>\n",
       "    <tr>\n",
       "      <th>10602</th>\n",
       "      <td>MUSE_20180712_161452_78000</td>\n",
       "      <td>AFIB</td>\n",
       "      <td>[-42.747, -44.091, -45.761, -47.674, -49.304, ...</td>\n",
       "    </tr>\n",
       "    <tr>\n",
       "      <th>10603</th>\n",
       "      <td>MUSE_20180712_161503_00000</td>\n",
       "      <td>AFIB</td>\n",
       "      <td>[8.1671, 7.4794, 7.2614, 7.9068, 9.8181, 13.28...</td>\n",
       "    </tr>\n",
       "    <tr>\n",
       "      <th>10604</th>\n",
       "      <td>MUSE_20180712_161505_16000</td>\n",
       "      <td>AFIB</td>\n",
       "      <td>[947.52, 865.5, 779.63, 688.51, 594.07, 500.13...</td>\n",
       "    </tr>\n",
       "    <tr>\n",
       "      <th>10605</th>\n",
       "      <td>MUSE_20181222_204118_08000</td>\n",
       "      <td>SVT</td>\n",
       "      <td>[0, 0, 0, 0, 0, 0, 0, 0, 0, 0, 0, 0, 0, 0, 0, ...</td>\n",
       "    </tr>\n",
       "    <tr>\n",
       "      <th>10606</th>\n",
       "      <td>MUSE_20181222_204121_42000</td>\n",
       "      <td>SVT</td>\n",
       "      <td>[0, 0, 0, 0, 0, 0, 0, 0, 0, 0, 0, 0, 0, 0, 0, ...</td>\n",
       "    </tr>\n",
       "    <tr>\n",
       "      <th>10607</th>\n",
       "      <td>MUSE_20181222_204122_52000</td>\n",
       "      <td>SVT</td>\n",
       "      <td>[0, 0, 0, 0, 0, 0, 0, 0, 0, 0, 0, 0, 0, 0, 0, ...</td>\n",
       "    </tr>\n",
       "    <tr>\n",
       "      <th>10608</th>\n",
       "      <td>MUSE_20181222_204123_64000</td>\n",
       "      <td>SVT</td>\n",
       "      <td>[0, 0, 0, 0, 0, 0, 0, 0, 0, 0, 0, 0, 0, 0, 0, ...</td>\n",
       "    </tr>\n",
       "    <tr>\n",
       "      <th>10609</th>\n",
       "      <td>MUSE_20181222_204128_13000</td>\n",
       "      <td>SVT</td>\n",
       "      <td>[0, 0, 0, 0, 0, 0, 0, 0, 0, 0, 0, 0, 0, 0, 0, ...</td>\n",
       "    </tr>\n",
       "    <tr>\n",
       "      <th>10610</th>\n",
       "      <td>MUSE_20181222_204131_50000</td>\n",
       "      <td>SVT</td>\n",
       "      <td>[0, 0, 0, 0, 0, 0, 0, 0, 0, 0, 0, 0, 0, 0, 0, ...</td>\n",
       "    </tr>\n",
       "    <tr>\n",
       "      <th>10611</th>\n",
       "      <td>MUSE_20181222_204132_64000</td>\n",
       "      <td>SVT</td>\n",
       "      <td>[0, 0, 0, 0, 0, 0, 0, 0, 0, 0, 0, 0, 0, 0, 0, ...</td>\n",
       "    </tr>\n",
       "    <tr>\n",
       "      <th>10612</th>\n",
       "      <td>MUSE_20181222_204140_77000</td>\n",
       "      <td>SVT</td>\n",
       "      <td>[0, 0, 0, 0, 0, 0, 0, 0, 0, 0, 0, 0, 0, 0, 0, ...</td>\n",
       "    </tr>\n",
       "    <tr>\n",
       "      <th>10613</th>\n",
       "      <td>MUSE_20181222_204141_91000</td>\n",
       "      <td>SVT</td>\n",
       "      <td>[0, 0, 0, 0, 0, 0, 0, 0, 0, 0, 0, 0, 0, 0, 0, ...</td>\n",
       "    </tr>\n",
       "    <tr>\n",
       "      <th>10614</th>\n",
       "      <td>MUSE_20181222_204143_03000</td>\n",
       "      <td>SVT</td>\n",
       "      <td>[0, 0, 0, 0, 0, 0, 0, 0, 0, 0, 0, 0, 0, 0, 0, ...</td>\n",
       "    </tr>\n",
       "    <tr>\n",
       "      <th>10615</th>\n",
       "      <td>MUSE_20181222_204146_34000</td>\n",
       "      <td>SVT</td>\n",
       "      <td>[0, 0, 0, 0, 0, 0, 0, 0, 0, 0, 0, 0, 0, 0, 0, ...</td>\n",
       "    </tr>\n",
       "    <tr>\n",
       "      <th>10616</th>\n",
       "      <td>MUSE_20181222_204154_20000</td>\n",
       "      <td>SVT</td>\n",
       "      <td>[0, 0, 0, 0, 0, 0, 0, 0, 0, 0, 0, 0, 0, 0, 0, ...</td>\n",
       "    </tr>\n",
       "    <tr>\n",
       "      <th>10617</th>\n",
       "      <td>MUSE_20181222_204155_31000</td>\n",
       "      <td>SVT</td>\n",
       "      <td>[0, 0, 0, 0, 0, 0, 0, 0, 0, 0, 0, 0, 0, 0, 0, ...</td>\n",
       "    </tr>\n",
       "    <tr>\n",
       "      <th>10618</th>\n",
       "      <td>MUSE_20181222_204156_45000</td>\n",
       "      <td>SVT</td>\n",
       "      <td>[0, 0, 0, 0, 0, 0, 0, 0, 0, 0, 0, 0, 0, 0, 0, ...</td>\n",
       "    </tr>\n",
       "    <tr>\n",
       "      <th>10619</th>\n",
       "      <td>MUSE_20181222_204157_58000</td>\n",
       "      <td>SVT</td>\n",
       "      <td>[0, 0, 0, 0, 0, 0, 0, 0, 0, 0, 0, 0, 0, 0, 0, ...</td>\n",
       "    </tr>\n",
       "    <tr>\n",
       "      <th>10620</th>\n",
       "      <td>MUSE_20181222_204158_72000</td>\n",
       "      <td>SVT</td>\n",
       "      <td>[0, 0, 0, 0, 0, 0, 0, 0, 0, 0, 0, 0, 0, 0, 0, ...</td>\n",
       "    </tr>\n",
       "    <tr>\n",
       "      <th>10621</th>\n",
       "      <td>MUSE_20181222_204207_92000</td>\n",
       "      <td>SVT</td>\n",
       "      <td>[0, 0, 0, 0, 0, 0, 0, 0, 0, 0, 0, 0, 0, 0, 0, ...</td>\n",
       "    </tr>\n",
       "    <tr>\n",
       "      <th>10622</th>\n",
       "      <td>MUSE_20181222_204212_44000</td>\n",
       "      <td>SVT</td>\n",
       "      <td>[0, 0, 0, 0, 0, 0, 0, 0, 0, 0, 0, 0, 0, 0, 0, ...</td>\n",
       "    </tr>\n",
       "    <tr>\n",
       "      <th>10623</th>\n",
       "      <td>MUSE_20181222_204217_03000</td>\n",
       "      <td>SVT</td>\n",
       "      <td>[0, 0, 0, 0, 0, 0, 0, 0, 0, 0, 0, 0, 0, 0, 0, ...</td>\n",
       "    </tr>\n",
       "    <tr>\n",
       "      <th>10624</th>\n",
       "      <td>MUSE_20181222_204218_14000</td>\n",
       "      <td>SVT</td>\n",
       "      <td>[0, 0, 0, 0, 0, 0, 0, 0, 0, 0, 0, 0, 0, 0, 0, ...</td>\n",
       "    </tr>\n",
       "    <tr>\n",
       "      <th>10625</th>\n",
       "      <td>MUSE_20181222_204219_27000</td>\n",
       "      <td>SVT</td>\n",
       "      <td>[0, 0, 0, 0, 0, 0, 0, 0, 0, 0, 0, 0, 0, 0, 0, ...</td>\n",
       "    </tr>\n",
       "    <tr>\n",
       "      <th>10626</th>\n",
       "      <td>MUSE_20181222_204222_63000</td>\n",
       "      <td>SVT</td>\n",
       "      <td>[0, 0, 0, 0, 0, 0, 0, 0, 0, 0, 0, 0, 0, 0, 0, ...</td>\n",
       "    </tr>\n",
       "    <tr>\n",
       "      <th>10627</th>\n",
       "      <td>MUSE_20181222_204226_00000</td>\n",
       "      <td>SVT</td>\n",
       "      <td>[0, 0, 0, 0, 0, 0, 0, 0, 0, 0, 0, 0, 0, 0, 0, ...</td>\n",
       "    </tr>\n",
       "    <tr>\n",
       "      <th>10628</th>\n",
       "      <td>MUSE_20181222_204227_13000</td>\n",
       "      <td>SVT</td>\n",
       "      <td>[0, 0, 0, 0, 0, 0, 0, 0, 0, 0, 0, 0, 0, 0, 0, ...</td>\n",
       "    </tr>\n",
       "    <tr>\n",
       "      <th>10629</th>\n",
       "      <td>MUSE_20181222_204236_34000</td>\n",
       "      <td>SVT</td>\n",
       "      <td>[0, 0, 0, 0, 0, 0, 0, 0, 0, 0, 0, 0, 0, 0, 0, ...</td>\n",
       "    </tr>\n",
       "    <tr>\n",
       "      <th>10630</th>\n",
       "      <td>MUSE_20181222_204237_47000</td>\n",
       "      <td>SVT</td>\n",
       "      <td>[0, 0, 0, 0, 0, 0, 0, 0, 0, 0, 0, 0, 0, 0, 0, ...</td>\n",
       "    </tr>\n",
       "    <tr>\n",
       "      <th>10631</th>\n",
       "      <td>MUSE_20181222_204239_70000</td>\n",
       "      <td>SVT</td>\n",
       "      <td>[0, 0, 0, 0, 0, 0, 0, 0, 0, 0, 0, 0, 0, 0, 0, ...</td>\n",
       "    </tr>\n",
       "    <tr>\n",
       "      <th>10632</th>\n",
       "      <td>MUSE_20181222_204240_84000</td>\n",
       "      <td>SVT</td>\n",
       "      <td>[0, 0, 0, 0, 0, 0, 0, 0, 0, 0, 0, 0, 0, 0, 0, ...</td>\n",
       "    </tr>\n",
       "    <tr>\n",
       "      <th>10633</th>\n",
       "      <td>MUSE_20181222_204243_08000</td>\n",
       "      <td>SVT</td>\n",
       "      <td>[0, 0, 0, 0, 0, 0, 0, 0, 0, 0, 0, 0, 0, 0, 0, ...</td>\n",
       "    </tr>\n",
       "    <tr>\n",
       "      <th>10634</th>\n",
       "      <td>MUSE_20181222_204245_36000</td>\n",
       "      <td>SVT</td>\n",
       "      <td>[0, 0, 0, 0, 0, 0, 0, 0, 0, 0, 0, 0, 0, 0, 0, ...</td>\n",
       "    </tr>\n",
       "    <tr>\n",
       "      <th>10635</th>\n",
       "      <td>MUSE_20181222_204246_47000</td>\n",
       "      <td>SVT</td>\n",
       "      <td>[0, 0, 0, 0, 0, 0, 0, 0, 0, 0, 0, 0, 0, 0, 0, ...</td>\n",
       "    </tr>\n",
       "    <tr>\n",
       "      <th>10636</th>\n",
       "      <td>MUSE_20181222_204248_77000</td>\n",
       "      <td>SVT</td>\n",
       "      <td>[0, 0, 0, 0, 0, 0, 0, 0, 0, 0, 0, 0, 0, 0, 0, ...</td>\n",
       "    </tr>\n",
       "    <tr>\n",
       "      <th>10637</th>\n",
       "      <td>MUSE_20181222_204249_88000</td>\n",
       "      <td>SVT</td>\n",
       "      <td>[0, 0, 0, 0, 0, 0, 0, 0, 0, 0, 0, 0, 0, 0, 0, ...</td>\n",
       "    </tr>\n",
       "    <tr>\n",
       "      <th>10638</th>\n",
       "      <td>MUSE_20181222_204302_49000</td>\n",
       "      <td>SVT</td>\n",
       "      <td>[0, 0, 0, 0, 0, 0, 0, 0, 0, 0, 0, 0, 0, 0, 0, ...</td>\n",
       "    </tr>\n",
       "    <tr>\n",
       "      <th>10639</th>\n",
       "      <td>MUSE_20181222_204303_61000</td>\n",
       "      <td>SVT</td>\n",
       "      <td>[0, 0, 0, 0, 0, 0, 0, 0, 0, 0, 0, 0, 0, 0, 0, ...</td>\n",
       "    </tr>\n",
       "    <tr>\n",
       "      <th>10640</th>\n",
       "      <td>MUSE_20181222_204306_99000</td>\n",
       "      <td>SVT</td>\n",
       "      <td>[0, 0, 0, 0, 0, 0, 0, 0, 0, 0, 0, 0, 0, 0, 0, ...</td>\n",
       "    </tr>\n",
       "    <tr>\n",
       "      <th>10641</th>\n",
       "      <td>MUSE_20181222_204309_22000</td>\n",
       "      <td>SVT</td>\n",
       "      <td>[0, 0, 0, 0, 0, 0, 0, 0, 0, 0, 0, 0, 0, 0, 0, ...</td>\n",
       "    </tr>\n",
       "    <tr>\n",
       "      <th>10642</th>\n",
       "      <td>MUSE_20181222_204310_31000</td>\n",
       "      <td>SVT</td>\n",
       "      <td>[0, 0, 0, 0, 0, 0, 0, 0, 0, 0, 0, 0, 0, 0, 0, ...</td>\n",
       "    </tr>\n",
       "    <tr>\n",
       "      <th>10643</th>\n",
       "      <td>MUSE_20181222_204312_58000</td>\n",
       "      <td>SVT</td>\n",
       "      <td>[0, 0, 0, 0, 0, 0, 0, 0, 0, 0, 0, 0, 0, 0, 0, ...</td>\n",
       "    </tr>\n",
       "    <tr>\n",
       "      <th>10644</th>\n",
       "      <td>MUSE_20181222_204314_78000</td>\n",
       "      <td>SVT</td>\n",
       "      <td>[0, 0, 0, 0, 0, 0, 0, 0, 0, 0, 0, 0, 0, 0, 0, ...</td>\n",
       "    </tr>\n",
       "  </tbody>\n",
       "</table>\n",
       "</div>"
      ],
      "text/plain": [
       "                        file_name rhythm  \\\n",
       "10595  MUSE_20180712_161421_97000   AFIB   \n",
       "10596  MUSE_20180712_161428_38000   AFIB   \n",
       "10597  MUSE_20180712_161440_84000   AFIB   \n",
       "10598  MUSE_20180712_161441_91000   AFIB   \n",
       "10599  MUSE_20180712_161442_97000   AFIB   \n",
       "10600  MUSE_20180712_161449_58000   AFIB   \n",
       "10601  MUSE_20180712_161451_72000   AFIB   \n",
       "10602  MUSE_20180712_161452_78000   AFIB   \n",
       "10603  MUSE_20180712_161503_00000   AFIB   \n",
       "10604  MUSE_20180712_161505_16000   AFIB   \n",
       "10605  MUSE_20181222_204118_08000    SVT   \n",
       "10606  MUSE_20181222_204121_42000    SVT   \n",
       "10607  MUSE_20181222_204122_52000    SVT   \n",
       "10608  MUSE_20181222_204123_64000    SVT   \n",
       "10609  MUSE_20181222_204128_13000    SVT   \n",
       "10610  MUSE_20181222_204131_50000    SVT   \n",
       "10611  MUSE_20181222_204132_64000    SVT   \n",
       "10612  MUSE_20181222_204140_77000    SVT   \n",
       "10613  MUSE_20181222_204141_91000    SVT   \n",
       "10614  MUSE_20181222_204143_03000    SVT   \n",
       "10615  MUSE_20181222_204146_34000    SVT   \n",
       "10616  MUSE_20181222_204154_20000    SVT   \n",
       "10617  MUSE_20181222_204155_31000    SVT   \n",
       "10618  MUSE_20181222_204156_45000    SVT   \n",
       "10619  MUSE_20181222_204157_58000    SVT   \n",
       "10620  MUSE_20181222_204158_72000    SVT   \n",
       "10621  MUSE_20181222_204207_92000    SVT   \n",
       "10622  MUSE_20181222_204212_44000    SVT   \n",
       "10623  MUSE_20181222_204217_03000    SVT   \n",
       "10624  MUSE_20181222_204218_14000    SVT   \n",
       "10625  MUSE_20181222_204219_27000    SVT   \n",
       "10626  MUSE_20181222_204222_63000    SVT   \n",
       "10627  MUSE_20181222_204226_00000    SVT   \n",
       "10628  MUSE_20181222_204227_13000    SVT   \n",
       "10629  MUSE_20181222_204236_34000    SVT   \n",
       "10630  MUSE_20181222_204237_47000    SVT   \n",
       "10631  MUSE_20181222_204239_70000    SVT   \n",
       "10632  MUSE_20181222_204240_84000    SVT   \n",
       "10633  MUSE_20181222_204243_08000    SVT   \n",
       "10634  MUSE_20181222_204245_36000    SVT   \n",
       "10635  MUSE_20181222_204246_47000    SVT   \n",
       "10636  MUSE_20181222_204248_77000    SVT   \n",
       "10637  MUSE_20181222_204249_88000    SVT   \n",
       "10638  MUSE_20181222_204302_49000    SVT   \n",
       "10639  MUSE_20181222_204303_61000    SVT   \n",
       "10640  MUSE_20181222_204306_99000    SVT   \n",
       "10641  MUSE_20181222_204309_22000    SVT   \n",
       "10642  MUSE_20181222_204310_31000    SVT   \n",
       "10643  MUSE_20181222_204312_58000    SVT   \n",
       "10644  MUSE_20181222_204314_78000    SVT   \n",
       "\n",
       "                                             lead_1_data  \n",
       "10595  [20.14, 20.912, 22.164, 23.839, 25.251, 25.239...  \n",
       "10596  [-58.714, -57.082, -54.559, -50.502, -44.782, ...  \n",
       "10597  [-176.89, -158.89, -146.33, -141.47, -142.58, ...  \n",
       "10598  [59.599, 42.858, 27.863, 16.301, 9.3144, 7.276...  \n",
       "10599  [-33.878, -35.321, -37.021, -38.884, -40.464, ...  \n",
       "10600  [-8.2793, -7.0818, -5.3492, -2.9468, -0.24004,...  \n",
       "10601  [13.185, 12.445, 11.805, 11.437, 11.552, 12.33...  \n",
       "10602  [-42.747, -44.091, -45.761, -47.674, -49.304, ...  \n",
       "10603  [8.1671, 7.4794, 7.2614, 7.9068, 9.8181, 13.28...  \n",
       "10604  [947.52, 865.5, 779.63, 688.51, 594.07, 500.13...  \n",
       "10605  [0, 0, 0, 0, 0, 0, 0, 0, 0, 0, 0, 0, 0, 0, 0, ...  \n",
       "10606  [0, 0, 0, 0, 0, 0, 0, 0, 0, 0, 0, 0, 0, 0, 0, ...  \n",
       "10607  [0, 0, 0, 0, 0, 0, 0, 0, 0, 0, 0, 0, 0, 0, 0, ...  \n",
       "10608  [0, 0, 0, 0, 0, 0, 0, 0, 0, 0, 0, 0, 0, 0, 0, ...  \n",
       "10609  [0, 0, 0, 0, 0, 0, 0, 0, 0, 0, 0, 0, 0, 0, 0, ...  \n",
       "10610  [0, 0, 0, 0, 0, 0, 0, 0, 0, 0, 0, 0, 0, 0, 0, ...  \n",
       "10611  [0, 0, 0, 0, 0, 0, 0, 0, 0, 0, 0, 0, 0, 0, 0, ...  \n",
       "10612  [0, 0, 0, 0, 0, 0, 0, 0, 0, 0, 0, 0, 0, 0, 0, ...  \n",
       "10613  [0, 0, 0, 0, 0, 0, 0, 0, 0, 0, 0, 0, 0, 0, 0, ...  \n",
       "10614  [0, 0, 0, 0, 0, 0, 0, 0, 0, 0, 0, 0, 0, 0, 0, ...  \n",
       "10615  [0, 0, 0, 0, 0, 0, 0, 0, 0, 0, 0, 0, 0, 0, 0, ...  \n",
       "10616  [0, 0, 0, 0, 0, 0, 0, 0, 0, 0, 0, 0, 0, 0, 0, ...  \n",
       "10617  [0, 0, 0, 0, 0, 0, 0, 0, 0, 0, 0, 0, 0, 0, 0, ...  \n",
       "10618  [0, 0, 0, 0, 0, 0, 0, 0, 0, 0, 0, 0, 0, 0, 0, ...  \n",
       "10619  [0, 0, 0, 0, 0, 0, 0, 0, 0, 0, 0, 0, 0, 0, 0, ...  \n",
       "10620  [0, 0, 0, 0, 0, 0, 0, 0, 0, 0, 0, 0, 0, 0, 0, ...  \n",
       "10621  [0, 0, 0, 0, 0, 0, 0, 0, 0, 0, 0, 0, 0, 0, 0, ...  \n",
       "10622  [0, 0, 0, 0, 0, 0, 0, 0, 0, 0, 0, 0, 0, 0, 0, ...  \n",
       "10623  [0, 0, 0, 0, 0, 0, 0, 0, 0, 0, 0, 0, 0, 0, 0, ...  \n",
       "10624  [0, 0, 0, 0, 0, 0, 0, 0, 0, 0, 0, 0, 0, 0, 0, ...  \n",
       "10625  [0, 0, 0, 0, 0, 0, 0, 0, 0, 0, 0, 0, 0, 0, 0, ...  \n",
       "10626  [0, 0, 0, 0, 0, 0, 0, 0, 0, 0, 0, 0, 0, 0, 0, ...  \n",
       "10627  [0, 0, 0, 0, 0, 0, 0, 0, 0, 0, 0, 0, 0, 0, 0, ...  \n",
       "10628  [0, 0, 0, 0, 0, 0, 0, 0, 0, 0, 0, 0, 0, 0, 0, ...  \n",
       "10629  [0, 0, 0, 0, 0, 0, 0, 0, 0, 0, 0, 0, 0, 0, 0, ...  \n",
       "10630  [0, 0, 0, 0, 0, 0, 0, 0, 0, 0, 0, 0, 0, 0, 0, ...  \n",
       "10631  [0, 0, 0, 0, 0, 0, 0, 0, 0, 0, 0, 0, 0, 0, 0, ...  \n",
       "10632  [0, 0, 0, 0, 0, 0, 0, 0, 0, 0, 0, 0, 0, 0, 0, ...  \n",
       "10633  [0, 0, 0, 0, 0, 0, 0, 0, 0, 0, 0, 0, 0, 0, 0, ...  \n",
       "10634  [0, 0, 0, 0, 0, 0, 0, 0, 0, 0, 0, 0, 0, 0, 0, ...  \n",
       "10635  [0, 0, 0, 0, 0, 0, 0, 0, 0, 0, 0, 0, 0, 0, 0, ...  \n",
       "10636  [0, 0, 0, 0, 0, 0, 0, 0, 0, 0, 0, 0, 0, 0, 0, ...  \n",
       "10637  [0, 0, 0, 0, 0, 0, 0, 0, 0, 0, 0, 0, 0, 0, 0, ...  \n",
       "10638  [0, 0, 0, 0, 0, 0, 0, 0, 0, 0, 0, 0, 0, 0, 0, ...  \n",
       "10639  [0, 0, 0, 0, 0, 0, 0, 0, 0, 0, 0, 0, 0, 0, 0, ...  \n",
       "10640  [0, 0, 0, 0, 0, 0, 0, 0, 0, 0, 0, 0, 0, 0, 0, ...  \n",
       "10641  [0, 0, 0, 0, 0, 0, 0, 0, 0, 0, 0, 0, 0, 0, 0, ...  \n",
       "10642  [0, 0, 0, 0, 0, 0, 0, 0, 0, 0, 0, 0, 0, 0, 0, ...  \n",
       "10643  [0, 0, 0, 0, 0, 0, 0, 0, 0, 0, 0, 0, 0, 0, 0, ...  \n",
       "10644  [0, 0, 0, 0, 0, 0, 0, 0, 0, 0, 0, 0, 0, 0, 0, ...  "
      ]
     },
     "execution_count": 4,
     "metadata": {},
     "output_type": "execute_result"
    }
   ],
   "source": [
    "ecg_df.tail(50)"
   ]
  },
  {
   "cell_type": "code",
   "execution_count": 5,
   "id": "461cf6a1",
   "metadata": {},
   "outputs": [
    {
     "data": {
      "text/html": [
       "<div>\n",
       "<style scoped>\n",
       "    .dataframe tbody tr th:only-of-type {\n",
       "        vertical-align: middle;\n",
       "    }\n",
       "\n",
       "    .dataframe tbody tr th {\n",
       "        vertical-align: top;\n",
       "    }\n",
       "\n",
       "    .dataframe thead th {\n",
       "        text-align: right;\n",
       "    }\n",
       "</style>\n",
       "<table border=\"1\" class=\"dataframe\">\n",
       "  <thead>\n",
       "    <tr style=\"text-align: right;\">\n",
       "      <th></th>\n",
       "      <th>file_name</th>\n",
       "      <th>rhythm</th>\n",
       "      <th>lead_1_data</th>\n",
       "    </tr>\n",
       "  </thead>\n",
       "  <tbody>\n",
       "    <tr>\n",
       "      <th>10600</th>\n",
       "      <td>MUSE_20180712_161449_58000</td>\n",
       "      <td>AFIB</td>\n",
       "      <td>[-8.2793, -7.0818, -5.3492, -2.9468, -0.24004,...</td>\n",
       "    </tr>\n",
       "    <tr>\n",
       "      <th>10601</th>\n",
       "      <td>MUSE_20180712_161451_72000</td>\n",
       "      <td>AFIB</td>\n",
       "      <td>[13.185, 12.445, 11.805, 11.437, 11.552, 12.33...</td>\n",
       "    </tr>\n",
       "    <tr>\n",
       "      <th>10602</th>\n",
       "      <td>MUSE_20180712_161452_78000</td>\n",
       "      <td>AFIB</td>\n",
       "      <td>[-42.747, -44.091, -45.761, -47.674, -49.304, ...</td>\n",
       "    </tr>\n",
       "    <tr>\n",
       "      <th>10603</th>\n",
       "      <td>MUSE_20180712_161503_00000</td>\n",
       "      <td>AFIB</td>\n",
       "      <td>[8.1671, 7.4794, 7.2614, 7.9068, 9.8181, 13.28...</td>\n",
       "    </tr>\n",
       "    <tr>\n",
       "      <th>10604</th>\n",
       "      <td>MUSE_20180712_161505_16000</td>\n",
       "      <td>AFIB</td>\n",
       "      <td>[947.52, 865.5, 779.63, 688.51, 594.07, 500.13...</td>\n",
       "    </tr>\n",
       "  </tbody>\n",
       "</table>\n",
       "</div>"
      ],
      "text/plain": [
       "                        file_name rhythm  \\\n",
       "10600  MUSE_20180712_161449_58000   AFIB   \n",
       "10601  MUSE_20180712_161451_72000   AFIB   \n",
       "10602  MUSE_20180712_161452_78000   AFIB   \n",
       "10603  MUSE_20180712_161503_00000   AFIB   \n",
       "10604  MUSE_20180712_161505_16000   AFIB   \n",
       "\n",
       "                                             lead_1_data  \n",
       "10600  [-8.2793, -7.0818, -5.3492, -2.9468, -0.24004,...  \n",
       "10601  [13.185, 12.445, 11.805, 11.437, 11.552, 12.33...  \n",
       "10602  [-42.747, -44.091, -45.761, -47.674, -49.304, ...  \n",
       "10603  [8.1671, 7.4794, 7.2614, 7.9068, 9.8181, 13.28...  \n",
       "10604  [947.52, 865.5, 779.63, 688.51, 594.07, 500.13...  "
      ]
     },
     "execution_count": 5,
     "metadata": {},
     "output_type": "execute_result"
    }
   ],
   "source": [
    "ekg_df = pd.DataFrame(ecg_df.iloc[:10605])  # Redfine ekg_df to not include the faulty ekgs that have values of [0,0,0,0,0, etc.]\n",
    "ekg_df.tail()"
   ]
  },
  {
   "cell_type": "code",
   "execution_count": 6,
   "id": "b5eb8f3f",
   "metadata": {},
   "outputs": [],
   "source": [
    "unique_rhythms = ekg_df['rhythm'].value_counts() # Counts the amount of each rhythm label to see representation"
   ]
  },
  {
   "cell_type": "code",
   "execution_count": 7,
   "id": "edbc82e5",
   "metadata": {},
   "outputs": [
    {
     "data": {
      "text/plain": [
       "rhythm\n",
       "SB       3888\n",
       "SR       1826\n",
       "AFIB     1780\n",
       "ST       1568\n",
       "SVT       547\n",
       "AF        445\n",
       "SA        399\n",
       "AT        121\n",
       "AVNRT      16\n",
       "AVRT        8\n",
       "SAAWR       7\n",
       "Name: count, dtype: int64"
      ]
     },
     "execution_count": 7,
     "metadata": {},
     "output_type": "execute_result"
    }
   ],
   "source": [
    "unique_rhythms # View unique rhythms counts"
   ]
  },
  {
   "cell_type": "markdown",
   "id": "fa6e408e",
   "metadata": {},
   "source": [
    "## Create df with filtered rhythm labels for CNN training"
   ]
  },
  {
   "cell_type": "markdown",
   "id": "eb1cd33b",
   "metadata": {},
   "source": [
    "**Currently the dataset includes 11 different rhythm labels. I want to simplify this to 7 labels and remove the values of ['AT', 'AVNRT', 'AVRT', 'SAAWR']**"
   ]
  },
  {
   "cell_type": "code",
   "execution_count": 8,
   "id": "c30c9dde",
   "metadata": {},
   "outputs": [],
   "source": [
    "rhythms_to_remove = ['AT', 'AVNRT', 'AVRT', 'SAAWR']  # I do not want my CNN to learn these rhythms and will \n",
    "                                                      # create a new DataFrame that excludes rows with the specified rhythms\n",
    "\n",
    "# Create new df with only rhythms I want to teach CNN to identify                                              \n",
    "filtered_ekg_df = ekg_df[~ekg_df['rhythm'].isin(rhythms_to_remove)]\n"
   ]
  },
  {
   "cell_type": "code",
   "execution_count": 9,
   "id": "67120173",
   "metadata": {},
   "outputs": [
    {
     "data": {
      "text/plain": [
       "rhythm\n",
       "SB      3888\n",
       "SR      1826\n",
       "AFIB    1780\n",
       "ST      1568\n",
       "SVT      547\n",
       "AF       445\n",
       "SA       399\n",
       "Name: count, dtype: int64"
      ]
     },
     "execution_count": 9,
     "metadata": {},
     "output_type": "execute_result"
    }
   ],
   "source": [
    "filtered_unique_rhythms = filtered_ekg_df['rhythm'].value_counts() # Create a count of representation of each of the 7 labels\n",
    "filtered_unique_rhythms                                            # Verify counts and representations in dataframe"
   ]
  },
  {
   "cell_type": "code",
   "execution_count": 10,
   "id": "15d9714d",
   "metadata": {},
   "outputs": [
    {
     "name": "stdout",
     "output_type": "stream",
     "text": [
      "<class 'pandas.core.frame.DataFrame'>\n",
      "Index: 10453 entries, 0 to 10604\n",
      "Data columns (total 3 columns):\n",
      " #   Column       Non-Null Count  Dtype \n",
      "---  ------       --------------  ----- \n",
      " 0   file_name    10453 non-null  object\n",
      " 1   rhythm       10453 non-null  object\n",
      " 2   lead_1_data  10453 non-null  object\n",
      "dtypes: object(3)\n",
      "memory usage: 326.7+ KB\n"
     ]
    }
   ],
   "source": [
    "filtered_ekg_df.info()"
   ]
  },
  {
   "cell_type": "code",
   "execution_count": 11,
   "id": "73fafb09",
   "metadata": {},
   "outputs": [
    {
     "data": {
      "text/plain": [
       "10453"
      ]
     },
     "execution_count": 11,
     "metadata": {},
     "output_type": "execute_result"
    }
   ],
   "source": [
    "len(filtered_ekg_df)"
   ]
  },
  {
   "cell_type": "markdown",
   "id": "9a0ab2a2",
   "metadata": {},
   "source": [
    "filtered_ekg_df , filtered_unique_rhythms\n"
   ]
  },
  {
   "cell_type": "code",
   "execution_count": 12,
   "id": "f5b8b677",
   "metadata": {},
   "outputs": [
    {
     "name": "stdout",
     "output_type": "stream",
     "text": [
      "Extracted label: SVT\n"
     ]
    }
   ],
   "source": [
    "# Example filename\n",
    "filename = \"MUSE_20180111_155633_99000_rhythm_label_SVT.png\"\n",
    "\n",
    "def extract_label(filename):\n",
    "    # Find the starting point of the label (after '_rhythm_label_')\n",
    "    start_index = filename.find('_rhythm_label_')\n",
    "\n",
    "    # Extract the part after '_rhythm_label_'\n",
    "    label_and_extension = filename[start_index + len('_rhythm_label_'):]\n",
    "\n",
    "    # Remove the '.png' extension\n",
    "    label = label_and_extension.replace('.png', '')\n",
    "    return label\n",
    "\n",
    "# Test the function\n",
    "label = extract_label(filename)\n",
    "print(f\"Extracted label: {label}\") # Output: Extracted label: SVT"
   ]
  },
  {
   "cell_type": "code",
   "execution_count": 13,
   "id": "810da1b0",
   "metadata": {},
   "outputs": [
    {
     "name": "stdout",
     "output_type": "stream",
     "text": [
      "Total images found: 10452\n",
      "Total labels found: 10452\n",
      "First 5 image paths: ['ecg_images_NoColor/MUSE_20180113_124114_43000_rhythm_label_AFIB.png', 'ecg_images_NoColor/MUSE_20180114_132724_77000_rhythm_label_AFIB.png', 'ecg_images_NoColor/MUSE_20180114_070004_97000_rhythm_label_ST.png', 'ecg_images_NoColor/MUSE_20180113_073010_84000_rhythm_label_AFIB.png', 'ecg_images_NoColor/MUSE_20180118_175159_70000_rhythm_label_SB.png']\n",
      "First 5 labels: ['AFIB', 'AFIB', 'ST', 'AFIB', 'SB']\n",
      "last 5 lables ['SR', 'SVT', 'SB', 'ST', 'ST']\n"
     ]
    }
   ],
   "source": [
    "# --- Define the set of rhythms to KEEP ---\n",
    "\n",
    "allowed_labels = {'SB', 'SR', 'AFIB', 'ST', 'SVT', 'AF', 'SA'}\n",
    "\n",
    "# apply to all files\n",
    "image_dir = 'ecg_images_NoColor' # **CHANGE THIS TO YOUR ACTUAL IMAGE FOLDER PATH**\n",
    "image_paths = []\n",
    "labels = []\n",
    "\n",
    "for filename in os.listdir(image_dir):\n",
    "    if filename.endswith('.png'):\n",
    "        full_path = os.path.join(image_dir, filename)\n",
    "        extracted_label = extract_label(filename)\n",
    "        \n",
    "        # --- MODIFIED: Check if the label is valid AND in the allowed list ---\n",
    "        if extracted_label and extracted_label in allowed_labels:\n",
    "            image_paths.append(full_path)\n",
    "            labels.append(extracted_label)\n",
    "\n",
    "print(f\"Total images found: {len(image_paths)}\")\n",
    "print(f\"Total labels found: {len(labels)}\")\n",
    "\n",
    "# inspect the first few to verify\n",
    "print(\"First 5 image paths:\", image_paths[:5])\n",
    "print(\"First 5 labels:\", labels[:5])\n",
    "print(\"last 5 lables\", labels[-5:])"
   ]
  },
  {
   "cell_type": "code",
   "execution_count": 14,
   "id": "3b22be40",
   "metadata": {},
   "outputs": [
    {
     "data": {
      "text/plain": [
       "{'AF', 'AFIB', 'SA', 'SB', 'SR', 'ST', 'SVT'}"
      ]
     },
     "execution_count": 14,
     "metadata": {},
     "output_type": "execute_result"
    }
   ],
   "source": [
    "labels_unique = set(labels)\n",
    "labels_unique"
   ]
  },
  {
   "cell_type": "code",
   "execution_count": 15,
   "id": "47dac19d",
   "metadata": {},
   "outputs": [],
   "source": [
    "X_paths = np.array(image_paths)\n",
    "y = np.array(labels)"
   ]
  },
  {
   "cell_type": "code",
   "execution_count": 16,
   "id": "17cb9d7c",
   "metadata": {},
   "outputs": [],
   "source": [
    "X_train_paths, X_test_paths, y_train, y_test = train_test_split(\n",
    "    X_paths, y, test_size=0.2, random_state=27, stratify=y\n",
    ")"
   ]
  },
  {
   "cell_type": "code",
   "execution_count": 17,
   "id": "9073c6b7",
   "metadata": {},
   "outputs": [
    {
     "name": "stdout",
     "output_type": "stream",
     "text": [
      "Training images: 8361, Training labels: 8361\n",
      "Testing images: 2091, Testing labels: 2091\n",
      "\n",
      "Sample training data:\n",
      "Image Path: ecg_images_NoColor/MUSE_20180118_175359_48000_rhythm_label_ST.png, Label: ST\n",
      "Image Path: ecg_images_NoColor/MUSE_20180116_174909_70000_rhythm_label_AFIB.png, Label: AFIB\n",
      "Image Path: ecg_images_NoColor/MUSE_20180114_134421_40000_rhythm_label_SB.png, Label: SB\n",
      "\n",
      "Sample testing data:\n",
      "Image Path: ecg_images_NoColor/MUSE_20180112_075324_37000_rhythm_label_SB.png, Label: SB\n",
      "Image Path: ecg_images_NoColor/MUSE_20180113_183634_23000_rhythm_label_SB.png, Label: SB\n",
      "Image Path: ecg_images_NoColor/MUSE_20180115_131612_92000_rhythm_label_SB.png, Label: SB\n"
     ]
    }
   ],
   "source": [
    "print(f\"Training images: {len(X_train_paths)}, Training labels: {len(y_train)}\")\n",
    "print(f\"Testing images: {len(X_test_paths)}, Testing labels: {len(y_test)}\")\n",
    "\n",
    "# Check a sample to confirm\n",
    "print(\"\\nSample training data:\")\n",
    "for i in range(3):\n",
    "    print(f\"Image Path: {X_train_paths[i]}, Label: {y_train[i]}\")\n",
    "\n",
    "print(\"\\nSample testing data:\")\n",
    "for i in range(3):\n",
    "    print(f\"Image Path: {X_test_paths[i]}, Label: {y_test[i]}\")"
   ]
  },
  {
   "cell_type": "code",
   "execution_count": 18,
   "id": "681c1d14",
   "metadata": {},
   "outputs": [
    {
     "name": "stdout",
     "output_type": "stream",
     "text": [
      "\n",
      "Original labels to encoded integers mapping:\n",
      "AF -> 0\n",
      "AFIB -> 1\n",
      "SA -> 2\n",
      "SB -> 3\n",
      "SR -> 4\n",
      "ST -> 5\n",
      "SVT -> 6\n",
      "\n",
      "Sample encoded training labels: [5 1 3 3 3]\n",
      "Sample encoded testing labels: [3 3 3 3 1]\n"
     ]
    }
   ],
   "source": [
    "from sklearn.preprocessing import LabelEncoder\n",
    "\n",
    "# Initialize LabelEncoder\n",
    "label_encoder = LabelEncoder()\n",
    "\n",
    "# Fit the encoder to all unique labels and transform them to integers\n",
    "y_train_encoded = label_encoder.fit_transform(y_train)\n",
    "y_test_encoded = label_encoder.transform(y_test)                    # Use transform, not fit_transform, for test set\n",
    "\n",
    "# To see the mapping:\n",
    "print(\"\\nOriginal labels to encoded integers mapping:\")\n",
    "for i, label in enumerate(label_encoder.classes_):\n",
    "    print(f\"{label} -> {i}\")\n",
    "\n",
    "print(\"\\nSample encoded training labels:\", y_train_encoded[:5])\n",
    "print(\"Sample encoded testing labels:\", y_test_encoded[:5])"
   ]
  },
  {
   "cell_type": "code",
   "execution_count": 19,
   "id": "018271b0",
   "metadata": {},
   "outputs": [],
   "source": [
    "# ---- Function for loading and processing the ekg images ---\n",
    "\n",
    "def preprocess_image(path, label):\n",
    "  \"\"\"\n",
    "  This function loads and preprocesses images.\n",
    "  It reads the file, and is sure all files have 3\n",
    "  channels (RGB). It then resizes the image to fit\n",
    "  into a 128 X 512 Convelutional Neural Network (CNN).\n",
    "  It returns the resized image.\n",
    "  \"\"\"\n",
    "\n",
    "  # Read the raw png pile from path argument\n",
    "  image = tf.io.read_file(path)\n",
    "\n",
    "  # Decode image and ensure all images are 3 dimensions\n",
    "  image = tf.io.decode_png(image, channels=3)\n",
    "\n",
    "  # resize image to fit into CNN\n",
    "  # current ecg images are 1400 X 400?\n",
    "  # change to 128 X 512 for CNN\n",
    "  image = tf.image.resize(image, [width_image, height_image])\n",
    "\n",
    "  return image, label"
   ]
  },
  {
   "cell_type": "code",
   "execution_count": 20,
   "id": "d66aa32e",
   "metadata": {},
   "outputs": [
    {
     "name": "stdout",
     "output_type": "stream",
     "text": [
      "✅ Datasets created successfully!\n",
      "Training Dataset: <_PrefetchDataset element_spec=(TensorSpec(shape=(None, 128, 512, 3), dtype=tf.float32, name=None), TensorSpec(shape=(None,), dtype=tf.int64, name=None))>\n",
      "Testing Dataset: <_PrefetchDataset element_spec=(TensorSpec(shape=(None, 128, 512, 3), dtype=tf.float32, name=None), TensorSpec(shape=(None,), dtype=tf.int64, name=None))>\n"
     ]
    },
    {
     "name": "stderr",
     "output_type": "stream",
     "text": [
      "WARNING: All log messages before absl::InitializeLog() is called are written to STDERR\n",
      "I0000 00:00:1755619785.844302  311664 gpu_device.cc:2020] Created device /job:localhost/replica:0/task:0/device:GPU:0 with 3537 MB memory:  -> device: 0, name: NVIDIA GeForce RTX 4050 Laptop GPU, pci bus id: 0000:01:00.0, compute capability: 8.9\n"
     ]
    }
   ],
   "source": [
    "# --- 1. Set up Constants and AUTOTUNE ---\n",
    "AUTOTUNE = tf.data.AUTOTUNE\n",
    "BATCH_SIZE = 32\n",
    "IMG_HEIGHT = 128\n",
    "IMG_WIDTH = 512\n",
    "num_classes=7\n",
    "\n",
    "# Assuming you have these from your previous steps:\n",
    "# X_train_paths, y_train_encoded\n",
    "# X_test_paths, y_test_encoded\n",
    "\n",
    "# --- 2. Create a Function to Load and Preprocess Images ---\n",
    "# This function will be applied to every file path in your dataset.\n",
    "def process_path(file_path, label):\n",
    "    # Read the raw file from the path\n",
    "    img = tf.io.read_file(file_path)\n",
    "    # Decode it as a 3-channel (RGB) PNG image\n",
    "    img = tf.io.decode_png(img, channels=3)\n",
    "    # Resize the image to the desired size\n",
    "    img = tf.image.resize(img, [IMG_HEIGHT, IMG_WIDTH])\n",
    "    # Normalize pixel values to be between 0 and 1\n",
    "    img = img / 255.0\n",
    "    return img, label\n",
    "\n",
    "# --- 3. Build the Training and Testing Datasets ---\n",
    "\n",
    "# Create the training dataset from your file paths and encoded labels\n",
    "train_ds = tf.data.Dataset.from_tensor_slices((X_train_paths, y_train_encoded))\n",
    "train_ds = train_ds.map(process_path, num_parallel_calls=AUTOTUNE)\n",
    "train_ds = train_ds.cache() # Cache the preprocessed images\n",
    "train_ds = train_ds.shuffle(buffer_size=len(X_train_paths)) # Shuffle the data\n",
    "train_ds = train_ds.batch(BATCH_SIZE)\n",
    "train_ds = train_ds.prefetch(buffer_size=AUTOTUNE) # Overlap data processing and model execution\n",
    "\n",
    "# Create the testing dataset\n",
    "test_ds = tf.data.Dataset.from_tensor_slices((X_test_paths, y_test_encoded))\n",
    "test_ds = test_ds.map(process_path, num_parallel_calls=AUTOTUNE)\n",
    "test_ds = test_ds.batch(BATCH_SIZE)\n",
    "test_ds = test_ds.cache() # Cache for faster evaluation\n",
    "test_ds = test_ds.prefetch(buffer_size=AUTOTUNE)\n",
    "\n",
    "print(\"✅ Datasets created successfully!\")\n",
    "print(\"Training Dataset:\", train_ds)\n",
    "print(\"Testing Dataset:\", test_ds)"
   ]
  },
  {
   "cell_type": "code",
   "execution_count": 21,
   "id": "0d29c4ba",
   "metadata": {},
   "outputs": [
    {
     "name": "stderr",
     "output_type": "stream",
     "text": [
      "2025-08-19 11:09:49.443476: I tensorflow/core/framework/local_rendezvous.cc:407] Local rendezvous is aborting with status: OUT_OF_RANGE: End of sequence\n"
     ]
    },
    {
     "data": {
      "image/png": "[encoded data removed]",
      "text/plain": [
       "<Figure size 2000x1000 with 9 Axes>"
      ]
     },
     "metadata": {},
     "output_type": "display_data"
    }
   ],
   "source": [
    "# To get the original string labels for plotting\n",
    "class_names = label_encoder.classes_\n",
    "\n",
    "plt.figure(figsize=(20, 10))\n",
    "for images, labels in train_ds.take(1): # Take one batch\n",
    "  for i in range(9):\n",
    "    ax = plt.subplot(3, 3, i + 1)\n",
    "    plt.imshow(images[i].numpy()) # .numpy() converts the tensor to a numpy array\n",
    "    plt.title(class_names[labels[i]])\n",
    "    plt.axis(\"off\")\n",
    "plt.show()"
   ]
  },
  {
   "cell_type": "markdown",
   "id": "3dce751d",
   "metadata": {},
   "source": [
    "# CNN Model1"
   ]
  },
  {
   "cell_type": "code",
   "execution_count": 21,
   "id": "de5d7d64",
   "metadata": {},
   "outputs": [
    {
     "data": {
      "text/html": [
       "<pre style=\"white-space:pre;overflow-x:auto;line-height:normal;font-family:Menlo,'DejaVu Sans Mono',consolas,'Courier New',monospace\"><span style=\"font-weight: bold\">Model: \"sequential\"</span>\n",
       "</pre>\n"
      ],
      "text/plain": [
       "\u001b[1mModel: \"sequential\"\u001b[0m\n"
      ]
     },
     "metadata": {},
     "output_type": "display_data"
    },
    {
     "data": {
      "text/html": [
       "<pre style=\"white-space:pre;overflow-x:auto;line-height:normal;font-family:Menlo,'DejaVu Sans Mono',consolas,'Courier New',monospace\">┏━━━━━━━━━━━━━━━━━━━━━━━━━━━━━━━━━┳━━━━━━━━━━━━━━━━━━━━━━━━┳━━━━━━━━━━━━━━━┓\n",
       "┃<span style=\"font-weight: bold\"> Layer (type)                    </span>┃<span style=\"font-weight: bold\"> Output Shape           </span>┃<span style=\"font-weight: bold\">       Param # </span>┃\n",
       "┡━━━━━━━━━━━━━━━━━━━━━━━━━━━━━━━━━╇━━━━━━━━━━━━━━━━━━━━━━━━╇━━━━━━━━━━━━━━━┩\n",
       "│ conv2d (<span style=\"color: #0087ff; text-decoration-color: #0087ff\">Conv2D</span>)                 │ (<span style=\"color: #00d7ff; text-decoration-color: #00d7ff\">None</span>, <span style=\"color: #00af00; text-decoration-color: #00af00\">128</span>, <span style=\"color: #00af00; text-decoration-color: #00af00\">512</span>, <span style=\"color: #00af00; text-decoration-color: #00af00\">32</span>)   │           <span style=\"color: #00af00; text-decoration-color: #00af00\">896</span> │\n",
       "├─────────────────────────────────┼────────────────────────┼───────────────┤\n",
       "│ max_pooling2d (<span style=\"color: #0087ff; text-decoration-color: #0087ff\">MaxPooling2D</span>)    │ (<span style=\"color: #00d7ff; text-decoration-color: #00d7ff\">None</span>, <span style=\"color: #00af00; text-decoration-color: #00af00\">64</span>, <span style=\"color: #00af00; text-decoration-color: #00af00\">256</span>, <span style=\"color: #00af00; text-decoration-color: #00af00\">32</span>)    │             <span style=\"color: #00af00; text-decoration-color: #00af00\">0</span> │\n",
       "├─────────────────────────────────┼────────────────────────┼───────────────┤\n",
       "│ conv2d_1 (<span style=\"color: #0087ff; text-decoration-color: #0087ff\">Conv2D</span>)               │ (<span style=\"color: #00d7ff; text-decoration-color: #00d7ff\">None</span>, <span style=\"color: #00af00; text-decoration-color: #00af00\">64</span>, <span style=\"color: #00af00; text-decoration-color: #00af00\">256</span>, <span style=\"color: #00af00; text-decoration-color: #00af00\">64</span>)    │        <span style=\"color: #00af00; text-decoration-color: #00af00\">18,496</span> │\n",
       "├─────────────────────────────────┼────────────────────────┼───────────────┤\n",
       "│ max_pooling2d_1 (<span style=\"color: #0087ff; text-decoration-color: #0087ff\">MaxPooling2D</span>)  │ (<span style=\"color: #00d7ff; text-decoration-color: #00d7ff\">None</span>, <span style=\"color: #00af00; text-decoration-color: #00af00\">32</span>, <span style=\"color: #00af00; text-decoration-color: #00af00\">128</span>, <span style=\"color: #00af00; text-decoration-color: #00af00\">64</span>)    │             <span style=\"color: #00af00; text-decoration-color: #00af00\">0</span> │\n",
       "├─────────────────────────────────┼────────────────────────┼───────────────┤\n",
       "│ conv2d_2 (<span style=\"color: #0087ff; text-decoration-color: #0087ff\">Conv2D</span>)               │ (<span style=\"color: #00d7ff; text-decoration-color: #00d7ff\">None</span>, <span style=\"color: #00af00; text-decoration-color: #00af00\">32</span>, <span style=\"color: #00af00; text-decoration-color: #00af00\">128</span>, <span style=\"color: #00af00; text-decoration-color: #00af00\">128</span>)   │        <span style=\"color: #00af00; text-decoration-color: #00af00\">73,856</span> │\n",
       "├─────────────────────────────────┼────────────────────────┼───────────────┤\n",
       "│ max_pooling2d_2 (<span style=\"color: #0087ff; text-decoration-color: #0087ff\">MaxPooling2D</span>)  │ (<span style=\"color: #00d7ff; text-decoration-color: #00d7ff\">None</span>, <span style=\"color: #00af00; text-decoration-color: #00af00\">16</span>, <span style=\"color: #00af00; text-decoration-color: #00af00\">64</span>, <span style=\"color: #00af00; text-decoration-color: #00af00\">128</span>)    │             <span style=\"color: #00af00; text-decoration-color: #00af00\">0</span> │\n",
       "├─────────────────────────────────┼────────────────────────┼───────────────┤\n",
       "│ dropout (<span style=\"color: #0087ff; text-decoration-color: #0087ff\">Dropout</span>)               │ (<span style=\"color: #00d7ff; text-decoration-color: #00d7ff\">None</span>, <span style=\"color: #00af00; text-decoration-color: #00af00\">16</span>, <span style=\"color: #00af00; text-decoration-color: #00af00\">64</span>, <span style=\"color: #00af00; text-decoration-color: #00af00\">128</span>)    │             <span style=\"color: #00af00; text-decoration-color: #00af00\">0</span> │\n",
       "├─────────────────────────────────┼────────────────────────┼───────────────┤\n",
       "│ flatten (<span style=\"color: #0087ff; text-decoration-color: #0087ff\">Flatten</span>)               │ (<span style=\"color: #00d7ff; text-decoration-color: #00d7ff\">None</span>, <span style=\"color: #00af00; text-decoration-color: #00af00\">131072</span>)         │             <span style=\"color: #00af00; text-decoration-color: #00af00\">0</span> │\n",
       "├─────────────────────────────────┼────────────────────────┼───────────────┤\n",
       "│ dense (<span style=\"color: #0087ff; text-decoration-color: #0087ff\">Dense</span>)                   │ (<span style=\"color: #00d7ff; text-decoration-color: #00d7ff\">None</span>, <span style=\"color: #00af00; text-decoration-color: #00af00\">512</span>)            │    <span style=\"color: #00af00; text-decoration-color: #00af00\">67,109,376</span> │\n",
       "├─────────────────────────────────┼────────────────────────┼───────────────┤\n",
       "│ dropout_1 (<span style=\"color: #0087ff; text-decoration-color: #0087ff\">Dropout</span>)             │ (<span style=\"color: #00d7ff; text-decoration-color: #00d7ff\">None</span>, <span style=\"color: #00af00; text-decoration-color: #00af00\">512</span>)            │             <span style=\"color: #00af00; text-decoration-color: #00af00\">0</span> │\n",
       "├─────────────────────────────────┼────────────────────────┼───────────────┤\n",
       "│ dense_1 (<span style=\"color: #0087ff; text-decoration-color: #0087ff\">Dense</span>)                 │ (<span style=\"color: #00d7ff; text-decoration-color: #00d7ff\">None</span>, <span style=\"color: #00af00; text-decoration-color: #00af00\">7</span>)              │         <span style=\"color: #00af00; text-decoration-color: #00af00\">3,591</span> │\n",
       "└─────────────────────────────────┴────────────────────────┴───────────────┘\n",
       "</pre>\n"
      ],
      "text/plain": [
       "┏━━━━━━━━━━━━━━━━━━━━━━━━━━━━━━━━━┳━━━━━━━━━━━━━━━━━━━━━━━━┳━━━━━━━━━━━━━━━┓\n",
       "┃\u001b[1m \u001b[0m\u001b[1mLayer (type)                   \u001b[0m\u001b[1m \u001b[0m┃\u001b[1m \u001b[0m\u001b[1mOutput Shape          \u001b[0m\u001b[1m \u001b[0m┃\u001b[1m \u001b[0m\u001b[1m      Param #\u001b[0m\u001b[1m \u001b[0m┃\n",
       "┡━━━━━━━━━━━━━━━━━━━━━━━━━━━━━━━━━╇━━━━━━━━━━━━━━━━━━━━━━━━╇━━━━━━━━━━━━━━━┩\n",
       "│ conv2d (\u001b[38;5;33mConv2D\u001b[0m)                 │ (\u001b[38;5;45mNone\u001b[0m, \u001b[38;5;34m128\u001b[0m, \u001b[38;5;34m512\u001b[0m, \u001b[38;5;34m32\u001b[0m)   │           \u001b[38;5;34m896\u001b[0m │\n",
       "├─────────────────────────────────┼────────────────────────┼───────────────┤\n",
       "│ max_pooling2d (\u001b[38;5;33mMaxPooling2D\u001b[0m)    │ (\u001b[38;5;45mNone\u001b[0m, \u001b[38;5;34m64\u001b[0m, \u001b[38;5;34m256\u001b[0m, \u001b[38;5;34m32\u001b[0m)    │             \u001b[38;5;34m0\u001b[0m │\n",
       "├─────────────────────────────────┼────────────────────────┼───────────────┤\n",
       "│ conv2d_1 (\u001b[38;5;33mConv2D\u001b[0m)               │ (\u001b[38;5;45mNone\u001b[0m, \u001b[38;5;34m64\u001b[0m, \u001b[38;5;34m256\u001b[0m, \u001b[38;5;34m64\u001b[0m)    │        \u001b[38;5;34m18,496\u001b[0m │\n",
       "├─────────────────────────────────┼────────────────────────┼───────────────┤\n",
       "│ max_pooling2d_1 (\u001b[38;5;33mMaxPooling2D\u001b[0m)  │ (\u001b[38;5;45mNone\u001b[0m, \u001b[38;5;34m32\u001b[0m, \u001b[38;5;34m128\u001b[0m, \u001b[38;5;34m64\u001b[0m)    │             \u001b[38;5;34m0\u001b[0m │\n",
       "├─────────────────────────────────┼────────────────────────┼───────────────┤\n",
       "│ conv2d_2 (\u001b[38;5;33mConv2D\u001b[0m)               │ (\u001b[38;5;45mNone\u001b[0m, \u001b[38;5;34m32\u001b[0m, \u001b[38;5;34m128\u001b[0m, \u001b[38;5;34m128\u001b[0m)   │        \u001b[38;5;34m73,856\u001b[0m │\n",
       "├─────────────────────────────────┼────────────────────────┼───────────────┤\n",
       "│ max_pooling2d_2 (\u001b[38;5;33mMaxPooling2D\u001b[0m)  │ (\u001b[38;5;45mNone\u001b[0m, \u001b[38;5;34m16\u001b[0m, \u001b[38;5;34m64\u001b[0m, \u001b[38;5;34m128\u001b[0m)    │             \u001b[38;5;34m0\u001b[0m │\n",
       "├─────────────────────────────────┼────────────────────────┼───────────────┤\n",
       "│ dropout (\u001b[38;5;33mDropout\u001b[0m)               │ (\u001b[38;5;45mNone\u001b[0m, \u001b[38;5;34m16\u001b[0m, \u001b[38;5;34m64\u001b[0m, \u001b[38;5;34m128\u001b[0m)    │             \u001b[38;5;34m0\u001b[0m │\n",
       "├─────────────────────────────────┼────────────────────────┼───────────────┤\n",
       "│ flatten (\u001b[38;5;33mFlatten\u001b[0m)               │ (\u001b[38;5;45mNone\u001b[0m, \u001b[38;5;34m131072\u001b[0m)         │             \u001b[38;5;34m0\u001b[0m │\n",
       "├─────────────────────────────────┼────────────────────────┼───────────────┤\n",
       "│ dense (\u001b[38;5;33mDense\u001b[0m)                   │ (\u001b[38;5;45mNone\u001b[0m, \u001b[38;5;34m512\u001b[0m)            │    \u001b[38;5;34m67,109,376\u001b[0m │\n",
       "├─────────────────────────────────┼────────────────────────┼───────────────┤\n",
       "│ dropout_1 (\u001b[38;5;33mDropout\u001b[0m)             │ (\u001b[38;5;45mNone\u001b[0m, \u001b[38;5;34m512\u001b[0m)            │             \u001b[38;5;34m0\u001b[0m │\n",
       "├─────────────────────────────────┼────────────────────────┼───────────────┤\n",
       "│ dense_1 (\u001b[38;5;33mDense\u001b[0m)                 │ (\u001b[38;5;45mNone\u001b[0m, \u001b[38;5;34m7\u001b[0m)              │         \u001b[38;5;34m3,591\u001b[0m │\n",
       "└─────────────────────────────────┴────────────────────────┴───────────────┘\n"
      ]
     },
     "metadata": {},
     "output_type": "display_data"
    },
    {
     "data": {
      "text/html": [
       "<pre style=\"white-space:pre;overflow-x:auto;line-height:normal;font-family:Menlo,'DejaVu Sans Mono',consolas,'Courier New',monospace\"><span style=\"font-weight: bold\"> Total params: </span><span style=\"color: #00af00; text-decoration-color: #00af00\">67,206,215</span> (256.37 MB)\n",
       "</pre>\n"
      ],
      "text/plain": [
       "\u001b[1m Total params: \u001b[0m\u001b[38;5;34m67,206,215\u001b[0m (256.37 MB)\n"
      ]
     },
     "metadata": {},
     "output_type": "display_data"
    },
    {
     "data": {
      "text/html": [
       "<pre style=\"white-space:pre;overflow-x:auto;line-height:normal;font-family:Menlo,'DejaVu Sans Mono',consolas,'Courier New',monospace\"><span style=\"font-weight: bold\"> Trainable params: </span><span style=\"color: #00af00; text-decoration-color: #00af00\">67,206,215</span> (256.37 MB)\n",
       "</pre>\n"
      ],
      "text/plain": [
       "\u001b[1m Trainable params: \u001b[0m\u001b[38;5;34m67,206,215\u001b[0m (256.37 MB)\n"
      ]
     },
     "metadata": {},
     "output_type": "display_data"
    },
    {
     "data": {
      "text/html": [
       "<pre style=\"white-space:pre;overflow-x:auto;line-height:normal;font-family:Menlo,'DejaVu Sans Mono',consolas,'Courier New',monospace\"><span style=\"font-weight: bold\"> Non-trainable params: </span><span style=\"color: #00af00; text-decoration-color: #00af00\">0</span> (0.00 B)\n",
       "</pre>\n"
      ],
      "text/plain": [
       "\u001b[1m Non-trainable params: \u001b[0m\u001b[38;5;34m0\u001b[0m (0.00 B)\n"
      ]
     },
     "metadata": {},
     "output_type": "display_data"
    }
   ],
   "source": [
    "input_shape = (IMG_HEIGHT, IMG_WIDTH, 3)\n",
    "\n",
    "# Create the Sequential model\n",
    "ekg_model = models.Sequential([\n",
    "    # Input Layer\n",
    "    layers.Input(shape=input_shape),\n",
    "\n",
    "    # --- Feature Extraction Block ---\n",
    "\n",
    "    # First Convolutional Block\n",
    "    # 32 filters to learn basic features like edges and gradients.\n",
    "    layers.Conv2D(32, (3, 3), activation='relu', padding='same'),\n",
    "    layers.MaxPooling2D((2, 2)),\n",
    "\n",
    "    # Second Convolutional Block\n",
    "    # 64 filters to learn more complex patterns from the first block's features.\n",
    "    layers.Conv2D(64, (3, 3), activation='relu', padding='same'),\n",
    "    layers.MaxPooling2D((2, 2)),\n",
    "\n",
    "    # Third Convolutional Block\n",
    "    # 128 filters to learn even more abstract features.\n",
    "    layers.Conv2D(128, (3, 3), activation='relu', padding='same'),\n",
    "    layers.MaxPooling2D((2, 2)),\n",
    "    # Dropout layer to help prevent overfitting.\n",
    "    layers.Dropout(0.25),\n",
    "\n",
    "    # --- Classifier Head ---\n",
    "\n",
    "    # Flatten the 3D feature maps into a 1D vector.\n",
    "    layers.Flatten(),\n",
    "\n",
    "    # A dense layer to perform high-level reasoning.\n",
    "    layers.Dense(512, activation='relu'),\n",
    "    # Another dropout layer for regularization.\n",
    "    layers.Dropout(0.5),\n",
    "\n",
    "    # The final output layer.\n",
    "    # It must have `num_classes` units and 'softmax' activation\n",
    "    # for multi-class probability scores.\n",
    "    layers.Dense(num_classes, activation='softmax')\n",
    "])\n",
    "\n",
    "# Print the model's architecture\n",
    "ekg_model.summary()"
   ]
  },
  {
   "cell_type": "code",
   "execution_count": 22,
   "id": "70690e12",
   "metadata": {},
   "outputs": [
    {
     "name": "stdout",
     "output_type": "stream",
     "text": [
      "Epoch 1/50\n"
     ]
    },
    {
     "name": "stderr",
     "output_type": "stream",
     "text": [
      "/home/brett_tay_12/workspace/.tf-env/lib/python3.12/site-packages/keras/src/backend/tensorflow/nn.py:717: UserWarning: \"`sparse_categorical_crossentropy` received `from_logits=True`, but the `output` argument was produced by a Softmax activation and thus does not represent logits. Was this intended?\n",
      "  output, from_logits = _get_logits(\n",
      "2025-08-17 17:00:00.542542: I external/local_xla/xla/service/service.cc:163] XLA service 0x7f4ff401f740 initialized for platform CUDA (this does not guarantee that XLA will be used). Devices:\n",
      "2025-08-17 17:00:00.542589: I external/local_xla/xla/service/service.cc:171]   StreamExecutor device (0): NVIDIA GeForce RTX 4050 Laptop GPU, Compute Capability 8.9\n",
      "2025-08-17 17:00:00.568431: I tensorflow/compiler/mlir/tensorflow/utils/dump_mlir_util.cc:269] disabling MLIR crash reproducer, set env var `MLIR_CRASH_REPRODUCER_DIRECTORY` to enable.\n",
      "2025-08-17 17:00:00.762582: I external/local_xla/xla/stream_executor/cuda/cuda_dnn.cc:473] Loaded cuDNN version 91200\n",
      "2025-08-17 17:00:01.650939: I external/local_xla/xla/stream_executor/cuda/subprocess_compilation.cc:346] ptxas warning : Registers are spilled to local memory in function 'gemm_fusion_dot_955', 60 bytes spill stores, 60 bytes spill loads\n",
      "\n",
      "2025-08-17 17:00:03.353246: W external/local_xla/xla/tsl/framework/bfc_allocator.cc:310] Allocator (GPU_0_bfc) ran out of memory trying to allocate 5.05GiB with freed_by_count=0. The caller indicates that this is not a failure, but this may mean that there could be performance gains if more memory were available.\n",
      "2025-08-17 17:00:05.904215: W external/local_xla/xla/tsl/framework/bfc_allocator.cc:310] Allocator (GPU_0_bfc) ran out of memory trying to allocate 4.11GiB with freed_by_count=0. The caller indicates that this is not a failure, but this may mean that there could be performance gains if more memory were available.\n"
     ]
    },
    {
     "name": "stdout",
     "output_type": "stream",
     "text": [
      "\u001b[1m  1/262\u001b[0m \u001b[37m━━━━━━━━━━━━━━━━━━━━\u001b[0m \u001b[1m37:15\u001b[0m 9s/step - accuracy: 0.1250 - loss: 1.9548"
     ]
    },
    {
     "name": "stderr",
     "output_type": "stream",
     "text": [
      "I0000 00:00:1755468007.773880  131309 device_compiler.h:196] Compiled cluster using XLA!  This line is logged at most once for the lifetime of the process.\n"
     ]
    },
    {
     "name": "stdout",
     "output_type": "stream",
     "text": [
      "\u001b[1m261/262\u001b[0m \u001b[32m━━━━━━━━━━━━━━━━━━━\u001b[0m\u001b[37m━\u001b[0m \u001b[1m0s\u001b[0m 86ms/step - accuracy: 0.3369 - loss: 1.8055"
     ]
    },
    {
     "name": "stderr",
     "output_type": "stream",
     "text": [
      "2025-08-17 17:00:30.989377: I external/local_xla/xla/stream_executor/cuda/subprocess_compilation.cc:346] ptxas warning : Registers are spilled to local memory in function 'gemm_fusion_dot_1027', 12 bytes spill stores, 24 bytes spill loads\n",
      "\n",
      "2025-08-17 17:00:31.758411: W external/local_xla/xla/tsl/framework/bfc_allocator.cc:310] Allocator (GPU_0_bfc) ran out of memory trying to allocate 4.33GiB with freed_by_count=0. The caller indicates that this is not a failure, but this may mean that there could be performance gains if more memory were available.\n",
      "2025-08-17 17:00:32.696642: W external/local_xla/xla/tsl/framework/bfc_allocator.cc:310] Allocator (GPU_0_bfc) ran out of memory trying to allocate 4.06GiB with freed_by_count=0. The caller indicates that this is not a failure, but this may mean that there could be performance gains if more memory were available.\n"
     ]
    },
    {
     "name": "stdout",
     "output_type": "stream",
     "text": [
      "\u001b[1m262/262\u001b[0m \u001b[32m━━━━━━━━━━━━━━━━━━━━\u001b[0m\u001b[37m\u001b[0m \u001b[1m0s\u001b[0m 100ms/step - accuracy: 0.3371 - loss: 1.8049"
     ]
    },
    {
     "name": "stderr",
     "output_type": "stream",
     "text": [
      "2025-08-17 17:00:35.805166: W external/local_xla/xla/tsl/framework/bfc_allocator.cc:310] Allocator (GPU_0_bfc) ran out of memory trying to allocate 5.05GiB with freed_by_count=0. The caller indicates that this is not a failure, but this may mean that there could be performance gains if more memory were available.\n",
      "2025-08-17 17:00:38.980350: I external/local_xla/xla/stream_executor/cuda/subprocess_compilation.cc:346] ptxas warning : Registers are spilled to local memory in function 'gemm_fusion_dot_94', 4 bytes spill stores, 4 bytes spill loads\n",
      "\n",
      "2025-08-17 17:00:39.781596: W external/local_xla/xla/tsl/framework/bfc_allocator.cc:310] Allocator (GPU_0_bfc) ran out of memory trying to allocate 4.39GiB with freed_by_count=0. The caller indicates that this is not a failure, but this may mean that there could be performance gains if more memory were available.\n"
     ]
    },
    {
     "name": "stdout",
     "output_type": "stream",
     "text": [
      "\n",
      "Epoch 1: val_accuracy improved from None to 0.49354, saving model to EKG_CNN.keras\n",
      "\u001b[1m262/262\u001b[0m \u001b[32m━━━━━━━━━━━━━━━━━━━━\u001b[0m\u001b[37m\u001b[0m \u001b[1m47s\u001b[0m 146ms/step - accuracy: 0.3854 - loss: 1.6612 - val_accuracy: 0.4935 - val_loss: 1.4306\n",
      "Epoch 2/50\n",
      "\u001b[1m262/262\u001b[0m \u001b[32m━━━━━━━━━━━━━━━━━━━━\u001b[0m\u001b[37m\u001b[0m \u001b[1m0s\u001b[0m 86ms/step - accuracy: 0.4949 - loss: 1.4153\n",
      "Epoch 2: val_accuracy improved from 0.49354 to 0.59158, saving model to EKG_CNN.keras\n",
      "\u001b[1m262/262\u001b[0m \u001b[32m━━━━━━━━━━━━━━━━━━━━\u001b[0m\u001b[37m\u001b[0m \u001b[1m26s\u001b[0m 96ms/step - accuracy: 0.5072 - loss: 1.3720 - val_accuracy: 0.5916 - val_loss: 1.2444\n",
      "Epoch 3/50\n",
      "\u001b[1m261/262\u001b[0m \u001b[32m━━━━━━━━━━━━━━━━━━━\u001b[0m\u001b[37m━\u001b[0m \u001b[1m0s\u001b[0m 82ms/step - accuracy: 0.5575 - loss: 1.2440\n",
      "Epoch 3: val_accuracy improved from 0.59158 to 0.63415, saving model to EKG_CNN.keras\n",
      "\u001b[1m262/262\u001b[0m \u001b[32m━━━━━━━━━━━━━━━━━━━━\u001b[0m\u001b[37m\u001b[0m \u001b[1m42s\u001b[0m 92ms/step - accuracy: 0.5632 - loss: 1.2223 - val_accuracy: 0.6341 - val_loss: 1.0977\n",
      "Epoch 4/50\n",
      "\u001b[1m261/262\u001b[0m \u001b[32m━━━━━━━━━━━━━━━━━━━\u001b[0m\u001b[37m━\u001b[0m \u001b[1m0s\u001b[0m 86ms/step - accuracy: 0.6188 - loss: 1.0775\n",
      "Epoch 4: val_accuracy improved from 0.63415 to 0.69488, saving model to EKG_CNN.keras\n",
      "\u001b[1m262/262\u001b[0m \u001b[32m━━━━━━━━━━━━━━━━━━━━\u001b[0m\u001b[37m\u001b[0m \u001b[1m25s\u001b[0m 96ms/step - accuracy: 0.6225 - loss: 1.0753 - val_accuracy: 0.6949 - val_loss: 0.9595\n",
      "Epoch 5/50\n",
      "\u001b[1m261/262\u001b[0m \u001b[32m━━━━━━━━━━━━━━━━━━━\u001b[0m\u001b[37m━\u001b[0m \u001b[1m0s\u001b[0m 86ms/step - accuracy: 0.6552 - loss: 0.9857\n",
      "Epoch 5: val_accuracy improved from 0.69488 to 0.74653, saving model to EKG_CNN.keras\n",
      "\u001b[1m262/262\u001b[0m \u001b[32m━━━━━━━━━━━━━━━━━━━━\u001b[0m\u001b[37m\u001b[0m \u001b[1m25s\u001b[0m 96ms/step - accuracy: 0.6847 - loss: 0.9348 - val_accuracy: 0.7465 - val_loss: 0.8140\n",
      "Epoch 6/50\n",
      "\u001b[1m261/262\u001b[0m \u001b[32m━━━━━━━━━━━━━━━━━━━\u001b[0m\u001b[37m━\u001b[0m \u001b[1m0s\u001b[0m 86ms/step - accuracy: 0.7190 - loss: 0.8553\n",
      "Epoch 6: val_accuracy improved from 0.74653 to 0.78623, saving model to EKG_CNN.keras\n",
      "\u001b[1m262/262\u001b[0m \u001b[32m━━━━━━━━━━━━━━━━━━━━\u001b[0m\u001b[37m\u001b[0m \u001b[1m25s\u001b[0m 96ms/step - accuracy: 0.7253 - loss: 0.8315 - val_accuracy: 0.7862 - val_loss: 0.7134\n",
      "Epoch 7/50\n",
      "\u001b[1m261/262\u001b[0m \u001b[32m━━━━━━━━━━━━━━━━━━━\u001b[0m\u001b[37m━\u001b[0m \u001b[1m0s\u001b[0m 82ms/step - accuracy: 0.7586 - loss: 0.7229\n",
      "Epoch 7: val_accuracy improved from 0.78623 to 0.79053, saving model to EKG_CNN.keras\n",
      "\u001b[1m262/262\u001b[0m \u001b[32m━━━━━━━━━━━━━━━━━━━━\u001b[0m\u001b[37m\u001b[0m \u001b[1m24s\u001b[0m 92ms/step - accuracy: 0.7608 - loss: 0.7221 - val_accuracy: 0.7905 - val_loss: 0.6594\n",
      "Epoch 8/50\n",
      "\u001b[1m261/262\u001b[0m \u001b[32m━━━━━━━━━━━━━━━━━━━\u001b[0m\u001b[37m━\u001b[0m \u001b[1m0s\u001b[0m 86ms/step - accuracy: 0.7848 - loss: 0.6588\n",
      "Epoch 8: val_accuracy improved from 0.79053 to 0.81731, saving model to EKG_CNN.keras\n",
      "\u001b[1m262/262\u001b[0m \u001b[32m━━━━━━━━━━━━━━━━━━━━\u001b[0m\u001b[37m\u001b[0m \u001b[1m25s\u001b[0m 95ms/step - accuracy: 0.7821 - loss: 0.6604 - val_accuracy: 0.8173 - val_loss: 0.6012\n",
      "Epoch 9/50\n",
      "\u001b[1m261/262\u001b[0m \u001b[32m━━━━━━━━━━━━━━━━━━━\u001b[0m\u001b[37m━\u001b[0m \u001b[1m0s\u001b[0m 86ms/step - accuracy: 0.7928 - loss: 0.6020\n",
      "Epoch 9: val_accuracy improved from 0.81731 to 0.82592, saving model to EKG_CNN.keras\n",
      "\u001b[1m262/262\u001b[0m \u001b[32m━━━━━━━━━━━━━━━━━━━━\u001b[0m\u001b[37m\u001b[0m \u001b[1m25s\u001b[0m 95ms/step - accuracy: 0.7966 - loss: 0.6009 - val_accuracy: 0.8259 - val_loss: 0.5616\n",
      "Epoch 10/50\n",
      "\u001b[1m261/262\u001b[0m \u001b[32m━━━━━━━━━━━━━━━━━━━\u001b[0m\u001b[37m━\u001b[0m \u001b[1m0s\u001b[0m 87ms/step - accuracy: 0.8066 - loss: 0.5754\n",
      "Epoch 10: val_accuracy improved from 0.82592 to 0.83883, saving model to EKG_CNN.keras\n",
      "\u001b[1m262/262\u001b[0m \u001b[32m━━━━━━━━━━━━━━━━━━━━\u001b[0m\u001b[37m\u001b[0m \u001b[1m25s\u001b[0m 96ms/step - accuracy: 0.8086 - loss: 0.5708 - val_accuracy: 0.8388 - val_loss: 0.5280\n",
      "Epoch 11/50\n",
      "\u001b[1m261/262\u001b[0m \u001b[32m━━━━━━━━━━━━━━━━━━━\u001b[0m\u001b[37m━\u001b[0m \u001b[1m0s\u001b[0m 82ms/step - accuracy: 0.8162 - loss: 0.5399\n",
      "Epoch 11: val_accuracy did not improve from 0.83883\n",
      "\u001b[1m262/262\u001b[0m \u001b[32m━━━━━━━━━━━━━━━━━━━━\u001b[0m\u001b[37m\u001b[0m \u001b[1m23s\u001b[0m 86ms/step - accuracy: 0.8213 - loss: 0.5249 - val_accuracy: 0.8341 - val_loss: 0.5220\n",
      "Epoch 12/50\n",
      "\u001b[1m261/262\u001b[0m \u001b[32m━━━━━━━━━━━━━━━━━━━\u001b[0m\u001b[37m━\u001b[0m \u001b[1m0s\u001b[0m 85ms/step - accuracy: 0.8290 - loss: 0.5180\n",
      "Epoch 12: val_accuracy improved from 0.83883 to 0.84266, saving model to EKG_CNN.keras\n",
      "\u001b[1m262/262\u001b[0m \u001b[32m━━━━━━━━━━━━━━━━━━━━\u001b[0m\u001b[37m\u001b[0m \u001b[1m25s\u001b[0m 94ms/step - accuracy: 0.8312 - loss: 0.4987 - val_accuracy: 0.8427 - val_loss: 0.5040\n",
      "Epoch 13/50\n",
      "\u001b[1m261/262\u001b[0m \u001b[32m━━━━━━━━━━━━━━━━━━━\u001b[0m\u001b[37m━\u001b[0m \u001b[1m0s\u001b[0m 82ms/step - accuracy: 0.8317 - loss: 0.4795\n",
      "Epoch 13: val_accuracy did not improve from 0.84266\n",
      "\u001b[1m262/262\u001b[0m \u001b[32m━━━━━━━━━━━━━━━━━━━━\u001b[0m\u001b[37m\u001b[0m \u001b[1m41s\u001b[0m 86ms/step - accuracy: 0.8361 - loss: 0.4699 - val_accuracy: 0.8422 - val_loss: 0.5003\n",
      "Epoch 14/50\n",
      "\u001b[1m261/262\u001b[0m \u001b[32m━━━━━━━━━━━━━━━━━━━\u001b[0m\u001b[37m━\u001b[0m \u001b[1m0s\u001b[0m 86ms/step - accuracy: 0.8420 - loss: 0.4601\n",
      "Epoch 14: val_accuracy improved from 0.84266 to 0.84744, saving model to EKG_CNN.keras\n",
      "\u001b[1m262/262\u001b[0m \u001b[32m━━━━━━━━━━━━━━━━━━━━\u001b[0m\u001b[37m\u001b[0m \u001b[1m25s\u001b[0m 95ms/step - accuracy: 0.8451 - loss: 0.4484 - val_accuracy: 0.8474 - val_loss: 0.4780\n",
      "Epoch 15/50\n",
      "\u001b[1m261/262\u001b[0m \u001b[32m━━━━━━━━━━━━━━━━━━━\u001b[0m\u001b[37m━\u001b[0m \u001b[1m0s\u001b[0m 86ms/step - accuracy: 0.8541 - loss: 0.4165\n",
      "Epoch 15: val_accuracy improved from 0.84744 to 0.84840, saving model to EKG_CNN.keras\n",
      "\u001b[1m262/262\u001b[0m \u001b[32m━━━━━━━━━━━━━━━━━━━━\u001b[0m\u001b[37m\u001b[0m \u001b[1m25s\u001b[0m 95ms/step - accuracy: 0.8541 - loss: 0.4158 - val_accuracy: 0.8484 - val_loss: 0.4743\n",
      "Epoch 16/50\n",
      "\u001b[1m261/262\u001b[0m \u001b[32m━━━━━━━━━━━━━━━━━━━\u001b[0m\u001b[37m━\u001b[0m \u001b[1m0s\u001b[0m 86ms/step - accuracy: 0.8657 - loss: 0.3808\n",
      "Epoch 16: val_accuracy did not improve from 0.84840\n",
      "\u001b[1m262/262\u001b[0m \u001b[32m━━━━━━━━━━━━━━━━━━━━\u001b[0m\u001b[37m\u001b[0m \u001b[1m24s\u001b[0m 90ms/step - accuracy: 0.8637 - loss: 0.3933 - val_accuracy: 0.8412 - val_loss: 0.4938\n",
      "Epoch 17/50\n",
      "\u001b[1m261/262\u001b[0m \u001b[32m━━━━━━━━━━━━━━━━━━━\u001b[0m\u001b[37m━\u001b[0m \u001b[1m0s\u001b[0m 82ms/step - accuracy: 0.8629 - loss: 0.3937\n",
      "Epoch 17: val_accuracy improved from 0.84840 to 0.85557, saving model to EKG_CNN.keras\n",
      "\u001b[1m262/262\u001b[0m \u001b[32m━━━━━━━━━━━━━━━━━━━━\u001b[0m\u001b[37m\u001b[0m \u001b[1m24s\u001b[0m 91ms/step - accuracy: 0.8675 - loss: 0.3746 - val_accuracy: 0.8556 - val_loss: 0.4668\n",
      "Epoch 18/50\n",
      "\u001b[1m261/262\u001b[0m \u001b[32m━━━━━━━━━━━━━━━━━━━\u001b[0m\u001b[37m━\u001b[0m \u001b[1m0s\u001b[0m 86ms/step - accuracy: 0.8714 - loss: 0.3587\n",
      "Epoch 18: val_accuracy did not improve from 0.85557\n",
      "\u001b[1m262/262\u001b[0m \u001b[32m━━━━━━━━━━━━━━━━━━━━\u001b[0m\u001b[37m\u001b[0m \u001b[1m24s\u001b[0m 90ms/step - accuracy: 0.8693 - loss: 0.3646 - val_accuracy: 0.8498 - val_loss: 0.4824\n",
      "Epoch 19/50\n",
      "\u001b[1m261/262\u001b[0m \u001b[32m━━━━━━━━━━━━━━━━━━━\u001b[0m\u001b[37m━\u001b[0m \u001b[1m0s\u001b[0m 82ms/step - accuracy: 0.8768 - loss: 0.3547\n",
      "Epoch 19: val_accuracy did not improve from 0.85557\n",
      "\u001b[1m262/262\u001b[0m \u001b[32m━━━━━━━━━━━━━━━━━━━━\u001b[0m\u001b[37m\u001b[0m \u001b[1m42s\u001b[0m 86ms/step - accuracy: 0.8788 - loss: 0.3445 - val_accuracy: 0.8541 - val_loss: 0.4654\n",
      "Epoch 20/50\n",
      "\u001b[1m261/262\u001b[0m \u001b[32m━━━━━━━━━━━━━━━━━━━\u001b[0m\u001b[37m━\u001b[0m \u001b[1m0s\u001b[0m 86ms/step - accuracy: 0.8823 - loss: 0.3452\n",
      "Epoch 20: val_accuracy did not improve from 0.85557\n",
      "\u001b[1m262/262\u001b[0m \u001b[32m━━━━━━━━━━━━━━━━━━━━\u001b[0m\u001b[37m\u001b[0m \u001b[1m24s\u001b[0m 91ms/step - accuracy: 0.8866 - loss: 0.3285 - val_accuracy: 0.8494 - val_loss: 0.4731\n",
      "Epoch 21/50\n",
      "\u001b[1m261/262\u001b[0m \u001b[32m━━━━━━━━━━━━━━━━━━━\u001b[0m\u001b[37m━\u001b[0m \u001b[1m0s\u001b[0m 87ms/step - accuracy: 0.8902 - loss: 0.3027\n",
      "Epoch 21: val_accuracy did not improve from 0.85557\n",
      "\u001b[1m262/262\u001b[0m \u001b[32m━━━━━━━━━━━━━━━━━━━━\u001b[0m\u001b[37m\u001b[0m \u001b[1m24s\u001b[0m 91ms/step - accuracy: 0.8904 - loss: 0.3053 - val_accuracy: 0.8484 - val_loss: 0.4840\n",
      "Epoch 22/50\n",
      "\u001b[1m261/262\u001b[0m \u001b[32m━━━━━━━━━━━━━━━━━━━\u001b[0m\u001b[37m━\u001b[0m \u001b[1m0s\u001b[0m 82ms/step - accuracy: 0.8938 - loss: 0.2894\n",
      "Epoch 22: val_accuracy did not improve from 0.85557\n",
      "\u001b[1m262/262\u001b[0m \u001b[32m━━━━━━━━━━━━━━━━━━━━\u001b[0m\u001b[37m\u001b[0m \u001b[1m23s\u001b[0m 86ms/step - accuracy: 0.8932 - loss: 0.2920 - val_accuracy: 0.8532 - val_loss: 0.4629\n",
      "Epoch 23/50\n",
      "\u001b[1m261/262\u001b[0m \u001b[32m━━━━━━━━━━━━━━━━━━━\u001b[0m\u001b[37m━\u001b[0m \u001b[1m0s\u001b[0m 86ms/step - accuracy: 0.9006 - loss: 0.2715\n",
      "Epoch 23: val_accuracy did not improve from 0.85557\n",
      "\u001b[1m262/262\u001b[0m \u001b[32m━━━━━━━━━━━━━━━━━━━━\u001b[0m\u001b[37m\u001b[0m \u001b[1m24s\u001b[0m 90ms/step - accuracy: 0.8969 - loss: 0.2783 - val_accuracy: 0.8508 - val_loss: 0.4821\n",
      "Epoch 24/50\n",
      "\u001b[1m261/262\u001b[0m \u001b[32m━━━━━━━━━━━━━━━━━━━\u001b[0m\u001b[37m━\u001b[0m \u001b[1m0s\u001b[0m 87ms/step - accuracy: 0.9058 - loss: 0.2532\n",
      "Epoch 24: val_accuracy did not improve from 0.85557\n",
      "\u001b[1m262/262\u001b[0m \u001b[32m━━━━━━━━━━━━━━━━━━━━\u001b[0m\u001b[37m\u001b[0m \u001b[1m24s\u001b[0m 90ms/step - accuracy: 0.9067 - loss: 0.2556 - val_accuracy: 0.8494 - val_loss: 0.5006\n",
      "Epoch 24: early stopping\n"
     ]
    }
   ],
   "source": [
    "\n",
    "ekg_model.compile(optimizer=tf.keras.optimizers.Adam(learning_rate=0.0001),\n",
    "                      loss=tf.keras.losses.SparseCategoricalCrossentropy(from_logits=True), # will use logits from final layer of CNN that did not have activation function applied\n",
    "                      metrics=['accuracy']\n",
    "                      )\n",
    "\n",
    "# --- use early stopping ---\n",
    "callback = tf.keras.callbacks.EarlyStopping(monitor='val_accuracy', patience= 7, verbose=1)\n",
    "\n",
    "# Create the ModelCheckpoint callback\n",
    "model_checkpoint = ModelCheckpoint(\n",
    "    filepath='EKG_CNN.keras',          # File path to save the model\n",
    "    monitor='val_accuracy',            # The metric to monitor\n",
    "    save_best_only=True,               # Only save a model if `val_accuracy` has improved\n",
    "    mode='max',                        # `max` because we want to maximize the metric\n",
    "    verbose=1                          # Print a message when a model is saved\n",
    ")\n",
    "\n",
    "\n",
    "\n",
    "# --- Set seed to reproduce results ---\n",
    "tf.random.set_seed(27)\n",
    "\n",
    "epochs = 50\n",
    "# --- fit/train ---\n",
    "history = ekg_model.fit(train_ds, epochs=epochs,\n",
    "                           validation_data=test_ds,\n",
    "                           callbacks=[callback, model_checkpoint], verbose=1)"
   ]
  },
  {
   "cell_type": "code",
   "execution_count": 23,
   "id": "183c3389",
   "metadata": {},
   "outputs": [],
   "source": [
    "# ekg_model.save('EKG_CNN.keras')"
   ]
  },
  {
   "cell_type": "code",
   "execution_count": 24,
   "id": "f62ad2fd",
   "metadata": {},
   "outputs": [
    {
     "data": {
      "image/png": "[encoded data removed]",
      "text/plain": [
       "<Figure size 1000x500 with 1 Axes>"
      ]
     },
     "metadata": {},
     "output_type": "display_data"
    }
   ],
   "source": [
    "# Create a new figure for the accuracy plot\n",
    "plt.figure(figsize=(10, 5))\n",
    "\n",
    "# Plot accuracy directly from the history object\n",
    "plt.plot(history.history['accuracy'], label='Training Accuracy')\n",
    "plt.plot(history.history['val_accuracy'], label='Validation Accuracy')\n",
    "\n",
    "# Add titles and labels\n",
    "plt.title('Model Accuracy')\n",
    "plt.xlabel('Epoch')\n",
    "plt.ylabel('Accuracy')\n",
    "plt.legend(loc='lower right')\n",
    "\n",
    "# Display the plot\n",
    "plt.grid(True)\n",
    "plt.show()"
   ]
  },
  {
   "cell_type": "code",
   "execution_count": null,
   "id": "6d7ccbc0",
   "metadata": {},
   "outputs": [
    {
     "data": {
      "image/png": "[encoded data removed]",
      "text/plain": [
       "<Figure size 1000x500 with 1 Axes>"
      ]
     },
     "metadata": {},
     "output_type": "display_data"
    }
   ],
   "source": [
    "\n",
    "# Create a new figure for the loss plot\n",
    "plt.figure(figsize=(10, 5))\n",
    "\n",
    "# Plot loss directly from the history object\n",
    "plt.plot(history.history['loss'], label='Training Loss')\n",
    "plt.plot(history.history['val_loss'], label='Validation Loss')\n",
    "\n",
    "# Add titles and labels\n",
    "plt.title('Model Loss')\n",
    "plt.xlabel('Epoch')\n",
    "plt.ylabel('Loss')\n",
    "plt.legend(loc='upper right')\n",
    "\n",
    "# Display the plot\n",
    "plt.grid(True)\n",
    "plt.show()"
   ]
  },
  {
   "cell_type": "code",
   "execution_count": null,
   "id": "996f9177",
   "metadata": {},
   "outputs": [],
   "source": []
  }
 ],
 "metadata": {
  "kernelspec": {
   "display_name": ".tf-env (3.12.3)",
   "language": "python",
   "name": "python3"
  },
  "language_info": {
   "codemirror_mode": {
    "name": "ipython",
    "version": 3
   },
   "file_extension": ".py",
   "mimetype": "text/x-python",
   "name": "python",
   "nbconvert_exporter": "python",
   "pygments_lexer": "ipython3",
   "version": "3.12.3"
  }
 },
 "nbformat": 4,
 "nbformat_minor": 5
}
