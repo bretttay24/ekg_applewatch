{
 "cells": [
  {
   "cell_type": "markdown",
   "id": "e613f69d",
   "metadata": {},
   "source": [
    "# Goal of Notebook:\n",
    "### Create a Convelutional Neural Network(CNN) to classify arrythmias on Lead 1 EKG images.\n",
    "### This CNN will be applied to classify heart rhythms of Apple Watch EKGs\n",
    "** This notebook assumes a csv file and ekg lead 1 images have been created using notebooks\n",
    " - create_ecg_csv_extract_lead_1.ipynb [create_csv_notebook](https://github.com/bretttay24/ekg_applewatch/blob/main/notebooks/create_ecg_csv_extract_lead_1.ipynb)\n",
    "\n",
    " - create_ecg_image_dataset.ipynb [create_images_notebook](https://github.com/bretttay24/ekg_applewatch/blob/main/notebooks/create_ecg_image_dataset.ipynb)\n",
    "\n",
    "**Process:**\n",
    "\n",
    "**1) Explore the data on the created processed_ecg_data.csv**\n",
    "- The original dataframe has 11 classes of heart rhythms, I will reduce it to 7 for training a CNN\n",
    "\n",
    "**2) Create a way to filter out EKGs without desired labels in the image_dataset**\n",
    "\n",
    "**3) Use Scikit-learn for splitting dataset of images and creating training/testing datasets**\n",
    "\n",
    "**4) Create a tensorflow pipeline to preprocess .png files of the image_dataset and efficiently feed the CNN in training**\n",
    "\n",
    "**5) Train CNN**\n",
    "\n",
    "**6) Evaluate CNN performance**"
   ]
  },
  {
   "cell_type": "markdown",
   "id": "d85c4bda",
   "metadata": {},
   "source": [
    "## Import Packages"
   ]
  },
  {
   "cell_type": "code",
   "execution_count": 1,
   "id": "d2309ce6",
   "metadata": {},
   "outputs": [
    {
     "name": "stderr",
     "output_type": "stream",
     "text": [
      "2025-08-19 15:01:33.960468: I tensorflow/core/util/port.cc:153] oneDNN custom operations are on. You may see slightly different numerical results due to floating-point round-off errors from different computation orders. To turn them off, set the environment variable `TF_ENABLE_ONEDNN_OPTS=0`.\n",
      "2025-08-19 15:01:34.302337: I tensorflow/core/platform/cpu_feature_guard.cc:210] This TensorFlow binary is optimized to use available CPU instructions in performance-critical operations.\n",
      "To enable the following instructions: AVX2 AVX_VNNI FMA, in other operations, rebuild TensorFlow with the appropriate compiler flags.\n",
      "/home/brett_tay_12/workspace/.tf-env/lib/python3.12/site-packages/google/protobuf/runtime_version.py:98: UserWarning: Protobuf gencode version 5.28.3 is exactly one major version older than the runtime version 6.31.1 at tensorflow/core/framework/attr_value.proto. Please update the gencode to avoid compatibility violations in the next runtime release.\n",
      "  warnings.warn(\n",
      "/home/brett_tay_12/workspace/.tf-env/lib/python3.12/site-packages/google/protobuf/runtime_version.py:98: UserWarning: Protobuf gencode version 5.28.3 is exactly one major version older than the runtime version 6.31.1 at tensorflow/core/framework/tensor.proto. Please update the gencode to avoid compatibility violations in the next runtime release.\n",
      "  warnings.warn(\n",
      "/home/brett_tay_12/workspace/.tf-env/lib/python3.12/site-packages/google/protobuf/runtime_version.py:98: UserWarning: Protobuf gencode version 5.28.3 is exactly one major version older than the runtime version 6.31.1 at tensorflow/core/framework/resource_handle.proto. Please update the gencode to avoid compatibility violations in the next runtime release.\n",
      "  warnings.warn(\n",
      "/home/brett_tay_12/workspace/.tf-env/lib/python3.12/site-packages/google/protobuf/runtime_version.py:98: UserWarning: Protobuf gencode version 5.28.3 is exactly one major version older than the runtime version 6.31.1 at tensorflow/core/framework/tensor_shape.proto. Please update the gencode to avoid compatibility violations in the next runtime release.\n",
      "  warnings.warn(\n",
      "/home/brett_tay_12/workspace/.tf-env/lib/python3.12/site-packages/google/protobuf/runtime_version.py:98: UserWarning: Protobuf gencode version 5.28.3 is exactly one major version older than the runtime version 6.31.1 at tensorflow/core/framework/types.proto. Please update the gencode to avoid compatibility violations in the next runtime release.\n",
      "  warnings.warn(\n",
      "/home/brett_tay_12/workspace/.tf-env/lib/python3.12/site-packages/google/protobuf/runtime_version.py:98: UserWarning: Protobuf gencode version 5.28.3 is exactly one major version older than the runtime version 6.31.1 at tensorflow/core/framework/full_type.proto. Please update the gencode to avoid compatibility violations in the next runtime release.\n",
      "  warnings.warn(\n",
      "/home/brett_tay_12/workspace/.tf-env/lib/python3.12/site-packages/google/protobuf/runtime_version.py:98: UserWarning: Protobuf gencode version 5.28.3 is exactly one major version older than the runtime version 6.31.1 at tensorflow/core/framework/function.proto. Please update the gencode to avoid compatibility violations in the next runtime release.\n",
      "  warnings.warn(\n",
      "/home/brett_tay_12/workspace/.tf-env/lib/python3.12/site-packages/google/protobuf/runtime_version.py:98: UserWarning: Protobuf gencode version 5.28.3 is exactly one major version older than the runtime version 6.31.1 at tensorflow/core/framework/node_def.proto. Please update the gencode to avoid compatibility violations in the next runtime release.\n",
      "  warnings.warn(\n",
      "/home/brett_tay_12/workspace/.tf-env/lib/python3.12/site-packages/google/protobuf/runtime_version.py:98: UserWarning: Protobuf gencode version 5.28.3 is exactly one major version older than the runtime version 6.31.1 at tensorflow/core/framework/op_def.proto. Please update the gencode to avoid compatibility violations in the next runtime release.\n",
      "  warnings.warn(\n",
      "/home/brett_tay_12/workspace/.tf-env/lib/python3.12/site-packages/google/protobuf/runtime_version.py:98: UserWarning: Protobuf gencode version 5.28.3 is exactly one major version older than the runtime version 6.31.1 at tensorflow/core/framework/graph.proto. Please update the gencode to avoid compatibility violations in the next runtime release.\n",
      "  warnings.warn(\n",
      "/home/brett_tay_12/workspace/.tf-env/lib/python3.12/site-packages/google/protobuf/runtime_version.py:98: UserWarning: Protobuf gencode version 5.28.3 is exactly one major version older than the runtime version 6.31.1 at tensorflow/core/framework/graph_debug_info.proto. Please update the gencode to avoid compatibility violations in the next runtime release.\n",
      "  warnings.warn(\n",
      "/home/brett_tay_12/workspace/.tf-env/lib/python3.12/site-packages/google/protobuf/runtime_version.py:98: UserWarning: Protobuf gencode version 5.28.3 is exactly one major version older than the runtime version 6.31.1 at tensorflow/core/framework/versions.proto. Please update the gencode to avoid compatibility violations in the next runtime release.\n",
      "  warnings.warn(\n",
      "/home/brett_tay_12/workspace/.tf-env/lib/python3.12/site-packages/google/protobuf/runtime_version.py:98: UserWarning: Protobuf gencode version 5.28.3 is exactly one major version older than the runtime version 6.31.1 at tensorflow/core/protobuf/config.proto. Please update the gencode to avoid compatibility violations in the next runtime release.\n",
      "  warnings.warn(\n",
      "/home/brett_tay_12/workspace/.tf-env/lib/python3.12/site-packages/google/protobuf/runtime_version.py:98: UserWarning: Protobuf gencode version 5.28.3 is exactly one major version older than the runtime version 6.31.1 at xla/tsl/protobuf/coordination_config.proto. Please update the gencode to avoid compatibility violations in the next runtime release.\n",
      "  warnings.warn(\n",
      "/home/brett_tay_12/workspace/.tf-env/lib/python3.12/site-packages/google/protobuf/runtime_version.py:98: UserWarning: Protobuf gencode version 5.28.3 is exactly one major version older than the runtime version 6.31.1 at tensorflow/core/framework/cost_graph.proto. Please update the gencode to avoid compatibility violations in the next runtime release.\n",
      "  warnings.warn(\n",
      "/home/brett_tay_12/workspace/.tf-env/lib/python3.12/site-packages/google/protobuf/runtime_version.py:98: UserWarning: Protobuf gencode version 5.28.3 is exactly one major version older than the runtime version 6.31.1 at tensorflow/core/framework/step_stats.proto. Please update the gencode to avoid compatibility violations in the next runtime release.\n",
      "  warnings.warn(\n",
      "/home/brett_tay_12/workspace/.tf-env/lib/python3.12/site-packages/google/protobuf/runtime_version.py:98: UserWarning: Protobuf gencode version 5.28.3 is exactly one major version older than the runtime version 6.31.1 at tensorflow/core/framework/allocation_description.proto. Please update the gencode to avoid compatibility violations in the next runtime release.\n",
      "  warnings.warn(\n",
      "/home/brett_tay_12/workspace/.tf-env/lib/python3.12/site-packages/google/protobuf/runtime_version.py:98: UserWarning: Protobuf gencode version 5.28.3 is exactly one major version older than the runtime version 6.31.1 at tensorflow/core/framework/tensor_description.proto. Please update the gencode to avoid compatibility violations in the next runtime release.\n",
      "  warnings.warn(\n",
      "/home/brett_tay_12/workspace/.tf-env/lib/python3.12/site-packages/google/protobuf/runtime_version.py:98: UserWarning: Protobuf gencode version 5.28.3 is exactly one major version older than the runtime version 6.31.1 at tensorflow/core/protobuf/cluster.proto. Please update the gencode to avoid compatibility violations in the next runtime release.\n",
      "  warnings.warn(\n",
      "/home/brett_tay_12/workspace/.tf-env/lib/python3.12/site-packages/google/protobuf/runtime_version.py:98: UserWarning: Protobuf gencode version 5.28.3 is exactly one major version older than the runtime version 6.31.1 at tensorflow/core/protobuf/debug.proto. Please update the gencode to avoid compatibility violations in the next runtime release.\n",
      "  warnings.warn(\n",
      "2025-08-19 15:01:35.779091: I tensorflow/core/util/port.cc:153] oneDNN custom operations are on. You may see slightly different numerical results due to floating-point round-off errors from different computation orders. To turn them off, set the environment variable `TF_ENABLE_ONEDNN_OPTS=0`.\n"
     ]
    }
   ],
   "source": [
    "import pandas as pd\n",
    "import numpy as np\n",
    "import matplotlib.pyplot as plt\n",
    "import tensorflow as tf\n",
    "import os\n",
    "import re\n",
    "import random\n",
    "import PIL #Python Imaging Library\n",
    "from glob import glob\n",
    "from tensorflow import keras\n",
    "from tensorflow.keras import datasets, layers, models\n",
    "from tensorflow.keras.models import Sequential\n",
    "from tensorflow.keras.layers import Dense, Conv2D, Flatten, Dropout, MaxPooling2D\n",
    "from tensorflow.keras.preprocessing.image import ImageDataGenerator\n",
    "from tensorflow.keras.callbacks import EarlyStopping, ModelCheckpoint\n",
    "\n",
    "from IPython.display import display  # display images\n",
    "from sklearn import preprocessing\n",
    "from sklearn.model_selection import train_test_split\n",
    "from sklearn.metrics import classification_report, confusion_matrix\n",
    "from sklearn.preprocessing import LabelEncoder\n",
    "import seaborn as sns"
   ]
  },
  {
   "cell_type": "markdown",
   "id": "f8af188f",
   "metadata": {},
   "source": [
    "\n",
    "## Pass the file path to the processed_ekg_data.csv \n",
    "**This was created from the notebook 'create_ecg_csv_extract_lead_1.ipynb'**\n",
    "\n",
    "file_path = r'pass_your_own_file_paht_to/processed_ekg_data.csv'  # !! pass your own created path !!"
   ]
  },
  {
   "cell_type": "code",
   "execution_count": 2,
   "id": "761838ba",
   "metadata": {},
   "outputs": [
    {
     "data": {
      "text/html": [
       "<div>\n",
       "<style scoped>\n",
       "    .dataframe tbody tr th:only-of-type {\n",
       "        vertical-align: middle;\n",
       "    }\n",
       "\n",
       "    .dataframe tbody tr th {\n",
       "        vertical-align: top;\n",
       "    }\n",
       "\n",
       "    .dataframe thead th {\n",
       "        text-align: right;\n",
       "    }\n",
       "</style>\n",
       "<table border=\"1\" class=\"dataframe\">\n",
       "  <thead>\n",
       "    <tr style=\"text-align: right;\">\n",
       "      <th></th>\n",
       "      <th>file_name</th>\n",
       "      <th>rhythm</th>\n",
       "      <th>lead_1_data</th>\n",
       "    </tr>\n",
       "  </thead>\n",
       "  <tbody>\n",
       "    <tr>\n",
       "      <th>0</th>\n",
       "      <td>MUSE_20180118_132508_86000</td>\n",
       "      <td>SB</td>\n",
       "      <td>[28.56, 6.1529, -11.824, -22.725, -26.701, -25...</td>\n",
       "    </tr>\n",
       "    <tr>\n",
       "      <th>1</th>\n",
       "      <td>MUSE_20180116_124640_27000</td>\n",
       "      <td>ST</td>\n",
       "      <td>[7.7133, 3.4957, -1.6378, -7.7151, -13.76, -18...</td>\n",
       "    </tr>\n",
       "    <tr>\n",
       "      <th>2</th>\n",
       "      <td>MUSE_20180113_171837_63000</td>\n",
       "      <td>SB</td>\n",
       "      <td>[-10.816, -11.143, -11.407, -11.518, -11.336, ...</td>\n",
       "    </tr>\n",
       "    <tr>\n",
       "      <th>3</th>\n",
       "      <td>MUSE_20180113_134112_95000</td>\n",
       "      <td>AFIB</td>\n",
       "      <td>[-86.666, -82.155, -76.289, -68.804, -61.092, ...</td>\n",
       "    </tr>\n",
       "    <tr>\n",
       "      <th>4</th>\n",
       "      <td>MUSE_20180118_135058_59000</td>\n",
       "      <td>SA</td>\n",
       "      <td>[-68.682, -67.147, -64.614, -60.604, -55.135, ...</td>\n",
       "    </tr>\n",
       "  </tbody>\n",
       "</table>\n",
       "</div>"
      ],
      "text/plain": [
       "                    file_name rhythm  \\\n",
       "0  MUSE_20180118_132508_86000     SB   \n",
       "1  MUSE_20180116_124640_27000     ST   \n",
       "2  MUSE_20180113_171837_63000     SB   \n",
       "3  MUSE_20180113_134112_95000   AFIB   \n",
       "4  MUSE_20180118_135058_59000     SA   \n",
       "\n",
       "                                         lead_1_data  \n",
       "0  [28.56, 6.1529, -11.824, -22.725, -26.701, -25...  \n",
       "1  [7.7133, 3.4957, -1.6378, -7.7151, -13.76, -18...  \n",
       "2  [-10.816, -11.143, -11.407, -11.518, -11.336, ...  \n",
       "3  [-86.666, -82.155, -76.289, -68.804, -61.092, ...  \n",
       "4  [-68.682, -67.147, -64.614, -60.604, -55.135, ...  "
      ]
     },
     "execution_count": 2,
     "metadata": {},
     "output_type": "execute_result"
    }
   ],
   "source": [
    "file_path = r'datasets/processed_ecg_data.csv'  # !! pass your file path here !!\n",
    "ecg_df = pd.read_csv(file_path)                                                                 # Creates ecg_df from reading csv file path\n",
    "ecg_df.head()                                                                                   # View head of file"
   ]
  },
  {
   "cell_type": "markdown",
   "id": "b2ddc901",
   "metadata": {},
   "source": [
    "### Evaluate ecg_df"
   ]
  },
  {
   "cell_type": "code",
   "execution_count": 3,
   "id": "bb44ebc6",
   "metadata": {},
   "outputs": [
    {
     "name": "stdout",
     "output_type": "stream",
     "text": [
      "<class 'pandas.core.frame.DataFrame'>\n",
      "RangeIndex: 10645 entries, 0 to 10644\n",
      "Data columns (total 3 columns):\n",
      " #   Column       Non-Null Count  Dtype \n",
      "---  ------       --------------  ----- \n",
      " 0   file_name    10645 non-null  object\n",
      " 1   rhythm       10645 non-null  object\n",
      " 2   lead_1_data  10645 non-null  object\n",
      "dtypes: object(3)\n",
      "memory usage: 249.6+ KB\n"
     ]
    }
   ],
   "source": [
    "ecg_df.info() "
   ]
  },
  {
   "cell_type": "code",
   "execution_count": 4,
   "id": "e89decbf",
   "metadata": {},
   "outputs": [
    {
     "data": {
      "text/html": [
       "<div>\n",
       "<style scoped>\n",
       "    .dataframe tbody tr th:only-of-type {\n",
       "        vertical-align: middle;\n",
       "    }\n",
       "\n",
       "    .dataframe tbody tr th {\n",
       "        vertical-align: top;\n",
       "    }\n",
       "\n",
       "    .dataframe thead th {\n",
       "        text-align: right;\n",
       "    }\n",
       "</style>\n",
       "<table border=\"1\" class=\"dataframe\">\n",
       "  <thead>\n",
       "    <tr style=\"text-align: right;\">\n",
       "      <th></th>\n",
       "      <th>file_name</th>\n",
       "      <th>rhythm</th>\n",
       "      <th>lead_1_data</th>\n",
       "    </tr>\n",
       "  </thead>\n",
       "  <tbody>\n",
       "    <tr>\n",
       "      <th>10595</th>\n",
       "      <td>MUSE_20180210_121056_29000</td>\n",
       "      <td>SR</td>\n",
       "      <td>[8.4094, 4.5123, -1.6375, -10.577, -20.635, -2...</td>\n",
       "    </tr>\n",
       "    <tr>\n",
       "      <th>10596</th>\n",
       "      <td>MUSE_20180118_123248_13000</td>\n",
       "      <td>SB</td>\n",
       "      <td>[208.27, 207.85, 207.22, 206.23, 204.86, 203.1...</td>\n",
       "    </tr>\n",
       "    <tr>\n",
       "      <th>10597</th>\n",
       "      <td>MUSE_20180112_121749_74000</td>\n",
       "      <td>AFIB</td>\n",
       "      <td>[-12.099, -11.831, -11.549, -11.251, -10.945, ...</td>\n",
       "    </tr>\n",
       "    <tr>\n",
       "      <th>10598</th>\n",
       "      <td>MUSE_20180118_134811_98000</td>\n",
       "      <td>AF</td>\n",
       "      <td>[-57.333, -56.554, -55.123, -52.551, -48.656, ...</td>\n",
       "    </tr>\n",
       "    <tr>\n",
       "      <th>10599</th>\n",
       "      <td>MUSE_20180114_065200_84000</td>\n",
       "      <td>AFIB</td>\n",
       "      <td>[-354.85, -345.54, -337.12, -329.89, -323.98, ...</td>\n",
       "    </tr>\n",
       "    <tr>\n",
       "      <th>10600</th>\n",
       "      <td>MUSE_20180209_123006_96000</td>\n",
       "      <td>SR</td>\n",
       "      <td>[-7.0702, -7.8375, -7.6342, -5.9306, -2.8234, ...</td>\n",
       "    </tr>\n",
       "    <tr>\n",
       "      <th>10601</th>\n",
       "      <td>MUSE_20180112_122850_57000</td>\n",
       "      <td>AF</td>\n",
       "      <td>[-18.067, -25.015, -30.766, -34.16, -34.407, -...</td>\n",
       "    </tr>\n",
       "    <tr>\n",
       "      <th>10602</th>\n",
       "      <td>MUSE_20180210_123904_76000</td>\n",
       "      <td>SR</td>\n",
       "      <td>[41.088, 40.31, 38.468, 34.975, 29.959, 23.429...</td>\n",
       "    </tr>\n",
       "    <tr>\n",
       "      <th>10603</th>\n",
       "      <td>MUSE_20180114_130152_75000</td>\n",
       "      <td>ST</td>\n",
       "      <td>[11.978, 11.603, 11.284, 11.055, 10.927, 10.85...</td>\n",
       "    </tr>\n",
       "    <tr>\n",
       "      <th>10604</th>\n",
       "      <td>MUSE_20180112_072928_89000</td>\n",
       "      <td>AFIB</td>\n",
       "      <td>[-4.9786, -4.7891, -5.0336, -6.0823, -8.372, -...</td>\n",
       "    </tr>\n",
       "    <tr>\n",
       "      <th>10605</th>\n",
       "      <td>MUSE_20180114_074914_19000</td>\n",
       "      <td>AFIB</td>\n",
       "      <td>[28.41, 2.0047, -16.923, -24.436, -20.847, -10...</td>\n",
       "    </tr>\n",
       "    <tr>\n",
       "      <th>10606</th>\n",
       "      <td>MUSE_20180210_125452_61000</td>\n",
       "      <td>SR</td>\n",
       "      <td>[408.47, 415.95, 425.42, 436.38, 445.3, 445.47...</td>\n",
       "    </tr>\n",
       "    <tr>\n",
       "      <th>10607</th>\n",
       "      <td>MUSE_20180114_170602_33000</td>\n",
       "      <td>AFIB</td>\n",
       "      <td>[8.8552, 6.4009, 3.9846, 1.677, -0.38612, -2.1...</td>\n",
       "    </tr>\n",
       "    <tr>\n",
       "      <th>10608</th>\n",
       "      <td>MUSE_20180113_115404_74000</td>\n",
       "      <td>SB</td>\n",
       "      <td>[-19.596, -20.179, -20.628, -20.695, -20.071, ...</td>\n",
       "    </tr>\n",
       "    <tr>\n",
       "      <th>10609</th>\n",
       "      <td>MUSE_20180112_132717_29000</td>\n",
       "      <td>SB</td>\n",
       "      <td>[12.289, 10.928, 9.4391, 7.896, 6.6315, 6.0853...</td>\n",
       "    </tr>\n",
       "    <tr>\n",
       "      <th>10610</th>\n",
       "      <td>MUSE_20180113_120445_94000</td>\n",
       "      <td>SB</td>\n",
       "      <td>[18.043, 15.498, 12.615, 9.6119, 7.0265, 5.369...</td>\n",
       "    </tr>\n",
       "    <tr>\n",
       "      <th>10611</th>\n",
       "      <td>MUSE_20180114_132047_54000</td>\n",
       "      <td>SB</td>\n",
       "      <td>[41.01, -14.284, -64.856, -107.84, -142.65, -1...</td>\n",
       "    </tr>\n",
       "    <tr>\n",
       "      <th>10612</th>\n",
       "      <td>MUSE_20180114_125302_44000</td>\n",
       "      <td>SB</td>\n",
       "      <td>[10.991, 9.1952, 7.3621, 5.5369, 3.9206, 2.810...</td>\n",
       "    </tr>\n",
       "    <tr>\n",
       "      <th>10613</th>\n",
       "      <td>MUSE_20180115_133308_88000</td>\n",
       "      <td>SB</td>\n",
       "      <td>[-79.129, -43.611, -2.8524, 48.267, 112.69, 19...</td>\n",
       "    </tr>\n",
       "    <tr>\n",
       "      <th>10614</th>\n",
       "      <td>MUSE_20180116_133202_99000</td>\n",
       "      <td>SAAWR</td>\n",
       "      <td>[20.904, 22.157, 23.11, 23.521, 23.25, 22.313,...</td>\n",
       "    </tr>\n",
       "    <tr>\n",
       "      <th>10615</th>\n",
       "      <td>MUSE_20180114_074921_74000</td>\n",
       "      <td>SVT</td>\n",
       "      <td>[-228.18, -221.02, -214.53, -209.29, -205.54, ...</td>\n",
       "    </tr>\n",
       "    <tr>\n",
       "      <th>10616</th>\n",
       "      <td>MUSE_20180118_133325_23000</td>\n",
       "      <td>SB</td>\n",
       "      <td>[-9.1341, -11.249, -12.984, -14.258, -15.464, ...</td>\n",
       "    </tr>\n",
       "    <tr>\n",
       "      <th>10617</th>\n",
       "      <td>MUSE_20180209_114947_63000</td>\n",
       "      <td>SR</td>\n",
       "      <td>[-14.832, -10.96, -7.7089, -5.4723, -4.4579, -...</td>\n",
       "    </tr>\n",
       "    <tr>\n",
       "      <th>10618</th>\n",
       "      <td>MUSE_20180114_074920_66000</td>\n",
       "      <td>AFIB</td>\n",
       "      <td>[-71.575, -67.033, -62.8, -59.2, -56.54, -54.9...</td>\n",
       "    </tr>\n",
       "    <tr>\n",
       "      <th>10619</th>\n",
       "      <td>MUSE_20180113_185614_87000</td>\n",
       "      <td>ST</td>\n",
       "      <td>[30.084, 31.198, 32.037, 32.426, 32.344, 31.88...</td>\n",
       "    </tr>\n",
       "    <tr>\n",
       "      <th>10620</th>\n",
       "      <td>MUSE_20180116_181916_76000</td>\n",
       "      <td>SB</td>\n",
       "      <td>[42.147, 44.815, 47.451, 50.135, 53.112, 56.69...</td>\n",
       "    </tr>\n",
       "    <tr>\n",
       "      <th>10621</th>\n",
       "      <td>MUSE_20180210_120710_62000</td>\n",
       "      <td>SR</td>\n",
       "      <td>[-70.231, -68.724, -66.756, -64.138, -61.065, ...</td>\n",
       "    </tr>\n",
       "    <tr>\n",
       "      <th>10622</th>\n",
       "      <td>MUSE_20180120_121304_92000</td>\n",
       "      <td>SB</td>\n",
       "      <td>[-14.955, -13.85, -12.374, -10.269, -7.4817, -...</td>\n",
       "    </tr>\n",
       "    <tr>\n",
       "      <th>10623</th>\n",
       "      <td>MUSE_20180210_132809_23000</td>\n",
       "      <td>SR</td>\n",
       "      <td>[31.302, 25.4, 20.292, 16.953, 16.164, 17.653,...</td>\n",
       "    </tr>\n",
       "    <tr>\n",
       "      <th>10624</th>\n",
       "      <td>MUSE_20181222_204310_31000</td>\n",
       "      <td>SVT</td>\n",
       "      <td>[0, 0, 0, 0, 0, 0, 0, 0, 0, 0, 0, 0, 0, 0, 0, ...</td>\n",
       "    </tr>\n",
       "    <tr>\n",
       "      <th>10625</th>\n",
       "      <td>MUSE_20180113_133638_25000</td>\n",
       "      <td>SB</td>\n",
       "      <td>[38.207, 18.768, 1.8481, -10.913, -18.73, -21....</td>\n",
       "    </tr>\n",
       "    <tr>\n",
       "      <th>10626</th>\n",
       "      <td>MUSE_20180112_124205_10000</td>\n",
       "      <td>SB</td>\n",
       "      <td>[7.5311, 7.4627, 7.3968, 7.3302, 7.2577, 7.172...</td>\n",
       "    </tr>\n",
       "    <tr>\n",
       "      <th>10627</th>\n",
       "      <td>MUSE_20180114_080149_18000</td>\n",
       "      <td>SA</td>\n",
       "      <td>[13.132, 7.6483, 2.8921, -0.5639, -2.4212, -2....</td>\n",
       "    </tr>\n",
       "    <tr>\n",
       "      <th>10628</th>\n",
       "      <td>MUSE_20180118_171246_91000</td>\n",
       "      <td>SB</td>\n",
       "      <td>[30.409, 29.924, 29.135, 27.919, 26.41, 24.935...</td>\n",
       "    </tr>\n",
       "    <tr>\n",
       "      <th>10629</th>\n",
       "      <td>MUSE_20180118_124808_46000</td>\n",
       "      <td>SB</td>\n",
       "      <td>[12.2, 13.942, 14.748, 14.084, 12.167, 9.6983,...</td>\n",
       "    </tr>\n",
       "    <tr>\n",
       "      <th>10630</th>\n",
       "      <td>MUSE_20180112_070941_32000</td>\n",
       "      <td>AFIB</td>\n",
       "      <td>[-22.887, -21.561, -20.031, -18.245, -16.371, ...</td>\n",
       "    </tr>\n",
       "    <tr>\n",
       "      <th>10631</th>\n",
       "      <td>MUSE_20180114_130548_23000</td>\n",
       "      <td>SB</td>\n",
       "      <td>[12.287, 11.614, 9.4242, 4.6683, -2.8268, -12....</td>\n",
       "    </tr>\n",
       "    <tr>\n",
       "      <th>10632</th>\n",
       "      <td>MUSE_20180112_122827_52000</td>\n",
       "      <td>SB</td>\n",
       "      <td>[-10.214, -9.4329, -8.1389, -6.0724, -3.3682, ...</td>\n",
       "    </tr>\n",
       "    <tr>\n",
       "      <th>10633</th>\n",
       "      <td>MUSE_20180114_123326_64000</td>\n",
       "      <td>ST</td>\n",
       "      <td>[162.46, 210.12, 260.73, 316.04, 375.56, 436.5...</td>\n",
       "    </tr>\n",
       "    <tr>\n",
       "      <th>10634</th>\n",
       "      <td>MUSE_20180113_173938_33000</td>\n",
       "      <td>ST</td>\n",
       "      <td>[-31.193, -30.284, -30.057, -30.877, -32.798, ...</td>\n",
       "    </tr>\n",
       "    <tr>\n",
       "      <th>10635</th>\n",
       "      <td>MUSE_20180112_122136_41000</td>\n",
       "      <td>AFIB</td>\n",
       "      <td>[101.04, 128.9, 157.23, 185.47, 212.33, 235.16...</td>\n",
       "    </tr>\n",
       "    <tr>\n",
       "      <th>10636</th>\n",
       "      <td>MUSE_20180112_132242_92000</td>\n",
       "      <td>SB</td>\n",
       "      <td>[49.962, 52.704, 56.234, 60.872, 66.222, 71.26...</td>\n",
       "    </tr>\n",
       "    <tr>\n",
       "      <th>10637</th>\n",
       "      <td>MUSE_20180113_185451_66000</td>\n",
       "      <td>SB</td>\n",
       "      <td>[-13.85, -14.557, -15.529, -16.793, -18.102, -...</td>\n",
       "    </tr>\n",
       "    <tr>\n",
       "      <th>10638</th>\n",
       "      <td>MUSE_20180209_173744_35000</td>\n",
       "      <td>SR</td>\n",
       "      <td>[-87.055, -84.434, -81.836, -79.26, -76.703, -...</td>\n",
       "    </tr>\n",
       "    <tr>\n",
       "      <th>10639</th>\n",
       "      <td>MUSE_20180115_123304_68000</td>\n",
       "      <td>ST</td>\n",
       "      <td>[0.078676, -1.5005, -3.2311, -5.073, -6.7188, ...</td>\n",
       "    </tr>\n",
       "    <tr>\n",
       "      <th>10640</th>\n",
       "      <td>MUSE_20180210_130330_85000</td>\n",
       "      <td>SR</td>\n",
       "      <td>[63.894, 64.875, 66.696, 69.865, 74.319, 79.46...</td>\n",
       "    </tr>\n",
       "    <tr>\n",
       "      <th>10641</th>\n",
       "      <td>MUSE_20180112_170005_52000</td>\n",
       "      <td>ST</td>\n",
       "      <td>[-61.353, -52.521, -44.845, -39.373, -36.842, ...</td>\n",
       "    </tr>\n",
       "    <tr>\n",
       "      <th>10642</th>\n",
       "      <td>MUSE_20180116_170512_41000</td>\n",
       "      <td>ST</td>\n",
       "      <td>[37.438, 37.895, 40.114, 45.121, 52.886, 62.51...</td>\n",
       "    </tr>\n",
       "    <tr>\n",
       "      <th>10643</th>\n",
       "      <td>MUSE_20180114_073809_13000</td>\n",
       "      <td>SA</td>\n",
       "      <td>[9.1401, 0.28896, -9.2095, -19.114, -28.158, -...</td>\n",
       "    </tr>\n",
       "    <tr>\n",
       "      <th>10644</th>\n",
       "      <td>MUSE_20180209_120240_36000</td>\n",
       "      <td>SR</td>\n",
       "      <td>[1.1574, -0.35147, -2.0197, -3.8075, -5.4038, ...</td>\n",
       "    </tr>\n",
       "  </tbody>\n",
       "</table>\n",
       "</div>"
      ],
      "text/plain": [
       "                        file_name rhythm  \\\n",
       "10595  MUSE_20180210_121056_29000     SR   \n",
       "10596  MUSE_20180118_123248_13000     SB   \n",
       "10597  MUSE_20180112_121749_74000   AFIB   \n",
       "10598  MUSE_20180118_134811_98000     AF   \n",
       "10599  MUSE_20180114_065200_84000   AFIB   \n",
       "10600  MUSE_20180209_123006_96000     SR   \n",
       "10601  MUSE_20180112_122850_57000     AF   \n",
       "10602  MUSE_20180210_123904_76000     SR   \n",
       "10603  MUSE_20180114_130152_75000     ST   \n",
       "10604  MUSE_20180112_072928_89000   AFIB   \n",
       "10605  MUSE_20180114_074914_19000   AFIB   \n",
       "10606  MUSE_20180210_125452_61000     SR   \n",
       "10607  MUSE_20180114_170602_33000   AFIB   \n",
       "10608  MUSE_20180113_115404_74000     SB   \n",
       "10609  MUSE_20180112_132717_29000     SB   \n",
       "10610  MUSE_20180113_120445_94000     SB   \n",
       "10611  MUSE_20180114_132047_54000     SB   \n",
       "10612  MUSE_20180114_125302_44000     SB   \n",
       "10613  MUSE_20180115_133308_88000     SB   \n",
       "10614  MUSE_20180116_133202_99000  SAAWR   \n",
       "10615  MUSE_20180114_074921_74000    SVT   \n",
       "10616  MUSE_20180118_133325_23000     SB   \n",
       "10617  MUSE_20180209_114947_63000     SR   \n",
       "10618  MUSE_20180114_074920_66000   AFIB   \n",
       "10619  MUSE_20180113_185614_87000     ST   \n",
       "10620  MUSE_20180116_181916_76000     SB   \n",
       "10621  MUSE_20180210_120710_62000     SR   \n",
       "10622  MUSE_20180120_121304_92000     SB   \n",
       "10623  MUSE_20180210_132809_23000     SR   \n",
       "10624  MUSE_20181222_204310_31000    SVT   \n",
       "10625  MUSE_20180113_133638_25000     SB   \n",
       "10626  MUSE_20180112_124205_10000     SB   \n",
       "10627  MUSE_20180114_080149_18000     SA   \n",
       "10628  MUSE_20180118_171246_91000     SB   \n",
       "10629  MUSE_20180118_124808_46000     SB   \n",
       "10630  MUSE_20180112_070941_32000   AFIB   \n",
       "10631  MUSE_20180114_130548_23000     SB   \n",
       "10632  MUSE_20180112_122827_52000     SB   \n",
       "10633  MUSE_20180114_123326_64000     ST   \n",
       "10634  MUSE_20180113_173938_33000     ST   \n",
       "10635  MUSE_20180112_122136_41000   AFIB   \n",
       "10636  MUSE_20180112_132242_92000     SB   \n",
       "10637  MUSE_20180113_185451_66000     SB   \n",
       "10638  MUSE_20180209_173744_35000     SR   \n",
       "10639  MUSE_20180115_123304_68000     ST   \n",
       "10640  MUSE_20180210_130330_85000     SR   \n",
       "10641  MUSE_20180112_170005_52000     ST   \n",
       "10642  MUSE_20180116_170512_41000     ST   \n",
       "10643  MUSE_20180114_073809_13000     SA   \n",
       "10644  MUSE_20180209_120240_36000     SR   \n",
       "\n",
       "                                             lead_1_data  \n",
       "10595  [8.4094, 4.5123, -1.6375, -10.577, -20.635, -2...  \n",
       "10596  [208.27, 207.85, 207.22, 206.23, 204.86, 203.1...  \n",
       "10597  [-12.099, -11.831, -11.549, -11.251, -10.945, ...  \n",
       "10598  [-57.333, -56.554, -55.123, -52.551, -48.656, ...  \n",
       "10599  [-354.85, -345.54, -337.12, -329.89, -323.98, ...  \n",
       "10600  [-7.0702, -7.8375, -7.6342, -5.9306, -2.8234, ...  \n",
       "10601  [-18.067, -25.015, -30.766, -34.16, -34.407, -...  \n",
       "10602  [41.088, 40.31, 38.468, 34.975, 29.959, 23.429...  \n",
       "10603  [11.978, 11.603, 11.284, 11.055, 10.927, 10.85...  \n",
       "10604  [-4.9786, -4.7891, -5.0336, -6.0823, -8.372, -...  \n",
       "10605  [28.41, 2.0047, -16.923, -24.436, -20.847, -10...  \n",
       "10606  [408.47, 415.95, 425.42, 436.38, 445.3, 445.47...  \n",
       "10607  [8.8552, 6.4009, 3.9846, 1.677, -0.38612, -2.1...  \n",
       "10608  [-19.596, -20.179, -20.628, -20.695, -20.071, ...  \n",
       "10609  [12.289, 10.928, 9.4391, 7.896, 6.6315, 6.0853...  \n",
       "10610  [18.043, 15.498, 12.615, 9.6119, 7.0265, 5.369...  \n",
       "10611  [41.01, -14.284, -64.856, -107.84, -142.65, -1...  \n",
       "10612  [10.991, 9.1952, 7.3621, 5.5369, 3.9206, 2.810...  \n",
       "10613  [-79.129, -43.611, -2.8524, 48.267, 112.69, 19...  \n",
       "10614  [20.904, 22.157, 23.11, 23.521, 23.25, 22.313,...  \n",
       "10615  [-228.18, -221.02, -214.53, -209.29, -205.54, ...  \n",
       "10616  [-9.1341, -11.249, -12.984, -14.258, -15.464, ...  \n",
       "10617  [-14.832, -10.96, -7.7089, -5.4723, -4.4579, -...  \n",
       "10618  [-71.575, -67.033, -62.8, -59.2, -56.54, -54.9...  \n",
       "10619  [30.084, 31.198, 32.037, 32.426, 32.344, 31.88...  \n",
       "10620  [42.147, 44.815, 47.451, 50.135, 53.112, 56.69...  \n",
       "10621  [-70.231, -68.724, -66.756, -64.138, -61.065, ...  \n",
       "10622  [-14.955, -13.85, -12.374, -10.269, -7.4817, -...  \n",
       "10623  [31.302, 25.4, 20.292, 16.953, 16.164, 17.653,...  \n",
       "10624  [0, 0, 0, 0, 0, 0, 0, 0, 0, 0, 0, 0, 0, 0, 0, ...  \n",
       "10625  [38.207, 18.768, 1.8481, -10.913, -18.73, -21....  \n",
       "10626  [7.5311, 7.4627, 7.3968, 7.3302, 7.2577, 7.172...  \n",
       "10627  [13.132, 7.6483, 2.8921, -0.5639, -2.4212, -2....  \n",
       "10628  [30.409, 29.924, 29.135, 27.919, 26.41, 24.935...  \n",
       "10629  [12.2, 13.942, 14.748, 14.084, 12.167, 9.6983,...  \n",
       "10630  [-22.887, -21.561, -20.031, -18.245, -16.371, ...  \n",
       "10631  [12.287, 11.614, 9.4242, 4.6683, -2.8268, -12....  \n",
       "10632  [-10.214, -9.4329, -8.1389, -6.0724, -3.3682, ...  \n",
       "10633  [162.46, 210.12, 260.73, 316.04, 375.56, 436.5...  \n",
       "10634  [-31.193, -30.284, -30.057, -30.877, -32.798, ...  \n",
       "10635  [101.04, 128.9, 157.23, 185.47, 212.33, 235.16...  \n",
       "10636  [49.962, 52.704, 56.234, 60.872, 66.222, 71.26...  \n",
       "10637  [-13.85, -14.557, -15.529, -16.793, -18.102, -...  \n",
       "10638  [-87.055, -84.434, -81.836, -79.26, -76.703, -...  \n",
       "10639  [0.078676, -1.5005, -3.2311, -5.073, -6.7188, ...  \n",
       "10640  [63.894, 64.875, 66.696, 69.865, 74.319, 79.46...  \n",
       "10641  [-61.353, -52.521, -44.845, -39.373, -36.842, ...  \n",
       "10642  [37.438, 37.895, 40.114, 45.121, 52.886, 62.51...  \n",
       "10643  [9.1401, 0.28896, -9.2095, -19.114, -28.158, -...  \n",
       "10644  [1.1574, -0.35147, -2.0197, -3.8075, -5.4038, ...  "
      ]
     },
     "execution_count": 4,
     "metadata": {},
     "output_type": "execute_result"
    }
   ],
   "source": [
    "ecg_df.tail(50)"
   ]
  },
  {
   "cell_type": "markdown",
   "id": "e4f9bf57",
   "metadata": {},
   "source": [
    "#### !!! On my first time running this the last 40 values were [0,0,0,0,0 etc]. I remove these and the rest of the notebook reflects this!!!"
   ]
  },
  {
   "cell_type": "code",
   "execution_count": 5,
   "id": "461cf6a1",
   "metadata": {},
   "outputs": [
    {
     "data": {
      "text/html": [
       "<div>\n",
       "<style scoped>\n",
       "    .dataframe tbody tr th:only-of-type {\n",
       "        vertical-align: middle;\n",
       "    }\n",
       "\n",
       "    .dataframe tbody tr th {\n",
       "        vertical-align: top;\n",
       "    }\n",
       "\n",
       "    .dataframe thead th {\n",
       "        text-align: right;\n",
       "    }\n",
       "</style>\n",
       "<table border=\"1\" class=\"dataframe\">\n",
       "  <thead>\n",
       "    <tr style=\"text-align: right;\">\n",
       "      <th></th>\n",
       "      <th>file_name</th>\n",
       "      <th>rhythm</th>\n",
       "      <th>lead_1_data</th>\n",
       "    </tr>\n",
       "  </thead>\n",
       "  <tbody>\n",
       "    <tr>\n",
       "      <th>10600</th>\n",
       "      <td>MUSE_20180209_123006_96000</td>\n",
       "      <td>SR</td>\n",
       "      <td>[-7.0702, -7.8375, -7.6342, -5.9306, -2.8234, ...</td>\n",
       "    </tr>\n",
       "    <tr>\n",
       "      <th>10601</th>\n",
       "      <td>MUSE_20180112_122850_57000</td>\n",
       "      <td>AF</td>\n",
       "      <td>[-18.067, -25.015, -30.766, -34.16, -34.407, -...</td>\n",
       "    </tr>\n",
       "    <tr>\n",
       "      <th>10602</th>\n",
       "      <td>MUSE_20180210_123904_76000</td>\n",
       "      <td>SR</td>\n",
       "      <td>[41.088, 40.31, 38.468, 34.975, 29.959, 23.429...</td>\n",
       "    </tr>\n",
       "    <tr>\n",
       "      <th>10603</th>\n",
       "      <td>MUSE_20180114_130152_75000</td>\n",
       "      <td>ST</td>\n",
       "      <td>[11.978, 11.603, 11.284, 11.055, 10.927, 10.85...</td>\n",
       "    </tr>\n",
       "    <tr>\n",
       "      <th>10604</th>\n",
       "      <td>MUSE_20180112_072928_89000</td>\n",
       "      <td>AFIB</td>\n",
       "      <td>[-4.9786, -4.7891, -5.0336, -6.0823, -8.372, -...</td>\n",
       "    </tr>\n",
       "  </tbody>\n",
       "</table>\n",
       "</div>"
      ],
      "text/plain": [
       "                        file_name rhythm  \\\n",
       "10600  MUSE_20180209_123006_96000     SR   \n",
       "10601  MUSE_20180112_122850_57000     AF   \n",
       "10602  MUSE_20180210_123904_76000     SR   \n",
       "10603  MUSE_20180114_130152_75000     ST   \n",
       "10604  MUSE_20180112_072928_89000   AFIB   \n",
       "\n",
       "                                             lead_1_data  \n",
       "10600  [-7.0702, -7.8375, -7.6342, -5.9306, -2.8234, ...  \n",
       "10601  [-18.067, -25.015, -30.766, -34.16, -34.407, -...  \n",
       "10602  [41.088, 40.31, 38.468, 34.975, 29.959, 23.429...  \n",
       "10603  [11.978, 11.603, 11.284, 11.055, 10.927, 10.85...  \n",
       "10604  [-4.9786, -4.7891, -5.0336, -6.0823, -8.372, -...  "
      ]
     },
     "execution_count": 5,
     "metadata": {},
     "output_type": "execute_result"
    }
   ],
   "source": [
    "ekg_df = pd.DataFrame(ecg_df.iloc[:10605])  # Redefine ekg_df to not include the faulty ekgs that have values of [0,0,0,0,0, etc.]\n",
    "ekg_df.tail()"
   ]
  },
  {
   "cell_type": "code",
   "execution_count": 6,
   "id": "b5eb8f3f",
   "metadata": {},
   "outputs": [],
   "source": [
    "unique_rhythms = ekg_df['rhythm'].value_counts() # Count the total of each rhythm label to see representation"
   ]
  },
  {
   "cell_type": "code",
   "execution_count": 7,
   "id": "edbc82e5",
   "metadata": {},
   "outputs": [
    {
     "data": {
      "text/plain": [
       "rhythm\n",
       "SB       3871\n",
       "SR       1819\n",
       "AFIB     1775\n",
       "ST       1562\n",
       "SVT       585\n",
       "AF        445\n",
       "SA        397\n",
       "AT        121\n",
       "AVNRT      16\n",
       "AVRT        8\n",
       "SAAWR       6\n",
       "Name: count, dtype: int64"
      ]
     },
     "execution_count": 7,
     "metadata": {},
     "output_type": "execute_result"
    }
   ],
   "source": [
    "unique_rhythms # View unique rhythms counts"
   ]
  },
  {
   "cell_type": "markdown",
   "id": "fa6e408e",
   "metadata": {},
   "source": [
    "## Create df with filtered rhythm labels for CNN training"
   ]
  },
  {
   "cell_type": "markdown",
   "id": "eb1cd33b",
   "metadata": {},
   "source": [
    "**Currently the dataset includes 11 different rhythm labels. I want to simplify this to 7 labels and remove the values of ['AT', 'AVNRT', 'AVRT', 'SAAWR']**"
   ]
  },
  {
   "cell_type": "code",
   "execution_count": 8,
   "id": "c30c9dde",
   "metadata": {},
   "outputs": [],
   "source": [
    "rhythms_to_remove = ['AT', 'AVNRT', 'AVRT', 'SAAWR']  # I do not want my CNN to learn these rhythms and will \n",
    "                                                      # create a new DataFrame that excludes rows with the specified rhythms\n",
    "\n",
    "# Create new df with only rhythms I want to teach CNN to identify                                              \n",
    "filtered_ekg_df = ekg_df[~ekg_df['rhythm'].isin(rhythms_to_remove)]\n"
   ]
  },
  {
   "cell_type": "code",
   "execution_count": 9,
   "id": "67120173",
   "metadata": {},
   "outputs": [
    {
     "data": {
      "text/plain": [
       "rhythm\n",
       "SB      3871\n",
       "SR      1819\n",
       "AFIB    1775\n",
       "ST      1562\n",
       "SVT      585\n",
       "AF       445\n",
       "SA       397\n",
       "Name: count, dtype: int64"
      ]
     },
     "execution_count": 9,
     "metadata": {},
     "output_type": "execute_result"
    }
   ],
   "source": [
    "filtered_unique_rhythms = filtered_ekg_df['rhythm'].value_counts() # Create a count of representation of each of the 7 labels\n",
    "filtered_unique_rhythms                                            # Verify counts and representations in dataframe"
   ]
  },
  {
   "cell_type": "code",
   "execution_count": 10,
   "id": "15d9714d",
   "metadata": {},
   "outputs": [
    {
     "name": "stdout",
     "output_type": "stream",
     "text": [
      "<class 'pandas.core.frame.DataFrame'>\n",
      "Index: 10454 entries, 0 to 10604\n",
      "Data columns (total 3 columns):\n",
      " #   Column       Non-Null Count  Dtype \n",
      "---  ------       --------------  ----- \n",
      " 0   file_name    10454 non-null  object\n",
      " 1   rhythm       10454 non-null  object\n",
      " 2   lead_1_data  10454 non-null  object\n",
      "dtypes: object(3)\n",
      "memory usage: 326.7+ KB\n"
     ]
    }
   ],
   "source": [
    "filtered_ekg_df.info()"
   ]
  },
  {
   "cell_type": "code",
   "execution_count": 11,
   "id": "73fafb09",
   "metadata": {},
   "outputs": [
    {
     "data": {
      "text/plain": [
       "10454"
      ]
     },
     "execution_count": 11,
     "metadata": {},
     "output_type": "execute_result"
    }
   ],
   "source": [
    "len(filtered_ekg_df)"
   ]
  },
  {
   "cell_type": "markdown",
   "id": "3c5602a0",
   "metadata": {},
   "source": [
    "#### Above I used filtering to understand the data I was working with and representations. Below I will work with images in the 'datasets/ecg_images_NoColor' directory. These images have the file name and rhythm label combined."
   ]
  },
  {
   "cell_type": "markdown",
   "id": "91e3682b",
   "metadata": {},
   "source": [
    "# Extract label from each file name creating a df"
   ]
  },
  {
   "cell_type": "markdown",
   "id": "b3ae47e4",
   "metadata": {},
   "source": [
    "### Create a function for extracting labels from file names"
   ]
  },
  {
   "cell_type": "code",
   "execution_count": 12,
   "id": "f5b8b677",
   "metadata": {},
   "outputs": [
    {
     "name": "stdout",
     "output_type": "stream",
     "text": [
      "Extracted label: SVT\n"
     ]
    }
   ],
   "source": [
    "# Example filename\n",
    "filename = \"MUSE_20180111_155633_99000_rhythm_label_SVT.png\"\n",
    "\n",
    "def extract_label(filename):\n",
    "    # Find the starting point of the label (after '_rhythm_label_')\n",
    "    start_index = filename.find('_rhythm_label_')\n",
    "\n",
    "    # Extract the part after '_rhythm_label_'\n",
    "    label_and_extension = filename[start_index + len('_rhythm_label_'):]\n",
    "\n",
    "    # Remove the '.png' extension\n",
    "    label = label_and_extension.replace('.png', '')\n",
    "    return label\n",
    "\n",
    "# Test the function\n",
    "label = extract_label(filename)\n",
    "print(f\"Extracted label: {label}\") # Output: Extracted label: SVT"
   ]
  },
  {
   "cell_type": "markdown",
   "id": "2cf65e0e",
   "metadata": {},
   "source": [
    "### Create list of image_paths and labels that will be used for the dataset training the CNN"
   ]
  },
  {
   "cell_type": "code",
   "execution_count": 13,
   "id": "810da1b0",
   "metadata": {},
   "outputs": [
    {
     "name": "stdout",
     "output_type": "stream",
     "text": [
      "Total images found: 10452\n",
      "Total labels found: 10452\n",
      "First 5 image paths: ['datasets/ecg_images_NoColor/MUSE_20180113_124114_43000_rhythm_label_AFIB.png', 'datasets/ecg_images_NoColor/MUSE_20180114_132724_77000_rhythm_label_AFIB.png', 'datasets/ecg_images_NoColor/MUSE_20180114_070004_97000_rhythm_label_ST.png', 'datasets/ecg_images_NoColor/MUSE_20180113_073010_84000_rhythm_label_AFIB.png', 'datasets/ecg_images_NoColor/MUSE_20180118_175159_70000_rhythm_label_SB.png']\n",
      "First 5 labels: ['AFIB', 'AFIB', 'ST', 'AFIB', 'SB']\n",
      "last 5 lables ['SR', 'SVT', 'SB', 'ST', 'ST']\n"
     ]
    }
   ],
   "source": [
    "# --- Define the set of rhythms to keep ---\n",
    "\n",
    "allowed_labels = {'SB', 'SR', 'AFIB', 'ST', 'SVT', 'AF', 'SA'}\n",
    "\n",
    "# apply to all files\n",
    "image_dir = 'datasets/ecg_images_NoColor' # **CHANGE THIS TO YOUR ACTUAL IMAGE FOLDER PATH**\n",
    "image_paths = []\n",
    "labels = []\n",
    "\n",
    "for filename in os.listdir(image_dir):\n",
    "    if filename.endswith('.png'):\n",
    "        full_path = os.path.join(image_dir, filename)\n",
    "        extracted_label = extract_label(filename)\n",
    "        \n",
    "        # --- MODIFIED: Check if the label is valid AND in the allowed list ---\n",
    "        if extracted_label and extracted_label in allowed_labels:\n",
    "            image_paths.append(full_path)\n",
    "            labels.append(extracted_label)\n",
    "\n",
    "print(f\"Total images found: {len(image_paths)}\")\n",
    "print(f\"Total labels found: {len(labels)}\")\n",
    "\n",
    "# inspect the first few to verify\n",
    "print(\"First 5 image paths:\", image_paths[:5])\n",
    "print(\"First 5 labels:\", labels[:5])\n",
    "print(\"last 5 lables\", labels[-5:])"
   ]
  },
  {
   "cell_type": "code",
   "execution_count": 14,
   "id": "3b22be40",
   "metadata": {},
   "outputs": [
    {
     "data": {
      "text/plain": [
       "{'AF', 'AFIB', 'SA', 'SB', 'SR', 'ST', 'SVT'}"
      ]
     },
     "execution_count": 14,
     "metadata": {},
     "output_type": "execute_result"
    }
   ],
   "source": [
    "labels_unique = set(labels) # create a set of unique labels\n",
    "labels_unique  # Verify that the labels are the 7 desired labels"
   ]
  },
  {
   "cell_type": "markdown",
   "id": "140ae375",
   "metadata": {},
   "source": [
    "### Create dataset with X being the path to images and y being the associated label"
   ]
  },
  {
   "cell_type": "code",
   "execution_count": 15,
   "id": "47dac19d",
   "metadata": {},
   "outputs": [],
   "source": [
    "X_paths = np.array(image_paths)\n",
    "y = np.array(labels)"
   ]
  },
  {
   "cell_type": "markdown",
   "id": "42f48abb",
   "metadata": {},
   "source": [
    "### Use Scikit-learn to split data into training and testing.\n"
   ]
  },
  {
   "cell_type": "code",
   "execution_count": 16,
   "id": "17cb9d7c",
   "metadata": {},
   "outputs": [],
   "source": [
    "X_train_paths, X_test_paths, y_train, y_test = train_test_split(\n",
    "    X_paths, y, test_size=0.2, random_state=27, stratify=y       \n",
    ")"
   ]
  },
  {
   "cell_type": "code",
   "execution_count": 17,
   "id": "9073c6b7",
   "metadata": {},
   "outputs": [
    {
     "name": "stdout",
     "output_type": "stream",
     "text": [
      "Training images: 8361, Training labels: 8361\n",
      "Testing images: 2091, Testing labels: 2091\n",
      "\n",
      "Sample training data:\n",
      "Image Path: datasets/ecg_images_NoColor/MUSE_20180118_175359_48000_rhythm_label_ST.png, Label: ST\n",
      "Image Path: datasets/ecg_images_NoColor/MUSE_20180116_174909_70000_rhythm_label_AFIB.png, Label: AFIB\n",
      "Image Path: datasets/ecg_images_NoColor/MUSE_20180114_134421_40000_rhythm_label_SB.png, Label: SB\n",
      "\n",
      "Sample testing data:\n",
      "Image Path: datasets/ecg_images_NoColor/MUSE_20180112_075324_37000_rhythm_label_SB.png, Label: SB\n",
      "Image Path: datasets/ecg_images_NoColor/MUSE_20180113_183634_23000_rhythm_label_SB.png, Label: SB\n",
      "Image Path: datasets/ecg_images_NoColor/MUSE_20180115_131612_92000_rhythm_label_SB.png, Label: SB\n"
     ]
    }
   ],
   "source": [
    "print(f\"Training images: {len(X_train_paths)}, Training labels: {len(y_train)}\")\n",
    "print(f\"Testing images: {len(X_test_paths)}, Testing labels: {len(y_test)}\")\n",
    "\n",
    "# Check a sample to confirm\n",
    "print(\"\\nSample training data:\")\n",
    "for i in range(3):\n",
    "    print(f\"Image Path: {X_train_paths[i]}, Label: {y_train[i]}\")\n",
    "\n",
    "print(\"\\nSample testing data:\")\n",
    "for i in range(3):\n",
    "    print(f\"Image Path: {X_test_paths[i]}, Label: {y_test[i]}\")"
   ]
  },
  {
   "cell_type": "markdown",
   "id": "f6bef208",
   "metadata": {},
   "source": [
    "### Encode labels to convert from letters to numbers for CNN model"
   ]
  },
  {
   "cell_type": "code",
   "execution_count": 18,
   "id": "681c1d14",
   "metadata": {},
   "outputs": [
    {
     "name": "stdout",
     "output_type": "stream",
     "text": [
      "\n",
      "Original labels to encoded integers mapping:\n",
      "AF -> 0\n",
      "AFIB -> 1\n",
      "SA -> 2\n",
      "SB -> 3\n",
      "SR -> 4\n",
      "ST -> 5\n",
      "SVT -> 6\n",
      "\n",
      "Sample encoded training labels: [5 1 3 3 3]\n",
      "Sample encoded testing labels: [3 3 3 3 1]\n"
     ]
    }
   ],
   "source": [
    "\n",
    "# Initialize LabelEncoder\n",
    "label_encoder = LabelEncoder()\n",
    "\n",
    "# Fit the encoder to all unique labels and transform them to integers\n",
    "y_train_encoded = label_encoder.fit_transform(y_train)\n",
    "y_test_encoded = label_encoder.transform(y_test)                    # Use transform, not fit_transform, for test set\n",
    "\n",
    "# To see the mapping:\n",
    "print(\"\\nOriginal labels to encoded integers mapping:\")\n",
    "for i, label in enumerate(label_encoder.classes_):\n",
    "    print(f\"{label} -> {i}\")\n",
    "\n",
    "print(\"\\nSample encoded training labels:\", y_train_encoded[:5])\n",
    "print(\"Sample encoded testing labels:\", y_test_encoded[:5])"
   ]
  },
  {
   "cell_type": "markdown",
   "id": "29be4f86",
   "metadata": {},
   "source": [
    "### Create a tensorflow pipeline to preprocess .png files of the image_dataset and efficiently feed the CNN in training"
   ]
  },
  {
   "cell_type": "code",
   "execution_count": 19,
   "id": "d66aa32e",
   "metadata": {},
   "outputs": [
    {
     "name": "stdout",
     "output_type": "stream",
     "text": [
      "Datasets created successfully!\n",
      "Training Dataset: <_PrefetchDataset element_spec=(TensorSpec(shape=(None, 128, 512, 3), dtype=tf.float32, name=None), TensorSpec(shape=(None,), dtype=tf.int64, name=None))>\n",
      "Testing Dataset: <_PrefetchDataset element_spec=(TensorSpec(shape=(None, 128, 512, 3), dtype=tf.float32, name=None), TensorSpec(shape=(None,), dtype=tf.int64, name=None))>\n"
     ]
    },
    {
     "name": "stderr",
     "output_type": "stream",
     "text": [
      "WARNING: All log messages before absl::InitializeLog() is called are written to STDERR\n",
      "I0000 00:00:1755633700.113179   16000 gpu_device.cc:2020] Created device /job:localhost/replica:0/task:0/device:GPU:0 with 3537 MB memory:  -> device: 0, name: NVIDIA GeForce RTX 4050 Laptop GPU, pci bus id: 0000:01:00.0, compute capability: 8.9\n"
     ]
    }
   ],
   "source": [
    "# --- 1. Set up Constants and AUTOTUNE ---\n",
    "AUTOTUNE = tf.data.AUTOTUNE\n",
    "BATCH_SIZE = 32\n",
    "IMG_HEIGHT = 128\n",
    "IMG_WIDTH = 512\n",
    "num_classes=7\n",
    "\n",
    "# --- 2. Create a Function to Load and Preprocess Images ---\n",
    "# This function will be applied to every file path in your dataset.\n",
    "\n",
    "def process_path(file_path, label):\n",
    "  \"\"\"\n",
    "  This function loads and preprocesses images.\n",
    "  It reads the file, and is sure all files have 3\n",
    "  channels (RGB). It then resizes the image to fit\n",
    "  into a 128 X 512 Convelutional Neural Network (CNN).\n",
    "  It returns the resized image.\n",
    "  \"\"\"\n",
    "  # Read the raw file from the path\n",
    "  img = tf.io.read_file(file_path)\n",
    "  # Decode it as a 3-channel (RGB) PNG image\n",
    "  img = tf.io.decode_png(img, channels=3)\n",
    "  # Resize the image to the desired size\n",
    "  img = tf.image.resize(img, [IMG_HEIGHT, IMG_WIDTH])\n",
    "  # Normalize pixel values to be between 0 and 1\n",
    "  img = img / 255.0\n",
    "\n",
    "  return img, label\n",
    "\n",
    "# --- 3. Build the Training and Testing Datasets ---\n",
    "\n",
    "# Create the training dataset from your file paths and encoded labels\n",
    "train_ds = tf.data.Dataset.from_tensor_slices((X_train_paths, y_train_encoded))\n",
    "train_ds = train_ds.map(process_path, num_parallel_calls=AUTOTUNE)\n",
    "train_ds = train_ds.cache() # Cache the preprocessed images\n",
    "train_ds = train_ds.shuffle(buffer_size=len(X_train_paths)) # Shuffle the data\n",
    "train_ds = train_ds.batch(BATCH_SIZE)\n",
    "train_ds = train_ds.prefetch(buffer_size=AUTOTUNE) # Overlap data processing and model execution\n",
    "\n",
    "# Create the testing dataset\n",
    "test_ds = tf.data.Dataset.from_tensor_slices((X_test_paths, y_test_encoded))\n",
    "test_ds = test_ds.map(process_path, num_parallel_calls=AUTOTUNE)\n",
    "test_ds = test_ds.batch(BATCH_SIZE)\n",
    "test_ds = test_ds.cache() # Cache for faster evaluation\n",
    "test_ds = test_ds.prefetch(buffer_size=AUTOTUNE)\n",
    "\n",
    "print(\"Datasets created successfully!\")\n",
    "print(\"Training Dataset:\", train_ds)\n",
    "print(\"Testing Dataset:\", test_ds)"
   ]
  },
  {
   "cell_type": "markdown",
   "id": "4c329271",
   "metadata": {},
   "source": [
    "#### Plot example of EKGs and labels"
   ]
  },
  {
   "cell_type": "code",
   "execution_count": 20,
   "id": "0d29c4ba",
   "metadata": {},
   "outputs": [
    {
     "name": "stderr",
     "output_type": "stream",
     "text": [
      "2025-08-19 15:01:46.567615: I tensorflow/core/framework/local_rendezvous.cc:407] Local rendezvous is aborting with status: OUT_OF_RANGE: End of sequence\n"
     ]
    },
    {
     "data": {
      "image/png": "[encoded data removed]",
      "text/plain": [
       "<Figure size 2000x1000 with 9 Axes>"
      ]
     },
     "metadata": {},
     "output_type": "display_data"
    }
   ],
   "source": [
    "# To get the original string labels for plotting\n",
    "class_names = label_encoder.classes_\n",
    "\n",
    "plt.figure(figsize=(20, 10))\n",
    "for images, labels in train_ds.take(1): # Take one batch\n",
    "  for i in range(9):\n",
    "    ax = plt.subplot(3, 3, i + 1)\n",
    "    plt.imshow(images[i].numpy()) # .numpy() converts the tensor to a numpy array\n",
    "    plt.title(class_names[labels[i]])\n",
    "    plt.axis(\"off\")\n",
    "plt.show()"
   ]
  },
  {
   "cell_type": "markdown",
   "id": "3dce751d",
   "metadata": {},
   "source": [
    "# CNN Model1"
   ]
  },
  {
   "cell_type": "code",
   "execution_count": 21,
   "id": "de5d7d64",
   "metadata": {},
   "outputs": [
    {
     "data": {
      "text/html": [
       "<pre style=\"white-space:pre;overflow-x:auto;line-height:normal;font-family:Menlo,'DejaVu Sans Mono',consolas,'Courier New',monospace\"><span style=\"font-weight: bold\">Model: \"sequential\"</span>\n",
       "</pre>\n"
      ],
      "text/plain": [
       "\u001b[1mModel: \"sequential\"\u001b[0m\n"
      ]
     },
     "metadata": {},
     "output_type": "display_data"
    },
    {
     "data": {
      "text/html": [
       "<pre style=\"white-space:pre;overflow-x:auto;line-height:normal;font-family:Menlo,'DejaVu Sans Mono',consolas,'Courier New',monospace\">┏━━━━━━━━━━━━━━━━━━━━━━━━━━━━━━━━━┳━━━━━━━━━━━━━━━━━━━━━━━━┳━━━━━━━━━━━━━━━┓\n",
       "┃<span style=\"font-weight: bold\"> Layer (type)                    </span>┃<span style=\"font-weight: bold\"> Output Shape           </span>┃<span style=\"font-weight: bold\">       Param # </span>┃\n",
       "┡━━━━━━━━━━━━━━━━━━━━━━━━━━━━━━━━━╇━━━━━━━━━━━━━━━━━━━━━━━━╇━━━━━━━━━━━━━━━┩\n",
       "│ conv2d (<span style=\"color: #0087ff; text-decoration-color: #0087ff\">Conv2D</span>)                 │ (<span style=\"color: #00d7ff; text-decoration-color: #00d7ff\">None</span>, <span style=\"color: #00af00; text-decoration-color: #00af00\">128</span>, <span style=\"color: #00af00; text-decoration-color: #00af00\">512</span>, <span style=\"color: #00af00; text-decoration-color: #00af00\">32</span>)   │           <span style=\"color: #00af00; text-decoration-color: #00af00\">896</span> │\n",
       "├─────────────────────────────────┼────────────────────────┼───────────────┤\n",
       "│ max_pooling2d (<span style=\"color: #0087ff; text-decoration-color: #0087ff\">MaxPooling2D</span>)    │ (<span style=\"color: #00d7ff; text-decoration-color: #00d7ff\">None</span>, <span style=\"color: #00af00; text-decoration-color: #00af00\">64</span>, <span style=\"color: #00af00; text-decoration-color: #00af00\">256</span>, <span style=\"color: #00af00; text-decoration-color: #00af00\">32</span>)    │             <span style=\"color: #00af00; text-decoration-color: #00af00\">0</span> │\n",
       "├─────────────────────────────────┼────────────────────────┼───────────────┤\n",
       "│ conv2d_1 (<span style=\"color: #0087ff; text-decoration-color: #0087ff\">Conv2D</span>)               │ (<span style=\"color: #00d7ff; text-decoration-color: #00d7ff\">None</span>, <span style=\"color: #00af00; text-decoration-color: #00af00\">64</span>, <span style=\"color: #00af00; text-decoration-color: #00af00\">256</span>, <span style=\"color: #00af00; text-decoration-color: #00af00\">64</span>)    │        <span style=\"color: #00af00; text-decoration-color: #00af00\">18,496</span> │\n",
       "├─────────────────────────────────┼────────────────────────┼───────────────┤\n",
       "│ max_pooling2d_1 (<span style=\"color: #0087ff; text-decoration-color: #0087ff\">MaxPooling2D</span>)  │ (<span style=\"color: #00d7ff; text-decoration-color: #00d7ff\">None</span>, <span style=\"color: #00af00; text-decoration-color: #00af00\">32</span>, <span style=\"color: #00af00; text-decoration-color: #00af00\">128</span>, <span style=\"color: #00af00; text-decoration-color: #00af00\">64</span>)    │             <span style=\"color: #00af00; text-decoration-color: #00af00\">0</span> │\n",
       "├─────────────────────────────────┼────────────────────────┼───────────────┤\n",
       "│ conv2d_2 (<span style=\"color: #0087ff; text-decoration-color: #0087ff\">Conv2D</span>)               │ (<span style=\"color: #00d7ff; text-decoration-color: #00d7ff\">None</span>, <span style=\"color: #00af00; text-decoration-color: #00af00\">32</span>, <span style=\"color: #00af00; text-decoration-color: #00af00\">128</span>, <span style=\"color: #00af00; text-decoration-color: #00af00\">128</span>)   │        <span style=\"color: #00af00; text-decoration-color: #00af00\">73,856</span> │\n",
       "├─────────────────────────────────┼────────────────────────┼───────────────┤\n",
       "│ max_pooling2d_2 (<span style=\"color: #0087ff; text-decoration-color: #0087ff\">MaxPooling2D</span>)  │ (<span style=\"color: #00d7ff; text-decoration-color: #00d7ff\">None</span>, <span style=\"color: #00af00; text-decoration-color: #00af00\">16</span>, <span style=\"color: #00af00; text-decoration-color: #00af00\">64</span>, <span style=\"color: #00af00; text-decoration-color: #00af00\">128</span>)    │             <span style=\"color: #00af00; text-decoration-color: #00af00\">0</span> │\n",
       "├─────────────────────────────────┼────────────────────────┼───────────────┤\n",
       "│ dropout (<span style=\"color: #0087ff; text-decoration-color: #0087ff\">Dropout</span>)               │ (<span style=\"color: #00d7ff; text-decoration-color: #00d7ff\">None</span>, <span style=\"color: #00af00; text-decoration-color: #00af00\">16</span>, <span style=\"color: #00af00; text-decoration-color: #00af00\">64</span>, <span style=\"color: #00af00; text-decoration-color: #00af00\">128</span>)    │             <span style=\"color: #00af00; text-decoration-color: #00af00\">0</span> │\n",
       "├─────────────────────────────────┼────────────────────────┼───────────────┤\n",
       "│ flatten (<span style=\"color: #0087ff; text-decoration-color: #0087ff\">Flatten</span>)               │ (<span style=\"color: #00d7ff; text-decoration-color: #00d7ff\">None</span>, <span style=\"color: #00af00; text-decoration-color: #00af00\">131072</span>)         │             <span style=\"color: #00af00; text-decoration-color: #00af00\">0</span> │\n",
       "├─────────────────────────────────┼────────────────────────┼───────────────┤\n",
       "│ dense (<span style=\"color: #0087ff; text-decoration-color: #0087ff\">Dense</span>)                   │ (<span style=\"color: #00d7ff; text-decoration-color: #00d7ff\">None</span>, <span style=\"color: #00af00; text-decoration-color: #00af00\">512</span>)            │    <span style=\"color: #00af00; text-decoration-color: #00af00\">67,109,376</span> │\n",
       "├─────────────────────────────────┼────────────────────────┼───────────────┤\n",
       "│ dropout_1 (<span style=\"color: #0087ff; text-decoration-color: #0087ff\">Dropout</span>)             │ (<span style=\"color: #00d7ff; text-decoration-color: #00d7ff\">None</span>, <span style=\"color: #00af00; text-decoration-color: #00af00\">512</span>)            │             <span style=\"color: #00af00; text-decoration-color: #00af00\">0</span> │\n",
       "├─────────────────────────────────┼────────────────────────┼───────────────┤\n",
       "│ dense_1 (<span style=\"color: #0087ff; text-decoration-color: #0087ff\">Dense</span>)                 │ (<span style=\"color: #00d7ff; text-decoration-color: #00d7ff\">None</span>, <span style=\"color: #00af00; text-decoration-color: #00af00\">7</span>)              │         <span style=\"color: #00af00; text-decoration-color: #00af00\">3,591</span> │\n",
       "└─────────────────────────────────┴────────────────────────┴───────────────┘\n",
       "</pre>\n"
      ],
      "text/plain": [
       "┏━━━━━━━━━━━━━━━━━━━━━━━━━━━━━━━━━┳━━━━━━━━━━━━━━━━━━━━━━━━┳━━━━━━━━━━━━━━━┓\n",
       "┃\u001b[1m \u001b[0m\u001b[1mLayer (type)                   \u001b[0m\u001b[1m \u001b[0m┃\u001b[1m \u001b[0m\u001b[1mOutput Shape          \u001b[0m\u001b[1m \u001b[0m┃\u001b[1m \u001b[0m\u001b[1m      Param #\u001b[0m\u001b[1m \u001b[0m┃\n",
       "┡━━━━━━━━━━━━━━━━━━━━━━━━━━━━━━━━━╇━━━━━━━━━━━━━━━━━━━━━━━━╇━━━━━━━━━━━━━━━┩\n",
       "│ conv2d (\u001b[38;5;33mConv2D\u001b[0m)                 │ (\u001b[38;5;45mNone\u001b[0m, \u001b[38;5;34m128\u001b[0m, \u001b[38;5;34m512\u001b[0m, \u001b[38;5;34m32\u001b[0m)   │           \u001b[38;5;34m896\u001b[0m │\n",
       "├─────────────────────────────────┼────────────────────────┼───────────────┤\n",
       "│ max_pooling2d (\u001b[38;5;33mMaxPooling2D\u001b[0m)    │ (\u001b[38;5;45mNone\u001b[0m, \u001b[38;5;34m64\u001b[0m, \u001b[38;5;34m256\u001b[0m, \u001b[38;5;34m32\u001b[0m)    │             \u001b[38;5;34m0\u001b[0m │\n",
       "├─────────────────────────────────┼────────────────────────┼───────────────┤\n",
       "│ conv2d_1 (\u001b[38;5;33mConv2D\u001b[0m)               │ (\u001b[38;5;45mNone\u001b[0m, \u001b[38;5;34m64\u001b[0m, \u001b[38;5;34m256\u001b[0m, \u001b[38;5;34m64\u001b[0m)    │        \u001b[38;5;34m18,496\u001b[0m │\n",
       "├─────────────────────────────────┼────────────────────────┼───────────────┤\n",
       "│ max_pooling2d_1 (\u001b[38;5;33mMaxPooling2D\u001b[0m)  │ (\u001b[38;5;45mNone\u001b[0m, \u001b[38;5;34m32\u001b[0m, \u001b[38;5;34m128\u001b[0m, \u001b[38;5;34m64\u001b[0m)    │             \u001b[38;5;34m0\u001b[0m │\n",
       "├─────────────────────────────────┼────────────────────────┼───────────────┤\n",
       "│ conv2d_2 (\u001b[38;5;33mConv2D\u001b[0m)               │ (\u001b[38;5;45mNone\u001b[0m, \u001b[38;5;34m32\u001b[0m, \u001b[38;5;34m128\u001b[0m, \u001b[38;5;34m128\u001b[0m)   │        \u001b[38;5;34m73,856\u001b[0m │\n",
       "├─────────────────────────────────┼────────────────────────┼───────────────┤\n",
       "│ max_pooling2d_2 (\u001b[38;5;33mMaxPooling2D\u001b[0m)  │ (\u001b[38;5;45mNone\u001b[0m, \u001b[38;5;34m16\u001b[0m, \u001b[38;5;34m64\u001b[0m, \u001b[38;5;34m128\u001b[0m)    │             \u001b[38;5;34m0\u001b[0m │\n",
       "├─────────────────────────────────┼────────────────────────┼───────────────┤\n",
       "│ dropout (\u001b[38;5;33mDropout\u001b[0m)               │ (\u001b[38;5;45mNone\u001b[0m, \u001b[38;5;34m16\u001b[0m, \u001b[38;5;34m64\u001b[0m, \u001b[38;5;34m128\u001b[0m)    │             \u001b[38;5;34m0\u001b[0m │\n",
       "├─────────────────────────────────┼────────────────────────┼───────────────┤\n",
       "│ flatten (\u001b[38;5;33mFlatten\u001b[0m)               │ (\u001b[38;5;45mNone\u001b[0m, \u001b[38;5;34m131072\u001b[0m)         │             \u001b[38;5;34m0\u001b[0m │\n",
       "├─────────────────────────────────┼────────────────────────┼───────────────┤\n",
       "│ dense (\u001b[38;5;33mDense\u001b[0m)                   │ (\u001b[38;5;45mNone\u001b[0m, \u001b[38;5;34m512\u001b[0m)            │    \u001b[38;5;34m67,109,376\u001b[0m │\n",
       "├─────────────────────────────────┼────────────────────────┼───────────────┤\n",
       "│ dropout_1 (\u001b[38;5;33mDropout\u001b[0m)             │ (\u001b[38;5;45mNone\u001b[0m, \u001b[38;5;34m512\u001b[0m)            │             \u001b[38;5;34m0\u001b[0m │\n",
       "├─────────────────────────────────┼────────────────────────┼───────────────┤\n",
       "│ dense_1 (\u001b[38;5;33mDense\u001b[0m)                 │ (\u001b[38;5;45mNone\u001b[0m, \u001b[38;5;34m7\u001b[0m)              │         \u001b[38;5;34m3,591\u001b[0m │\n",
       "└─────────────────────────────────┴────────────────────────┴───────────────┘\n"
      ]
     },
     "metadata": {},
     "output_type": "display_data"
    },
    {
     "data": {
      "text/html": [
       "<pre style=\"white-space:pre;overflow-x:auto;line-height:normal;font-family:Menlo,'DejaVu Sans Mono',consolas,'Courier New',monospace\"><span style=\"font-weight: bold\"> Total params: </span><span style=\"color: #00af00; text-decoration-color: #00af00\">67,206,215</span> (256.37 MB)\n",
       "</pre>\n"
      ],
      "text/plain": [
       "\u001b[1m Total params: \u001b[0m\u001b[38;5;34m67,206,215\u001b[0m (256.37 MB)\n"
      ]
     },
     "metadata": {},
     "output_type": "display_data"
    },
    {
     "data": {
      "text/html": [
       "<pre style=\"white-space:pre;overflow-x:auto;line-height:normal;font-family:Menlo,'DejaVu Sans Mono',consolas,'Courier New',monospace\"><span style=\"font-weight: bold\"> Trainable params: </span><span style=\"color: #00af00; text-decoration-color: #00af00\">67,206,215</span> (256.37 MB)\n",
       "</pre>\n"
      ],
      "text/plain": [
       "\u001b[1m Trainable params: \u001b[0m\u001b[38;5;34m67,206,215\u001b[0m (256.37 MB)\n"
      ]
     },
     "metadata": {},
     "output_type": "display_data"
    },
    {
     "data": {
      "text/html": [
       "<pre style=\"white-space:pre;overflow-x:auto;line-height:normal;font-family:Menlo,'DejaVu Sans Mono',consolas,'Courier New',monospace\"><span style=\"font-weight: bold\"> Non-trainable params: </span><span style=\"color: #00af00; text-decoration-color: #00af00\">0</span> (0.00 B)\n",
       "</pre>\n"
      ],
      "text/plain": [
       "\u001b[1m Non-trainable params: \u001b[0m\u001b[38;5;34m0\u001b[0m (0.00 B)\n"
      ]
     },
     "metadata": {},
     "output_type": "display_data"
    }
   ],
   "source": [
    "input_shape = (IMG_HEIGHT, IMG_WIDTH, 3)\n",
    "\n",
    "# Create the Sequential model\n",
    "ekg_model = models.Sequential([\n",
    "    # Input Layer\n",
    "    layers.Input(shape=input_shape),\n",
    "\n",
    "    # --- Feature Extraction Block ---\n",
    "\n",
    "    # First Convolutional Block\n",
    "    # 32 filters to learn basic features like edges and gradients.\n",
    "    layers.Conv2D(32, (3, 3), activation='relu', padding='same'),\n",
    "    layers.MaxPooling2D((2, 2)),\n",
    "\n",
    "    # Second Convolutional Block\n",
    "    # 64 filters to learn more complex patterns from the first block's features.\n",
    "    layers.Conv2D(64, (3, 3), activation='relu', padding='same'),\n",
    "    layers.MaxPooling2D((2, 2)),\n",
    "\n",
    "    # Third Convolutional Block\n",
    "    # 128 filters to learn even more abstract features.\n",
    "    layers.Conv2D(128, (3, 3), activation='relu', padding='same'),\n",
    "    layers.MaxPooling2D((2, 2)),\n",
    "    # Dropout layer to help prevent overfitting.\n",
    "    layers.Dropout(0.25),\n",
    "\n",
    "    # --- Classifier Head ---\n",
    "\n",
    "    # Flatten the 3D feature maps into a 1D vector.\n",
    "    layers.Flatten(),\n",
    "\n",
    "    # A dense layer to perform high-level reasoning.\n",
    "    layers.Dense(512, activation='relu'),\n",
    "    # Another dropout layer for regularization.\n",
    "    layers.Dropout(0.5),\n",
    "\n",
    "    # The final output layer.\n",
    "    # It must have `num_classes` units and 'softmax' activation\n",
    "    # for multi-class probability scores.\n",
    "    layers.Dense(num_classes)\n",
    "])\n",
    "\n",
    "# Print the model's architecture\n",
    "ekg_model.summary()"
   ]
  },
  {
   "cell_type": "markdown",
   "id": "042d2149",
   "metadata": {},
   "source": [
    "## Train CNN and Save Best Model"
   ]
  },
  {
   "cell_type": "code",
   "execution_count": 22,
   "id": "70690e12",
   "metadata": {},
   "outputs": [
    {
     "name": "stdout",
     "output_type": "stream",
     "text": [
      "Epoch 1/50\n"
     ]
    },
    {
     "name": "stderr",
     "output_type": "stream",
     "text": [
      "2025-08-19 15:01:48.325014: I external/local_xla/xla/service/service.cc:163] XLA service 0x7d5e1801ed20 initialized for platform CUDA (this does not guarantee that XLA will be used). Devices:\n",
      "2025-08-19 15:01:48.325044: I external/local_xla/xla/service/service.cc:171]   StreamExecutor device (0): NVIDIA GeForce RTX 4050 Laptop GPU, Compute Capability 8.9\n",
      "2025-08-19 15:01:48.348696: I tensorflow/compiler/mlir/tensorflow/utils/dump_mlir_util.cc:269] disabling MLIR crash reproducer, set env var `MLIR_CRASH_REPRODUCER_DIRECTORY` to enable.\n",
      "2025-08-19 15:01:48.519044: I external/local_xla/xla/stream_executor/cuda/cuda_dnn.cc:473] Loaded cuDNN version 91200\n",
      "2025-08-19 15:01:49.241442: I external/local_xla/xla/stream_executor/cuda/subprocess_compilation.cc:346] ptxas warning : Registers are spilled to local memory in function 'gemm_fusion_dot_955', 60 bytes spill stores, 60 bytes spill loads\n",
      "\n",
      "2025-08-19 15:01:51.197573: W external/local_xla/xla/tsl/framework/bfc_allocator.cc:310] Allocator (GPU_0_bfc) ran out of memory trying to allocate 5.05GiB with freed_by_count=0. The caller indicates that this is not a failure, but this may mean that there could be performance gains if more memory were available.\n",
      "2025-08-19 15:01:54.744921: W external/local_xla/xla/tsl/framework/bfc_allocator.cc:310] Allocator (GPU_0_bfc) ran out of memory trying to allocate 4.11GiB with freed_by_count=0. The caller indicates that this is not a failure, but this may mean that there could be performance gains if more memory were available.\n"
     ]
    },
    {
     "name": "stdout",
     "output_type": "stream",
     "text": [
      "\u001b[1m  2/262\u001b[0m \u001b[37m━━━━━━━━━━━━━━━━━━━━\u001b[0m \u001b[1m22s\u001b[0m 88ms/step - accuracy: 0.2422 - loss: 2.1819"
     ]
    },
    {
     "name": "stderr",
     "output_type": "stream",
     "text": [
      "I0000 00:00:1755633716.251020   16193 device_compiler.h:196] Compiled cluster using XLA!  This line is logged at most once for the lifetime of the process.\n"
     ]
    },
    {
     "name": "stdout",
     "output_type": "stream",
     "text": [
      "\u001b[1m261/262\u001b[0m \u001b[32m━━━━━━━━━━━━━━━━━━━\u001b[0m\u001b[37m━\u001b[0m \u001b[1m0s\u001b[0m 124ms/step - accuracy: 0.3606 - loss: 1.7903"
     ]
    },
    {
     "name": "stderr",
     "output_type": "stream",
     "text": [
      "2025-08-19 15:02:29.301422: I external/local_xla/xla/stream_executor/cuda/subprocess_compilation.cc:346] ptxas warning : Registers are spilled to local memory in function 'gemm_fusion_dot_1027', 12 bytes spill stores, 24 bytes spill loads\n",
      "\n",
      "2025-08-19 15:02:31.046532: W external/local_xla/xla/tsl/framework/bfc_allocator.cc:310] Allocator (GPU_0_bfc) ran out of memory trying to allocate 4.33GiB with freed_by_count=0. The caller indicates that this is not a failure, but this may mean that there could be performance gains if more memory were available.\n",
      "2025-08-19 15:02:34.344522: W external/local_xla/xla/tsl/framework/bfc_allocator.cc:310] Allocator (GPU_0_bfc) ran out of memory trying to allocate 4.06GiB with freed_by_count=0. The caller indicates that this is not a failure, but this may mean that there could be performance gains if more memory were available.\n"
     ]
    },
    {
     "name": "stdout",
     "output_type": "stream",
     "text": [
      "\u001b[1m262/262\u001b[0m \u001b[32m━━━━━━━━━━━━━━━━━━━━\u001b[0m\u001b[37m\u001b[0m \u001b[1m0s\u001b[0m 151ms/step - accuracy: 0.3608 - loss: 1.7896"
     ]
    },
    {
     "name": "stderr",
     "output_type": "stream",
     "text": [
      "2025-08-19 15:02:40.131865: W external/local_xla/xla/tsl/framework/bfc_allocator.cc:310] Allocator (GPU_0_bfc) ran out of memory trying to allocate 5.05GiB with freed_by_count=0. The caller indicates that this is not a failure, but this may mean that there could be performance gains if more memory were available.\n",
      "2025-08-19 15:02:44.638402: I external/local_xla/xla/stream_executor/cuda/subprocess_compilation.cc:346] ptxas warning : Registers are spilled to local memory in function 'gemm_fusion_dot_94', 4 bytes spill stores, 4 bytes spill loads\n",
      "\n",
      "2025-08-19 15:02:46.541414: W external/local_xla/xla/tsl/framework/bfc_allocator.cc:310] Allocator (GPU_0_bfc) ran out of memory trying to allocate 4.39GiB with freed_by_count=0. The caller indicates that this is not a failure, but this may mean that there could be performance gains if more memory were available.\n"
     ]
    },
    {
     "name": "stdout",
     "output_type": "stream",
     "text": [
      "\n",
      "Epoch 1: val_accuracy improved from None to 0.44859, saving model to EKG_CNN.keras\n",
      "\u001b[1m262/262\u001b[0m \u001b[32m━━━━━━━━━━━━━━━━━━━━\u001b[0m\u001b[37m\u001b[0m \u001b[1m62s\u001b[0m 203ms/step - accuracy: 0.4095 - loss: 1.6169 - val_accuracy: 0.4486 - val_loss: 1.3915\n",
      "Epoch 2/50\n",
      "\u001b[1m261/262\u001b[0m \u001b[32m━━━━━━━━━━━━━━━━━━━\u001b[0m\u001b[37m━\u001b[0m \u001b[1m0s\u001b[0m 104ms/step - accuracy: 0.4869 - loss: 1.3769\n",
      "Epoch 2: val_accuracy improved from 0.44859 to 0.57293, saving model to EKG_CNN.keras\n",
      "\u001b[1m262/262\u001b[0m \u001b[32m━━━━━━━━━━━━━━━━━━━━\u001b[0m\u001b[37m\u001b[0m \u001b[1m30s\u001b[0m 113ms/step - accuracy: 0.5143 - loss: 1.3350 - val_accuracy: 0.5729 - val_loss: 1.2047\n",
      "Epoch 3/50\n",
      "\u001b[1m261/262\u001b[0m \u001b[32m━━━━━━━━━━━━━━━━━━━\u001b[0m\u001b[37m━\u001b[0m \u001b[1m0s\u001b[0m 88ms/step - accuracy: 0.5465 - loss: 1.2392\n",
      "Epoch 3: val_accuracy improved from 0.57293 to 0.61549, saving model to EKG_CNN.keras\n",
      "\u001b[1m262/262\u001b[0m \u001b[32m━━━━━━━━━━━━━━━━━━━━\u001b[0m\u001b[37m\u001b[0m \u001b[1m25s\u001b[0m 97ms/step - accuracy: 0.5652 - loss: 1.2030 - val_accuracy: 0.6155 - val_loss: 1.1055\n",
      "Epoch 4/50\n",
      "\u001b[1m262/262\u001b[0m \u001b[32m━━━━━━━━━━━━━━━━━━━━\u001b[0m\u001b[37m\u001b[0m \u001b[1m0s\u001b[0m 122ms/step - accuracy: 0.6002 - loss: 1.1366\n",
      "Epoch 4: val_accuracy improved from 0.61549 to 0.66523, saving model to EKG_CNN.keras\n",
      "\u001b[1m262/262\u001b[0m \u001b[32m━━━━━━━━━━━━━━━━━━━━\u001b[0m\u001b[37m\u001b[0m \u001b[1m35s\u001b[0m 135ms/step - accuracy: 0.6161 - loss: 1.1022 - val_accuracy: 0.6652 - val_loss: 1.0203\n",
      "Epoch 5/50\n",
      "\u001b[1m261/262\u001b[0m \u001b[32m━━━━━━━━━━━━━━━━━━━\u001b[0m\u001b[37m━\u001b[0m \u001b[1m0s\u001b[0m 127ms/step - accuracy: 0.6464 - loss: 1.0149\n",
      "Epoch 5: val_accuracy improved from 0.66523 to 0.72406, saving model to EKG_CNN.keras\n",
      "\u001b[1m262/262\u001b[0m \u001b[32m━━━━━━━━━━━━━━━━━━━━\u001b[0m\u001b[37m\u001b[0m \u001b[1m36s\u001b[0m 136ms/step - accuracy: 0.6615 - loss: 0.9798 - val_accuracy: 0.7241 - val_loss: 0.8690\n",
      "Epoch 6/50\n",
      "\u001b[1m261/262\u001b[0m \u001b[32m━━━━━━━━━━━━━━━━━━━\u001b[0m\u001b[37m━\u001b[0m \u001b[1m0s\u001b[0m 90ms/step - accuracy: 0.7042 - loss: 0.8953\n",
      "Epoch 6: val_accuracy improved from 0.72406 to 0.74988, saving model to EKG_CNN.keras\n",
      "\u001b[1m262/262\u001b[0m \u001b[32m━━━━━━━━━━━━━━━━━━━━\u001b[0m\u001b[37m\u001b[0m \u001b[1m26s\u001b[0m 100ms/step - accuracy: 0.7132 - loss: 0.8703 - val_accuracy: 0.7499 - val_loss: 0.7829\n",
      "Epoch 7/50\n",
      "\u001b[1m262/262\u001b[0m \u001b[32m━━━━━━━━━━━━━━━━━━━━\u001b[0m\u001b[37m\u001b[0m \u001b[1m0s\u001b[0m 159ms/step - accuracy: 0.7529 - loss: 0.7731\n",
      "Epoch 7: val_accuracy improved from 0.74988 to 0.79818, saving model to EKG_CNN.keras\n",
      "\u001b[1m262/262\u001b[0m \u001b[32m━━━━━━━━━━━━━━━━━━━━\u001b[0m\u001b[37m\u001b[0m \u001b[1m45s\u001b[0m 173ms/step - accuracy: 0.7562 - loss: 0.7619 - val_accuracy: 0.7982 - val_loss: 0.6964\n",
      "Epoch 8/50\n",
      "\u001b[1m262/262\u001b[0m \u001b[32m━━━━━━━━━━━━━━━━━━━━\u001b[0m\u001b[37m\u001b[0m \u001b[1m0s\u001b[0m 161ms/step - accuracy: 0.7747 - loss: 0.6923\n",
      "Epoch 8: val_accuracy improved from 0.79818 to 0.81157, saving model to EKG_CNN.keras\n",
      "\u001b[1m262/262\u001b[0m \u001b[32m━━━━━━━━━━━━━━━━━━━━\u001b[0m\u001b[37m\u001b[0m \u001b[1m48s\u001b[0m 183ms/step - accuracy: 0.7768 - loss: 0.6818 - val_accuracy: 0.8116 - val_loss: 0.6252\n",
      "Epoch 9/50\n",
      "\u001b[1m262/262\u001b[0m \u001b[32m━━━━━━━━━━━━━━━━━━━━\u001b[0m\u001b[37m\u001b[0m \u001b[1m0s\u001b[0m 161ms/step - accuracy: 0.7948 - loss: 0.6324\n",
      "Epoch 9: val_accuracy improved from 0.81157 to 0.81923, saving model to EKG_CNN.keras\n",
      "\u001b[1m262/262\u001b[0m \u001b[32m━━━━━━━━━━━━━━━━━━━━\u001b[0m\u001b[37m\u001b[0m \u001b[1m46s\u001b[0m 174ms/step - accuracy: 0.8003 - loss: 0.6155 - val_accuracy: 0.8192 - val_loss: 0.5912\n",
      "Epoch 10/50\n",
      "\u001b[1m262/262\u001b[0m \u001b[32m━━━━━━━━━━━━━━━━━━━━\u001b[0m\u001b[37m\u001b[0m \u001b[1m0s\u001b[0m 160ms/step - accuracy: 0.8073 - loss: 0.5943\n",
      "Epoch 10: val_accuracy improved from 0.81923 to 0.82353, saving model to EKG_CNN.keras\n",
      "\u001b[1m262/262\u001b[0m \u001b[32m━━━━━━━━━━━━━━━━━━━━\u001b[0m\u001b[37m\u001b[0m \u001b[1m45s\u001b[0m 173ms/step - accuracy: 0.8146 - loss: 0.5721 - val_accuracy: 0.8235 - val_loss: 0.5568\n",
      "Epoch 11/50\n",
      "\u001b[1m262/262\u001b[0m \u001b[32m━━━━━━━━━━━━━━━━━━━━\u001b[0m\u001b[37m\u001b[0m \u001b[1m0s\u001b[0m 162ms/step - accuracy: 0.8204 - loss: 0.5348\n",
      "Epoch 11: val_accuracy improved from 0.82353 to 0.83022, saving model to EKG_CNN.keras\n",
      "\u001b[1m262/262\u001b[0m \u001b[32m━━━━━━━━━━━━━━━━━━━━\u001b[0m\u001b[37m\u001b[0m \u001b[1m48s\u001b[0m 184ms/step - accuracy: 0.8254 - loss: 0.5280 - val_accuracy: 0.8302 - val_loss: 0.5336\n",
      "Epoch 12/50\n",
      "\u001b[1m262/262\u001b[0m \u001b[32m━━━━━━━━━━━━━━━━━━━━\u001b[0m\u001b[37m\u001b[0m \u001b[1m0s\u001b[0m 162ms/step - accuracy: 0.8320 - loss: 0.5023\n",
      "Epoch 12: val_accuracy improved from 0.83022 to 0.83979, saving model to EKG_CNN.keras\n",
      "\u001b[1m262/262\u001b[0m \u001b[32m━━━━━━━━━━━━━━━━━━━━\u001b[0m\u001b[37m\u001b[0m \u001b[1m46s\u001b[0m 176ms/step - accuracy: 0.8347 - loss: 0.4917 - val_accuracy: 0.8398 - val_loss: 0.5167\n",
      "Epoch 13/50\n",
      "\u001b[1m262/262\u001b[0m \u001b[32m━━━━━━━━━━━━━━━━━━━━\u001b[0m\u001b[37m\u001b[0m \u001b[1m0s\u001b[0m 161ms/step - accuracy: 0.8511 - loss: 0.4458\n",
      "Epoch 13: val_accuracy improved from 0.83979 to 0.84027, saving model to EKG_CNN.keras\n",
      "\u001b[1m262/262\u001b[0m \u001b[32m━━━━━━━━━━━━━━━━━━━━\u001b[0m\u001b[37m\u001b[0m \u001b[1m46s\u001b[0m 175ms/step - accuracy: 0.8487 - loss: 0.4468 - val_accuracy: 0.8403 - val_loss: 0.4977\n",
      "Epoch 14/50\n",
      "\u001b[1m262/262\u001b[0m \u001b[32m━━━━━━━━━━━━━━━━━━━━\u001b[0m\u001b[37m\u001b[0m \u001b[1m0s\u001b[0m 169ms/step - accuracy: 0.8579 - loss: 0.4232\n",
      "Epoch 14: val_accuracy improved from 0.84027 to 0.84170, saving model to EKG_CNN.keras\n",
      "\u001b[1m262/262\u001b[0m \u001b[32m━━━━━━━━━━━━━━━━━━━━\u001b[0m\u001b[37m\u001b[0m \u001b[1m48s\u001b[0m 183ms/step - accuracy: 0.8593 - loss: 0.4212 - val_accuracy: 0.8417 - val_loss: 0.4923\n",
      "Epoch 15/50\n",
      "\u001b[1m262/262\u001b[0m \u001b[32m━━━━━━━━━━━━━━━━━━━━\u001b[0m\u001b[37m\u001b[0m \u001b[1m0s\u001b[0m 161ms/step - accuracy: 0.8698 - loss: 0.3947\n",
      "Epoch 15: val_accuracy improved from 0.84170 to 0.84553, saving model to EKG_CNN.keras\n",
      "\u001b[1m262/262\u001b[0m \u001b[32m━━━━━━━━━━━━━━━━━━━━\u001b[0m\u001b[37m\u001b[0m \u001b[1m46s\u001b[0m 175ms/step - accuracy: 0.8714 - loss: 0.3932 - val_accuracy: 0.8455 - val_loss: 0.4811\n",
      "Epoch 16/50\n",
      "\u001b[1m262/262\u001b[0m \u001b[32m━━━━━━━━━━━━━━━━━━━━\u001b[0m\u001b[37m\u001b[0m \u001b[1m0s\u001b[0m 161ms/step - accuracy: 0.8754 - loss: 0.3660\n",
      "Epoch 16: val_accuracy improved from 0.84553 to 0.85079, saving model to EKG_CNN.keras\n",
      "\u001b[1m262/262\u001b[0m \u001b[32m━━━━━━━━━━━━━━━━━━━━\u001b[0m\u001b[37m\u001b[0m \u001b[1m46s\u001b[0m 174ms/step - accuracy: 0.8743 - loss: 0.3673 - val_accuracy: 0.8508 - val_loss: 0.4876\n",
      "Epoch 17/50\n",
      "\u001b[1m262/262\u001b[0m \u001b[32m━━━━━━━━━━━━━━━━━━━━\u001b[0m\u001b[37m\u001b[0m \u001b[1m0s\u001b[0m 126ms/step - accuracy: 0.8742 - loss: 0.3558\n",
      "Epoch 17: val_accuracy did not improve from 0.85079\n",
      "\u001b[1m262/262\u001b[0m \u001b[32m━━━━━━━━━━━━━━━━━━━━\u001b[0m\u001b[37m\u001b[0m \u001b[1m35s\u001b[0m 135ms/step - accuracy: 0.8804 - loss: 0.3453 - val_accuracy: 0.8474 - val_loss: 0.4851\n",
      "Epoch 18/50\n",
      "\u001b[1m262/262\u001b[0m \u001b[32m━━━━━━━━━━━━━━━━━━━━\u001b[0m\u001b[37m\u001b[0m \u001b[1m0s\u001b[0m 170ms/step - accuracy: 0.8862 - loss: 0.3321\n",
      "Epoch 18: val_accuracy did not improve from 0.85079\n",
      "\u001b[1m262/262\u001b[0m \u001b[32m━━━━━━━━━━━━━━━━━━━━\u001b[0m\u001b[37m\u001b[0m \u001b[1m47s\u001b[0m 179ms/step - accuracy: 0.8885 - loss: 0.3266 - val_accuracy: 0.8451 - val_loss: 0.5037\n",
      "Epoch 19/50\n",
      "\u001b[1m262/262\u001b[0m \u001b[32m━━━━━━━━━━━━━━━━━━━━\u001b[0m\u001b[37m\u001b[0m \u001b[1m0s\u001b[0m 162ms/step - accuracy: 0.9026 - loss: 0.2970\n",
      "Epoch 19: val_accuracy did not improve from 0.85079\n",
      "\u001b[1m262/262\u001b[0m \u001b[32m━━━━━━━━━━━━━━━━━━━━\u001b[0m\u001b[37m\u001b[0m \u001b[1m45s\u001b[0m 170ms/step - accuracy: 0.9001 - loss: 0.2990 - val_accuracy: 0.8508 - val_loss: 0.4834\n",
      "Epoch 20/50\n",
      "\u001b[1m262/262\u001b[0m \u001b[32m━━━━━━━━━━━━━━━━━━━━\u001b[0m\u001b[37m\u001b[0m \u001b[1m0s\u001b[0m 163ms/step - accuracy: 0.9052 - loss: 0.2710\n",
      "Epoch 20: val_accuracy did not improve from 0.85079\n",
      "\u001b[1m262/262\u001b[0m \u001b[32m━━━━━━━━━━━━━━━━━━━━\u001b[0m\u001b[37m\u001b[0m \u001b[1m45s\u001b[0m 171ms/step - accuracy: 0.9004 - loss: 0.2837 - val_accuracy: 0.8503 - val_loss: 0.4937\n",
      "Epoch 21/50\n",
      "\u001b[1m262/262\u001b[0m \u001b[32m━━━━━━━━━━━━━━━━━━━━\u001b[0m\u001b[37m\u001b[0m \u001b[1m0s\u001b[0m 169ms/step - accuracy: 0.9120 - loss: 0.2633\n",
      "Epoch 21: val_accuracy did not improve from 0.85079\n",
      "\u001b[1m262/262\u001b[0m \u001b[32m━━━━━━━━━━━━━━━━━━━━\u001b[0m\u001b[37m\u001b[0m \u001b[1m46s\u001b[0m 177ms/step - accuracy: 0.9075 - loss: 0.2678 - val_accuracy: 0.8474 - val_loss: 0.4894\n",
      "Epoch 22/50\n",
      "\u001b[1m262/262\u001b[0m \u001b[32m━━━━━━━━━━━━━━━━━━━━\u001b[0m\u001b[37m\u001b[0m \u001b[1m0s\u001b[0m 162ms/step - accuracy: 0.9095 - loss: 0.2479\n",
      "Epoch 22: val_accuracy did not improve from 0.85079\n",
      "\u001b[1m262/262\u001b[0m \u001b[32m━━━━━━━━━━━━━━━━━━━━\u001b[0m\u001b[37m\u001b[0m \u001b[1m45s\u001b[0m 170ms/step - accuracy: 0.9085 - loss: 0.2538 - val_accuracy: 0.8465 - val_loss: 0.5072\n",
      "Epoch 23/50\n",
      "\u001b[1m262/262\u001b[0m \u001b[32m━━━━━━━━━━━━━━━━━━━━\u001b[0m\u001b[37m\u001b[0m \u001b[1m0s\u001b[0m 163ms/step - accuracy: 0.9153 - loss: 0.2399\n",
      "Epoch 23: val_accuracy did not improve from 0.85079\n",
      "\u001b[1m262/262\u001b[0m \u001b[32m━━━━━━━━━━━━━━━━━━━━\u001b[0m\u001b[37m\u001b[0m \u001b[1m45s\u001b[0m 171ms/step - accuracy: 0.9160 - loss: 0.2374 - val_accuracy: 0.8427 - val_loss: 0.5571\n",
      "Epoch 23: early stopping\n"
     ]
    }
   ],
   "source": [
    "\n",
    "ekg_model.compile(optimizer=tf.keras.optimizers.Adam(learning_rate=0.0001),\n",
    "                      loss=tf.keras.losses.SparseCategoricalCrossentropy(from_logits=True), # will use logits from final layer of CNN that did not have activation function applied\n",
    "                      metrics=['accuracy']\n",
    "                      )\n",
    "\n",
    "# --- use early stopping ---\n",
    "callback = tf.keras.callbacks.EarlyStopping(monitor='val_accuracy', patience= 7, verbose=1)\n",
    "\n",
    "# Create the ModelCheckpoint callback\n",
    "model_checkpoint = ModelCheckpoint(\n",
    "    filepath='EKG_CNN.keras',          # File path to save the model\n",
    "    monitor='val_accuracy',            # The metric to monitor\n",
    "    save_best_only=True,               # Only save a model if `val_accuracy` has improved\n",
    "    mode='max',                        # `max` because we want to maximize the metric\n",
    "    verbose=1                          # Print a message when a model is saved\n",
    ")\n",
    "\n",
    "\n",
    "\n",
    "# --- Set seed to reproduce results ---\n",
    "tf.random.set_seed(27)\n",
    "\n",
    "epochs = 50\n",
    "# --- fit/train ---\n",
    "history = ekg_model.fit(train_ds, epochs=epochs,\n",
    "                           validation_data=test_ds,\n",
    "                           callbacks=[callback, model_checkpoint], verbose=1)"
   ]
  },
  {
   "cell_type": "markdown",
   "id": "2118ac9e",
   "metadata": {},
   "source": [
    "## Evaluate CNN"
   ]
  },
  {
   "cell_type": "code",
   "execution_count": 23,
   "id": "f62ad2fd",
   "metadata": {},
   "outputs": [
    {
     "data": {
      "image/png": "[encoded data removed]",
      "text/plain": [
       "<Figure size 1000x500 with 1 Axes>"
      ]
     },
     "metadata": {},
     "output_type": "display_data"
    }
   ],
   "source": [
    "# Create a new figure for the accuracy plot\n",
    "plt.figure(figsize=(10, 5))\n",
    "\n",
    "# Plot accuracy directly from the history object\n",
    "plt.plot(history.history['accuracy'], label='Training Accuracy')\n",
    "plt.plot(history.history['val_accuracy'], label='Validation Accuracy')\n",
    "\n",
    "# Add titles and labels\n",
    "plt.title('Model Accuracy')\n",
    "plt.xlabel('Epoch')\n",
    "plt.ylabel('Accuracy')\n",
    "plt.legend(loc='lower right')\n",
    "\n",
    "# Display the plot\n",
    "plt.grid(True)\n",
    "plt.show()"
   ]
  },
  {
   "cell_type": "code",
   "execution_count": 24,
   "id": "6d7ccbc0",
   "metadata": {},
   "outputs": [
    {
     "data": {
      "image/png": "[encoded data removed]",
      "text/plain": [
       "<Figure size 1000x500 with 1 Axes>"
      ]
     },
     "metadata": {},
     "output_type": "display_data"
    }
   ],
   "source": [
    "\n",
    "# Create a new figure for the loss plot\n",
    "plt.figure(figsize=(10, 5))\n",
    "\n",
    "# Plot loss directly from the history object\n",
    "plt.plot(history.history['loss'], label='Training Loss')\n",
    "plt.plot(history.history['val_loss'], label='Validation Loss')\n",
    "\n",
    "# Add titles and labels\n",
    "plt.title('Model Loss')\n",
    "plt.xlabel('Epoch')\n",
    "plt.ylabel('Loss')\n",
    "plt.legend(loc='upper right')\n",
    "\n",
    "# Display the plot\n",
    "plt.grid(True)\n",
    "plt.show()"
   ]
  },
  {
   "cell_type": "markdown",
   "id": "dc206e3b",
   "metadata": {},
   "source": [
    "### Evaluate best CNN Predictions using confusion matrix , precision, recall"
   ]
  },
  {
   "cell_type": "code",
   "execution_count": 25,
   "id": "996f9177",
   "metadata": {},
   "outputs": [
    {
     "name": "stdout",
     "output_type": "stream",
     "text": [
      "\u001b[1m66/66\u001b[0m \u001b[32m━━━━━━━━━━━━━━━━━━━━\u001b[0m\u001b[37m\u001b[0m \u001b[1m2s\u001b[0m 28ms/step\n",
      "\n",
      "Using labels: [np.str_('AF'), np.str_('AFIB'), np.str_('SA'), np.str_('SB'), np.str_('SR'), np.str_('ST'), np.str_('SVT')]\n",
      "\n",
      "============================================================\n",
      "Classification Report\n",
      "============================================================\n",
      "              precision    recall  f1-score   support\n",
      "\n",
      "          AF       0.60      0.07      0.12        89\n",
      "        AFIB       0.75      0.86      0.80       356\n",
      "          SA       0.54      0.09      0.15        80\n",
      "          SB       0.96      0.98      0.97       778\n",
      "          SR       0.83      0.89      0.86       365\n",
      "          ST       0.79      0.91      0.84       314\n",
      "         SVT       0.74      0.78      0.76       109\n",
      "\n",
      "    accuracy                           0.85      2091\n",
      "   macro avg       0.74      0.65      0.64      2091\n",
      "weighted avg       0.83      0.85      0.83      2091\n",
      "\n",
      "\n",
      "============================================================\n",
      "Confusion Matrix\n",
      "============================================================\n"
     ]
    },
    {
     "name": "stderr",
     "output_type": "stream",
     "text": [
      "2025-08-19 15:18:18.069986: I tensorflow/core/framework/local_rendezvous.cc:407] Local rendezvous is aborting with status: OUT_OF_RANGE: End of sequence\n"
     ]
    },
    {
     "data": {
      "image/png": "[encoded data removed]",
      "text/plain": [
       "<Figure size 1000x800 with 2 Axes>"
      ]
     },
     "metadata": {},
     "output_type": "display_data"
    }
   ],
   "source": [
    "\n",
    "# --- 1. Load the Best Saved Model ---\n",
    "best_model = tf.keras.models.load_model('EKG_CNN.keras')\n",
    "\n",
    "\n",
    "# --- 2. Make Predictions and Get True Labels  ---\n",
    "# Instead of iterating, predict on the entire dataset at once for a significant speed-up.\n",
    "y_pred_probs = best_model.predict(test_ds)\n",
    "y_pred = np.argmax(y_pred_probs, axis=1)\n",
    "\n",
    "# Extract the true labels directly from the dataset object.\n",
    "y_true = np.concatenate([y for x, y in test_ds], axis=0)\n",
    "\n",
    "\n",
    "# --- 3. Define Label Mapping  ---\n",
    "# Get class names directly from the fitted LabelEncoder.\n",
    "\n",
    "label_names = label_encoder.classes_\n",
    "print(f\"\\nUsing labels: {list(label_names)}\")\n",
    "\n",
    "# --- 4. Generate Classification Report ---\n",
    "print(\"\\n\" + \"=\"*60)\n",
    "print(\"Classification Report\")\n",
    "print(\"=\"*60)\n",
    "print(classification_report(y_true, y_pred, target_names=label_names))\n",
    "\n",
    "# --- 5. Generate and Plot the Confusion Matrix ---\n",
    "print(\"\\n\" + \"=\"*60)\n",
    "print(\"Confusion Matrix\")\n",
    "print(\"=\"*60)\n",
    "cm = confusion_matrix(y_true, y_pred)\n",
    "\n",
    "# Plot the confusion matrix using a heatmap\n",
    "plt.figure(figsize=(10, 8))\n",
    "sns.heatmap(cm, annot=True, fmt='d', cmap='Blues',\n",
    "            xticklabels=label_names, yticklabels=label_names)\n",
    "plt.title('Confusion Matrix')\n",
    "plt.ylabel('Actual Label')\n",
    "plt.xlabel('Predicted Label')\n",
    "plt.show()"
   ]
  }
 ],
 "metadata": {
  "kernelspec": {
   "display_name": ".tf-env (3.12.3)",
   "language": "python",
   "name": "python3"
  },
  "language_info": {
   "codemirror_mode": {
    "name": "ipython",
    "version": 3
   },
   "file_extension": ".py",
   "mimetype": "text/x-python",
   "name": "python",
   "nbconvert_exporter": "python",
   "pygments_lexer": "ipython3",
   "version": "3.12.3"
  }
 },
 "nbformat": 4,
 "nbformat_minor": 5
}
