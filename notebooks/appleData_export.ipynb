{
 "cells": [
  {
   "cell_type": "markdown",
   "id": "bc8217f2",
   "metadata": {},
   "source": [
    "\n",
    "<p align=\"center\">\n",
    "  <img src=\"images/apple_health_logo.jpg\" alt=\"Health_logo\" width=\"200\"/>\n",
    "</p>\n",
    "\n",
    "\n",
    "# Goal: \n",
    "### Teach how to export health data from Apple Health app in a .zip  "
   ]
  },
  {
   "cell_type": "markdown",
   "id": "1abbf80c",
   "metadata": {},
   "source": [
    "## 1) Navigate to the Apple Health App\n",
    "\n",
    "<p align=\"center\">\n",
    "  <img src=\"images/apple_health_logo.jpg\" alt=\"Health_logo\" width=\"100\"/>\n",
    "</p>"
   ]
  },
  {
   "cell_type": "markdown",
   "id": "1d0ef17c",
   "metadata": {},
   "source": [
    "## 2) Click on Profile Picture \n",
    "\n",
    "<p align=\"center\">\n",
    "  <img src=\"images/aa_click_profile_pic.jpg\" alt=\"profile_pic\" width=\"200\"/>\n",
    "</p>"
   ]
  },
  {
   "cell_type": "markdown",
   "id": "36e52cca",
   "metadata": {},
   "source": [
    "## 3) Navigate to \"Export All Health Data\" \n",
    "\n",
    "<p align=\"center\">\n",
    "  <img src=\"images/ab_click_export.jpg\" alt=\"export_all\" width=\"200\"/>\n",
    "</p>"
   ]
  },
  {
   "cell_type": "markdown",
   "id": "ac6dccee",
   "metadata": {},
   "source": [
    "### **Zoomed View**\n",
    "\n",
    "<p align=\"center\">\n",
    "  <img src=\"images/ac_export_file.jpg\" alt=\"export_all_1\" width=\"400\"/>\n",
    "</p>"
   ]
  },
  {
   "cell_type": "markdown",
   "id": "b78ef20c",
   "metadata": {},
   "source": [
    "### **Second Export View - Click Export again**\n",
    "\n",
    "<p align=\"center\">\n",
    "  <img src=\"images/ad_hit_export.jpg\" alt=\"export_all_2\" width=\"200\"/>\n",
    "</p>"
   ]
  },
  {
   "cell_type": "markdown",
   "id": "5e3ea4a5",
   "metadata": {},
   "source": [
    "### **Export Preparing**\n",
    "\n",
    "<p align=\"center\">\n",
    "  <img src=\"images/ae_export_processing.jpg\" alt=\"export_processing\" width=\"200\"/>\n",
    "</p>"
   ]
  },
  {
   "cell_type": "markdown",
   "id": "73a8cf1e",
   "metadata": {},
   "source": [
    "## 4) Export File to trusted method\n",
    "\n",
    "**I export to save files and navigate my icloud files on my windows pc** \n",
    "\n",
    "**I doubt this is the most secure way to handle your data**\n",
    "\n",
    "<p align=\"center\">\n",
    "  <img src=\"images/af_save_to_files.jpg\" alt=\"save_file\" width=\"200\"/>\n",
    "</p>"
   ]
  },
  {
   "cell_type": "markdown",
   "id": "e4c38b90",
   "metadata": {},
   "source": [
    "## 5) Be Sure export.zip file is in the same file directory as the main.py, cnnfunctions.py scripts for the script to work."
   ]
  },
  {
   "cell_type": "markdown",
   "id": "89ec7f26",
   "metadata": {},
   "source": [
    "\"\"\"\n",
    "\n",
    "CLI:\n",
    "\n",
    "*(virtual-env) wsluser@yoga:~/workspace/github.com/github_username/ekg_applewatch$ python3 main.py export.zip\n",
    "\n",
    "\n",
    "After the $ symbolin the CML you pass the arguments: \"python3\" \"main.py\" \"your_apple_export.zip\" (see example above)\n",
    "\n",
    "\"\"\""
   ]
  }
 ],
 "metadata": {
  "language_info": {
   "name": "python"
  }
 },
 "nbformat": 4,
 "nbformat_minor": 5
}
