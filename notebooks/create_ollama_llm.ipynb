{
 "cells": [
  {
   "cell_type": "markdown",
   "id": "b2d1b40a",
   "metadata": {},
   "source": [
    "<p align=\"center\">\n",
    "  <img src=\"images/Screenshot_ollama.jpeg\" alt=\"ollama_logo\" width=\"100\"/>\n",
    "   &nbsp;&nbsp;&nbsp;&nbsp;&nbsp;&nbsp;&nbsp;&nbsp;&nbsp;&nbsp;&nbsp;&nbsp;&nbsp;&nbsp;\n",
    "  <img src=\"images/Screenshot_ubuntu.png\" alt=\"ubuntu_logo\" width=\"100\"/>\n",
    "</p>\n",
    "\n",
    "# Goal of This Notebook:\n",
    "## Present the Ollama local model I used to interpret the Apple Watch outputs and the EKG_CNN prediction outputs and return a report paragraph\n",
    "\n",
    "* 1) Explain how to use the Ubuntu Command Line Interface (CLI) to interact with Ollama.\n",
    "\n",
    "* 2) Provide the code to create a custom Ollama model (ekgllm) using a Modelfile.\n",
    "\n",
    "* 3) Show how to run and interact with the model.\n",
    "\n"
   ]
  },
  {
   "cell_type": "markdown",
   "id": "de0d2e90",
   "metadata": {},
   "source": [
    "## 1. Using the Ubuntu Command Line with Ollama\n",
    "Ollama is primarily a command-line tool. All the commands in this notebook are designed to be run from your Ubuntu terminal.\n"
   ]
  },
  {
   "cell_type": "markdown",
   "id": "b5df23d3",
   "metadata": {},
   "source": [
    "* https://ollama.com/"
   ]
  },
  {
   "cell_type": "markdown",
   "id": "d9ae2d68",
   "metadata": {},
   "source": [
    "**I would strongly recommend The Ollama Course:Basics**\n",
    "\n",
    "This is a youtube playlist by Matt Williams. It really helps to watch these videos as guidance for ollama use.\n",
    "\n",
    "https://www.youtube.com/watch?v=9KEUFe4KQAI&list=PLvsHpqLkpw0fIT-WbjY-xBRxTftjwiTLB"
   ]
  },
  {
   "cell_type": "markdown",
   "id": "384f4d38",
   "metadata": {},
   "source": [
    "<p align=\"center\">\n",
    "  <img src=\"images/Screenshot_ollama_download.png\" alt=\"ollama_download\" width=\"900\"/>\n",
    "</p>\n",
    "\n",
    "* (pic from) https://github.com/ollama/ollama?tab=readme-ov-file\n",
    "* (manual instructions link) https://github.com/ollama/ollama/blob/main/docs/linux.md"
   ]
  },
  {
   "cell_type": "markdown",
   "id": "ead16406",
   "metadata": {},
   "source": [
    "## 2) Once Ollama is downloaded it is time to find the model to use.\n",
    " I used llama3.1:8b.  This was a larger model for my computer and I had to have to have plenty of memory available to run the script with this model. I tried smaller models but had a difficult time getting an accurate output. \n",
    "\n",
    "\n",
    "##### **Example model download command**\n",
    " <p align=\"center\">\n",
    "  <img src=\"images/Screenshot_llama_download.png\" alt=\"downloadmodelcommand\" width=\"400\"/>\n",
    "</p>\n"
   ]
  },
  {
   "cell_type": "markdown",
   "id": "a9ff3319",
   "metadata": {},
   "source": [
    "#### **Model information page**\n",
    "\n",
    "**Download command in top right**\n",
    "<p align=\"center\">\n",
    "  <img src=\"images/Screenshot_llama3.jpeg\" alt=\"llama_model\" width=\"700\"/>\n",
    "</p>\n",
    "\n",
    "https://ollama.com/library/llama3.1:8b"
   ]
  },
  {
   "cell_type": "markdown",
   "id": "4ebdc2c9",
   "metadata": {},
   "source": [
    "## 3) Create a Modelfile\n",
    "Once Ollama and the selected model are local, create a Modelfile. This github supplies the one I created.\n",
    "  \n",
    "\"ekgmodelfile\" [ekgmodelfile](https://github.com/bretttay24/ekg_applewatch/blob/main/ekgmodelfile)\n",
    "\n",
    "- Once the modelfile is open first add \"FROM llama3.1:8b \"  or \"From {exact model name from ollama}\"\n",
    "\n",
    "- Next provide a System prompt in the format of SYSTEM \"\"\" {system prompt} \"\"\"   \n",
    "\n",
    "- My system prompt explains a role,  exactly what the input from the generated report will be like and thow I want the LLM to respond."
   ]
  },
  {
   "cell_type": "markdown",
   "id": "519384c0",
   "metadata": {},
   "source": [
    "### Example of my file:\n",
    "\n",
    "\n",
    "<p align=\"center\">\n",
    "  <img src=\"images/Screenshot_ekgmodelfile.png\" alt=\"ekgmodelfile\" width=\"400\"/>\n",
    "</p>\n",
    "\n",
    "\n",
    "[ekgmodelfile](https://github.com/bretttay24/ekg_applewatch/blob/main/ekgmodelfile)\n",
    "\n",
    " \n",
    "\n",
    "\n"
   ]
  },
  {
   "cell_type": "markdown",
   "id": "baf0c52c",
   "metadata": {},
   "source": [
    "## 4) Create custom local LLM\n",
    "- Use the ollama 'create' command to create the local LLM, combining the chosen imported LLM (mine was llama3.1:8b) and provide the system prompt file (mine was 'ekgmodelfile').\n",
    "\n",
    "- https://youtu.be/luH9j_eOEi4?list=PLvsHpqLkpw0fIT-WbjY-xBRxTftjwiTLB&t=128 (link to Matt Williams video The Ollama Course - Using the CLI)"
   ]
  },
  {
   "cell_type": "markdown",
   "id": "6cfef6b5",
   "metadata": {},
   "source": [
    "**Example CLI command**\n",
    "<p align=\"center\">\n",
    "  <img src=\"images/Screenshot_create_command.png\" alt=\"createcommand\" width=\"400\"/>\n",
    "</p> "
   ]
  },
  {
   "cell_type": "markdown",
   "id": "f5782c2b",
   "metadata": {},
   "source": [
    "- **In the place of 'ekgllm' name the LLM**\n",
    "- **In the place of 'Modelfile' name the intended modelfile**   "
   ]
  },
  {
   "cell_type": "markdown",
   "id": "43f19182",
   "metadata": {},
   "source": [
    "## 5) The created model is used in [main.py](https://github.com/bretttay24/ekg_applewatch/blob/main/main.py)\n",
    "\n",
    "**The custom model is called upon in my script to generate a report.**\n",
    "\n",
    "<p align=\"center\">\n",
    "  <img src=\"images/Screenshot_defineLLM.png\" alt=\"definellm\" width=\"400\"/>\n",
    "</p> "
   ]
  },
  {
   "cell_type": "markdown",
   "id": "44ea67d4",
   "metadata": {},
   "source": []
  }
 ],
 "metadata": {
  "language_info": {
   "name": "python"
  }
 },
 "nbformat": 4,
 "nbformat_minor": 5
}
