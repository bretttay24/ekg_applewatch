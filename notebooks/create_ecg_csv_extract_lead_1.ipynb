{
 "cells": [
  {
   "cell_type": "markdown",
   "id": "20353c43",
   "metadata": {},
   "source": [
    "# Goal of this notebook: \n",
    "### Create a Dataframe that maps file_name, rhythm_label, EKG_lead_1_values.\n",
    "**I work with the Diagnostics.xlsx and ECGDataDenoised.zip files provided by the authors**\n",
    "\n",
    "**Process:**\n",
    "\n",
    "**1. Process the Diagnostic.xlsx file (this file maps ecg file name with labeled heart rhythm)**\n",
    "\n",
    "**2. Unzip ECGDataDenoised.zip and unload the 10646 .csv files with 12 lead ECG readings.** \n",
    "**(names of these files correlate to Diagnostic.xlsx in step 1)**\n",
    "\n",
    "**3. Extract Lead 1 data from 12 lead ECG reading csv and create ECG Dictionary/Dataframe.**\n",
    " - This created dictionary has file name mapped to rhythm label and the ecg microvolt readings (a list of floats stored as string)\n",
    " - Lead 1 is what an apple watch would use for an EKG\n",
    " \n",
    "**4. Save new ECG Dictionary/Dataframe as CSV**"
   ]
  },
  {
   "cell_type": "markdown",
   "id": "a6132ae8",
   "metadata": {},
   "source": [
    "## About the dataset\n",
    "### **Datasets**: **A 12-lead electrocardiogram database for arrhythmia research covering more than 10,000 patients**\n",
    "\n",
    "\"Description:\n",
    "This newly inaugurated research database for 12-lead electrocardiogram signals was created under the auspices of Chapman University and Shaoxing People's Hospital (Shaoxing Hospital Zhejiang University School of Medicine) and aims at enabling the scientific community in conducting new studies on arrhythmia and other cardiovascular conditions. Certain types of arrhythmias, such as atrial fibrillation, have a pronounced negative impact on public health, quality of life, and medical expenditures. As a non-invasive test, the long term ECG monitoring is a major and vital diagnostic tool for detecting these conditions. However, such a practice generates a considerable amount of data that analyzes of which require considerable time and effort by human experts. Advancement of modern machine learning and statistical tools can be trained on high quality, large data to achieve high levels of automated diagnostic accuracy. Thus, we collected and disseminated this novel database that contains 12-lead ECGs of 10,646 patients with 500 Hz sampling rate that features 11 common rhythms and 67 additional cardiovascular conditions, all labeled by professional experts. For each subject, a sample size of 10 seconds (12-dimension 5000 samples) was available. The dataset can be used to design, compare, and fine tune new and classical statistical and machine learning techniques in studies focused on arrhythmia and other cardiovascular conditions.\""
   ]
  },
  {
   "cell_type": "markdown",
   "id": "4239229b",
   "metadata": {},
   "source": [
    "\n",
    "**Dataset Citation:**\n",
    "\n",
    "Zheng, Jianwei; Rakovski, Cyril; Danioko, Sidy; Zhang, Jianming; Yao, Hai; Hangyuan, Guo (2019). A 12-lead electrocardiogram database for arrhythmia research covering more than 10,000 patients. figshare. Collection. https://doi.org/10.6084/m9.figshare.c.4560497\n",
    "\n",
    "Zheng, Jianwei (2019). ECGDataDenoised.zip. figshare. Dataset. https://doi.org/10.6084/m9.figshare.8378291.v1\n",
    "\n",
    "Zheng, Jianwei (2019). Diagnostics.xlsx. figshare. Dataset. https://doi.org/10.6084/m9.figshare.8360408.v2"
   ]
  },
  {
   "cell_type": "markdown",
   "id": "48076a6d",
   "metadata": {},
   "source": [
    "### Import Packages"
   ]
  },
  {
   "cell_type": "code",
   "execution_count": null,
   "id": "cdb48c20",
   "metadata": {},
   "outputs": [],
   "source": [
    "import pandas as pd\n",
    "import zipfile\n",
    "import os\n",
    "import io"
   ]
  },
  {
   "cell_type": "markdown",
   "id": "cc8406ef",
   "metadata": {},
   "source": [
    "### Create file paths to ECGDataDenoised.zip and Diagnostics.xlsx\n",
    "** Define a file path for each variable in the cell below!!*"
   ]
  },
  {
   "cell_type": "code",
   "execution_count": null,
   "id": "f1e888aa",
   "metadata": {},
   "outputs": [],
   "source": [
    "zip_file_path = r'file_path_to\\ECGDataDenoised.zip'         # This is the file path to the raw values of ekgs readings in microvolts that are taken 500 times a second\n",
    "diagnostic_file_path = r'file_path_to\\Diagnostics.xlsx'     # This is the label that the creators of the dataset gave to each ekg. They associate a label to file name"
   ]
  },
  {
   "cell_type": "markdown",
   "id": "86077de5",
   "metadata": {},
   "source": [
    "### 1. Process the Diagnostic.xlsx file\n",
    "**This file maps each of the 'FileName' to a heart 'Rhythm' labeled by an expert.** "
   ]
  },
  {
   "cell_type": "code",
   "execution_count": null,
   "id": "8a9ffda6",
   "metadata": {},
   "outputs": [],
   "source": [
    "# Creates dataframe extracting the file name and the heart rhythm label for the file\n",
    "# As mentioned in comment above this will be a file name with a labelfor heart rhythm\n",
    "diagnostics_df = pd.read_excel(diagnostic_file_path, usecols=\"A,B\", header=0) "
   ]
  },
  {
   "cell_type": "code",
   "execution_count": null,
   "id": "5043c73d",
   "metadata": {},
   "outputs": [],
   "source": [
    "diagnostics_df.head() # View head of DF"
   ]
  },
  {
   "cell_type": "markdown",
   "id": "48222c62",
   "metadata": {},
   "source": [
    "### 2. Unzip ECGDataDenoised.zip\n",
    "**Unzipping will create over 10,000 .csv files each with an individual ECGs microvolts values (500 readings/second for 10 seconds on 12 leads)**\n",
    "\n"
   ]
  },
  {
   "cell_type": "code",
   "execution_count": null,
   "id": "10ef343c",
   "metadata": {},
   "outputs": [],
   "source": [
    "# ----- Unzip ECGDataDenoised.zip -----\n",
    "# Create a directory to extract the CSVs into\n",
    "\n",
    "output_dir = r'put_your_own_output_directory_here'  # ---!! Define your own path to an put directory for the 10,000 12 lead ekg csv!!--\n",
    "\n",
    "os.makedirs(output_dir, exist_ok=True)              # Create directory or verify it is there\n",
    "\n",
    "with zipfile.ZipFile(zip_file_path, 'r') as zip_ref: # extract all files from zip to output directory\n",
    "    zip_ref.extractall(output_dir)\n",
    "\n",
    "print(f\"Extracted ECG CSVs to: {output_dir}\")"
   ]
  },
  {
   "cell_type": "markdown",
   "id": "93927cb5",
   "metadata": {},
   "source": [
    "### 3. Extract Lead 1 From 12 lead ECG values csv and create ECG Dictionary/Dataframe.\n",
    "\n",
    "#### **!!! --- The 12 leads are not labeled in the excel format. I am assuming the column A, is Lead 1 --- !!!**\n",
    "\n",
    "**This is an assumption and not verified with authors of paper**"
   ]
  },
  {
   "cell_type": "code",
   "execution_count": null,
   "id": "1bf0ac02",
   "metadata": {},
   "outputs": [],
   "source": [
    "\n",
    "# Initialize an empty list to store our processed EKG data and labels\n",
    "ekg_dataset = []\n",
    "\n",
    "# Get a list of all CSV files in the extracted directory\n",
    "ecg_files = [f for f in os.listdir(output_dir) if f.endswith('.csv')]  # This will return a list of directory of the 12lead csv files extracted above\n",
    "\n",
    "# Iterate through each ECG CSV file\n",
    "for ecg_file in ecg_files:\n",
    "    file_name_without_ext = os.path.splitext(ecg_file)[0]\n",
    "\n",
    "    # Find the corresponding rhythm from the diagnostics DataFrame\n",
    "    rhythm_entry = diagnostics_df[diagnostics_df['FileName'] == file_name_without_ext]\n",
    "\n",
    "    if not rhythm_entry.empty:\n",
    "        rhythm = rhythm_entry['Rhythm'].iloc[0]\n",
    "\n",
    "        # Construct the full path to the CSV file\n",
    "        csv_path = os.path.join(output_dir, ecg_file)\n",
    "\n",
    "        try:\n",
    "            # Read only the first column of the CSV (assuming it's Lead 1)\n",
    "            # Since there are no headers, we'll read it without header and select the first column by index\n",
    "            ecg_data = pd.read_csv(csv_path, header=None, usecols=[0])\n",
    "\n",
    "            # Ensure 5000 values are present\n",
    "            if len(ecg_data) == 5000:\n",
    "                # Store the filename, rhythm, and Lead 1 data\n",
    "                ekg_dataset.append({\n",
    "                    'file_name': file_name_without_ext,\n",
    "                    'rhythm': rhythm,\n",
    "                    'lead_1_data': ecg_data[0].tolist() # Convert to list for easier handling\n",
    "                })\n",
    "            else:\n",
    "                print(f\"Skipping {ecg_file}: Expected 5000 values, but found {len(ecg_data)}\")\n",
    "        except Exception as e:\n",
    "            print(f\"Error processing {ecg_file}: {e}\")\n",
    "    else:\n",
    "        print(f\"No rhythm found for {file_name_without_ext} in Diagnostics.xlsx\")\n",
    "\n",
    "\n",
    "\n",
    "# Convert the list of dictionaries to a DataFrame (optional, but good for further analysis)\n",
    "final_ekg_df = pd.DataFrame(ekg_dataset)\n",
    "\n",
    "print(f\"\\nCreated dataset with {len(final_ekg_df)} entries.\")\n",
    "print(\"Example of a processed entry:\")\n",
    "if not final_ekg_df.empty:\n",
    "    print(final_ekg_df.iloc[0])"
   ]
  },
  {
   "cell_type": "code",
   "execution_count": null,
   "id": "6c6f546e",
   "metadata": {},
   "outputs": [],
   "source": [
    "final_ekg_df.head() # View dataframe"
   ]
  },
  {
   "cell_type": "markdown",
   "id": "3f7035c4",
   "metadata": {},
   "source": [
    "### 4. Save new ECG Dataframe as CSV"
   ]
  },
  {
   "cell_type": "code",
   "execution_count": null,
   "id": "fa7c92b9",
   "metadata": {},
   "outputs": [],
   "source": [
    "output_csv_path = r'paht_to_your\\processed_ecg_data.csv' # Define a path that your want the newly created CSV to be stored. \n",
    "final_ekg_df.to_csv(output_csv_path, index=False)        # converts the dataframe to a csv file located at the path defined above.\n",
    "\n",
    "print(f\"DataFrame saved to: {output_csv_path}\")"
   ]
  },
  {
   "cell_type": "code",
   "execution_count": null,
   "id": "562e4ae1",
   "metadata": {},
   "outputs": [],
   "source": []
  }
 ],
 "metadata": {
  "kernelspec": {
   "display_name": "Python 3",
   "language": "python",
   "name": "python3"
  },
  "language_info": {
   "codemirror_mode": {
    "name": "ipython",
    "version": 3
   },
   "file_extension": ".py",
   "mimetype": "text/x-python",
   "name": "python",
   "nbconvert_exporter": "python",
   "pygments_lexer": "ipython3",
   "version": "3.12.10"
  }
 },
 "nbformat": 4,
 "nbformat_minor": 5
}
