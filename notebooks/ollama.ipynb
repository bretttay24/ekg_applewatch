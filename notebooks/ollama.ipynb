{
 "cells": [
  {
   "cell_type": "markdown",
   "id": "b2d1b40a",
   "metadata": {},
   "source": [
    "This notebook is "
   ]
  },
  {
   "cell_type": "code",
   "execution_count": null,
   "id": "b4125774",
   "metadata": {},
   "outputs": [],
   "source": []
  }
 ],
 "metadata": {
  "language_info": {
   "name": "python"
  }
 },
 "nbformat": 4,
 "nbformat_minor": 5
}
